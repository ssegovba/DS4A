{
 "cells": [
  {
   "cell_type": "markdown",
   "metadata": {
    "deletable": false,
    "editable": false,
    "nbgrader": {
     "cell_type": "markdown",
     "checksum": "5f8a0453308a9869e555b532451f1877",
     "grade": false,
     "grade_id": "cell-baec21b6430a0b5d",
     "locked": true,
     "schema_version": 3,
     "solution": false,
     "task": false
    }
   },
   "source": [
    "# How can we control the increasing number of accidents in New York?"
   ]
  },
  {
   "cell_type": "code",
   "execution_count": 1,
   "metadata": {
    "deletable": false,
    "editable": false,
    "nbgrader": {
     "cell_type": "code",
     "checksum": "449434789802ff028b1a74a32687c221",
     "grade": false,
     "grade_id": "cell-25c879fc483dae29",
     "locked": true,
     "schema_version": 3,
     "solution": false,
     "task": false
    }
   },
   "outputs": [],
   "source": [
    "import json\n",
    "import pandas as pd\n",
    "import matplotlib.pyplot as plt\n",
    "import seaborn as sns\n",
    "import numpy as np\n",
    "import base64"
   ]
  },
  {
   "cell_type": "markdown",
   "metadata": {
    "deletable": false,
    "editable": false,
    "nbgrader": {
     "cell_type": "markdown",
     "checksum": "11e8fc3fb7c21749d8256d26790a7c29",
     "grade": false,
     "grade_id": "cell-c8cd80e3119bd3da",
     "locked": true,
     "schema_version": 3,
     "solution": false,
     "task": false
    }
   },
   "source": [
    "## Introduction\n",
    "\n",
    "**Business Context.** The city of New York has seen a rise in the number of accidents on the roads in the city. They would like to know if the number of accidents have increased in the last few weeks. For all the reported accidents, they have collected details for each accident and have been maintaining records for the past year and a half (from January 2018 to August 2019). \n",
    "\n",
    "The city has contracted you to build visualizations that would help them identify patterns in accidents, which would help them take preventive actions to reduce the number of accidents in the future. They have certain parameters like borough, time of day, reason for accident, etc. Which they care about and which they would like to get specific information on.\n",
    "\n",
    "**Business Problem.** Your task is to format the given data and provide visualizations that would answer the specific questions the client has, which are mentioned below.\n",
    "\n",
    "**Analytical Context.** You are given a CSV file (stored in the already created ```data``` folder) containing details about each accident like date, time, location of the accident, reason for the accident, types of vehicles involved, injury and death count, etc. The delimiter in the given CSV file is `;` instead of the default `,`. You will be performing the following tasks on the data:\n",
    "\n",
    "1. Extract additional borough data stored in a JSON file\n",
    "2. Read, transform, and prepare data for visualization\n",
    "3. Perform analytics and construct visualizations of the data to identify patterns in the dataset\n",
    "        \n",
    "The client has a specific set of questions they would like to get answers to. You will need to provide visualizations to accompany these:\n",
    "\n",
    "1. How have the number of accidents fluctuated over the past year and a half? Have they increased over the time?\n",
    "2. For any particular day, during which hours are accidents most likely to occur?\n",
    "3. Are there more accidents on weekdays than weekends?\n",
    "4. What are the accidents count-to-area ratio per borough? Which boroughs have disproportionately large numbers of accidents for their size?\n",
    "5. For each borough, during which hours are accidents most likely to occur?\n",
    "6. What are the top 5 causes of accidents in the city? \n",
    "7. What types of vehicles are most involved in accidents per borough?\n",
    "8. What types of vehicles are most involved in deaths?\n",
    "\n",
    "**Note:** To solve this extended case, please read the function docstrings **very carefully**. They contain information that you will need! Also, please don't include `print()` statements inside your functions (they will most likely produce an error in the test cells). Finally, for the purposes of this case, do not worry about standardizing text variables - for example, treat `taxi` and `Taxi` as though they were different values (you will learn how to standardize text later on in the program)."
   ]
  },
  {
   "cell_type": "markdown",
   "metadata": {
    "deletable": false,
    "editable": false,
    "nbgrader": {
     "cell_type": "markdown",
     "checksum": "5f7bb8a18eba31a5f1991d85dac077d8",
     "grade": false,
     "grade_id": "cell-70d08a0bd2b05b7b",
     "locked": true,
     "schema_version": 3,
     "solution": false,
     "task": false
    }
   },
   "source": [
    "## Fetching the relevant data\n",
    "\n",
    "The client has requested analysis of the accidents-to-area ratio for boroughs. Borough data is stored in a JSON file in the ```data``` folder (this file was created using data from [Wikipedia](https://en.wikipedia.org/wiki/Boroughs_of_New_York_City))."
   ]
  },
  {
   "cell_type": "markdown",
   "metadata": {
    "deletable": false,
    "editable": false,
    "nbgrader": {
     "cell_type": "markdown",
     "checksum": "7c66b65c95fe8dc5047d5a2d3d244cae",
     "grade": false,
     "grade_id": "cell-03024018922a920e",
     "locked": true,
     "schema_version": 3,
     "solution": false,
     "task": false
    },
    "tags": [
     "5_min"
    ]
   },
   "source": [
    "### Question\n",
    "\n",
    "Use the function ```json.load()``` to load the file ```borough_data.json``` as a dictionary."
   ]
  },
  {
   "cell_type": "markdown",
   "metadata": {
    "deletable": false,
    "editable": false,
    "nbgrader": {
     "cell_type": "markdown",
     "checksum": "f71dd0f114b91c6b6b45fc42cf97a3f1",
     "grade": false,
     "grade_id": "cell-f9d16d6ed3e0570f",
     "locked": true,
     "schema_version": 3,
     "solution": false,
     "task": false
    }
   },
   "source": [
    "**Answer.** One possible solution is given below:"
   ]
  },
  {
   "cell_type": "code",
   "execution_count": 2,
   "metadata": {
    "deletable": false,
    "editable": false,
    "nbgrader": {
     "cell_type": "code",
     "checksum": "07808483a25d20ffca9e1df3c0cbe35c",
     "grade": false,
     "grade_id": "cell-92d2a3461441cf8f",
     "locked": true,
     "schema_version": 3,
     "solution": false,
     "task": false
    }
   },
   "outputs": [
    {
     "data": {
      "text/plain": [
       "{'the bronx': {'name': 'the bronx', 'population': 1471160.0, 'area': 42.1},\n",
       " 'brooklyn': {'name': 'brooklyn', 'population': 2648771.0, 'area': 70.82},\n",
       " 'manhattan': {'name': 'manhattan', 'population': 1664727.0, 'area': 22.83},\n",
       " 'queens': {'name': 'queens', 'population': 2358582.0, 'area': 108.53},\n",
       " 'staten island': {'name': 'staten island',\n",
       "  'population': 479458.0,\n",
       "  'area': 58.37}}"
      ]
     },
     "execution_count": 2,
     "metadata": {},
     "output_type": "execute_result"
    }
   ],
   "source": [
    "with open('data/borough_data.json') as f:\n",
    "    borough_data=json.load(f)\n",
    "borough_data"
   ]
  },
  {
   "cell_type": "markdown",
   "metadata": {
    "deletable": false,
    "editable": false,
    "nbgrader": {
     "cell_type": "markdown",
     "checksum": "ebf40f73ed62ec2e1acade6995819394",
     "grade": false,
     "grade_id": "cell-8726ed13ca1fc4b8",
     "locked": true,
     "schema_version": 3,
     "solution": false,
     "task": false
    },
    "tags": [
     "5_min"
    ]
   },
   "source": [
    "### Question\n",
    "\n",
    "Similarly, use the `pandas` function ```read_csv()``` to load the file ```accidents.csv``` as a DataFrame. Name this DataFrame ```df```. "
   ]
  },
  {
   "cell_type": "markdown",
   "metadata": {
    "deletable": false,
    "editable": false,
    "nbgrader": {
     "cell_type": "markdown",
     "checksum": "2789999944ab4632b843a9e118f89baa",
     "grade": false,
     "grade_id": "cell-6c149306cdaba5e2",
     "locked": true,
     "schema_version": 3,
     "solution": false,
     "task": false
    }
   },
   "source": [
    "**Answer.** One possible solution is given below:"
   ]
  },
  {
   "cell_type": "code",
   "execution_count": 3,
   "metadata": {
    "deletable": false,
    "editable": false,
    "nbgrader": {
     "cell_type": "code",
     "checksum": "6ae64aa6ce9081ddc71e11fe6cd6f327",
     "grade": false,
     "grade_id": "cell-452bccc1dd49b599",
     "locked": true,
     "schema_version": 3,
     "solution": false,
     "task": false
    }
   },
   "outputs": [],
   "source": [
    "with open('data/accidents.csv') as f:\n",
    "    df=pd.read_csv(f, delimiter=';')"
   ]
  },
  {
   "cell_type": "markdown",
   "metadata": {
    "deletable": false,
    "editable": false,
    "nbgrader": {
     "cell_type": "markdown",
     "checksum": "be3f23e895ed7fd3063ee54241950687",
     "grade": false,
     "grade_id": "cell-4bb4232cd61a3b75",
     "locked": true,
     "schema_version": 3,
     "solution": false,
     "task": false
    }
   },
   "source": [
    "## Overview of the data\n",
    "\n",
    "Let's go through the columns present in the DataFrame:"
   ]
  },
  {
   "cell_type": "code",
   "execution_count": 4,
   "metadata": {
    "deletable": false,
    "editable": false,
    "nbgrader": {
     "cell_type": "code",
     "checksum": "d7c085afa07bd946d03830726e175ea6",
     "grade": false,
     "grade_id": "cell-b3d44ba2d19eaf68",
     "locked": true,
     "schema_version": 3,
     "solution": false,
     "task": false
    }
   },
   "outputs": [
    {
     "data": {
      "text/plain": [
       "Index(['DATE', 'TIME', 'BOROUGH', 'ZIP CODE', 'LATITUDE', 'LONGITUDE',\n",
       "       'ON STREET NAME', 'NUMBER OF PEDESTRIANS INJURED',\n",
       "       'NUMBER OF PEDESTRIANS KILLED', 'NUMBER OF CYCLIST INJURED',\n",
       "       'NUMBER OF CYCLIST KILLED', 'NUMBER OF MOTORIST INJURED',\n",
       "       'NUMBER OF MOTORIST KILLED', 'CONTRIBUTING FACTOR VEHICLE 1',\n",
       "       'CONTRIBUTING FACTOR VEHICLE 2', 'CONTRIBUTING FACTOR VEHICLE 3',\n",
       "       'CONTRIBUTING FACTOR VEHICLE 4', 'CONTRIBUTING FACTOR VEHICLE 5',\n",
       "       'COLLISION_ID', 'VEHICLE TYPE CODE 1', 'VEHICLE TYPE CODE 2',\n",
       "       'VEHICLE TYPE CODE 3', 'VEHICLE TYPE CODE 4', 'VEHICLE TYPE CODE 5'],\n",
       "      dtype='object')"
      ]
     },
     "execution_count": 4,
     "metadata": {},
     "output_type": "execute_result"
    }
   ],
   "source": [
    "df.columns"
   ]
  },
  {
   "cell_type": "markdown",
   "metadata": {
    "deletable": false,
    "editable": false,
    "nbgrader": {
     "cell_type": "markdown",
     "checksum": "6aea70e3a9dfdc84f8d6fa2a8b0415d5",
     "grade": false,
     "grade_id": "cell-9ea9fcbd9ca91b67",
     "locked": true,
     "schema_version": 3,
     "solution": false,
     "task": false
    }
   },
   "source": [
    "We have the following columns:\n",
    "\n",
    "1. **BOROUGH**: The borough in which the accident occurred\n",
    "2. **COLLISION_ID**: A unique identifier for this collision\n",
    "3. **CONTRIBUTING FACTOR VEHICLE (1, 2, 3, 4, 5)**: Reasons for the accident\n",
    "4. **CROSS STREET NAME**: Nearest cross street to the location of the accident\n",
    "5. **DATE**: Date of the accident\n",
    "6. **TIME**: Time of the accident\n",
    "7. **LATITUDE**: Latitude of the accident\n",
    "8. **LONGITUDE**: Longitude of the accident\n",
    "9. **NUMBER OF (CYCLISTS, MOTORISTS, PEDESTRIANS) INJURED**: Injuries by category\n",
    "10. **NUMBER OF (CYCLISTS, MOTORISTS, PEDESTRIANS) KILLED**: Deaths by category\n",
    "11. **ON STREET NAME**: Street where the accident occurred\n",
    "13. **VEHICLE TYPE CODE (1, 2, 3, 4, 5)**: Types of vehicles involved in the accident\n",
    "14. **ZIP CODE**: Zip code of the accident location"
   ]
  },
  {
   "cell_type": "markdown",
   "metadata": {
    "deletable": false,
    "editable": false,
    "nbgrader": {
     "cell_type": "markdown",
     "checksum": "b9ec899f87576c27a01c2489b3b077f2",
     "grade": false,
     "grade_id": "cell-37d76b97293b8df9",
     "locked": true,
     "points": 2,
     "schema_version": 3,
     "solution": false,
     "task": true
    },
    "tags": [
     "15_min"
    ]
   },
   "source": [
    "### Exercise 1\n",
    "\n",
    "Since 2014, New York City has been implementing a road safety plan named [Vision Zero](https://www1.nyc.gov/content/visionzero/pages/). It aims to reduce the number of traffic deaths to *zero* by the end of 2024. The plan is creating new and enhancing current safety measures, some of these include:\n",
    "\n",
    "<ul>\n",
    "A. Automated pedestrian detection<br>\n",
    "B. Road safety audits at high risk locations<br>\n",
    "C. Expansion in the cycle track network<br>\n",
    "D. Targeted education and awareness initiatives<br>\n",
    "E. Creation of pedestrian refuge islands<br>\n",
    "F. Launch Integrated Data-Driven Speed Reducer Program (speed humps & speed cushions)<br>\n",
    "</ul>\n",
    "\n",
    "Which of these initiatives could directly benefit from an analysis of the data provided?\n",
    "\n",
    "**Note:** In this notebook, whenever you are asked to write text, use the cell below the question cell to write your answer there. If you write in the same cell as the question, your answer will not be recorded.\n"
   ]
  },
  {
   "cell_type": "markdown",
   "metadata": {},
   "source": [
    "I would say that most of all **B** (*road safety audits at high risk locations*), because the data provided let us know exactly where the accidents occurred, and hence determine the high risk locations all around New York City, or even at any particular borough or area using the zip code.\n",
    "\n",
    "On the other hand, options **C** (*expansion in the cycle track network*) and **D** (*targeted education and awareness initiatives*) could also benefit from a simple EDA (exploratory data analysis) since we could identify the locations where accidents involving cyclist occurred, allowing us to identify potential areas to expand the cycle track network, and the data also let us know which are the contributing factors of the accidents, letting us know if some educational campaign is needed to reduce the incidence of this events."
   ]
  },
  {
   "cell_type": "markdown",
   "metadata": {
    "deletable": false,
    "editable": false,
    "nbgrader": {
     "cell_type": "markdown",
     "checksum": "76e33f25e349760c6e03bb3c65017f61",
     "grade": false,
     "grade_id": "cell-322e46a25360428f",
     "locked": true,
     "schema_version": 3,
     "solution": false,
     "task": false
    }
   },
   "source": [
    "## Answering the client's questions\n",
    "\n",
    "Let's go ahead and answer each of the client's questions."
   ]
  },
  {
   "cell_type": "code",
   "execution_count": 5,
   "metadata": {},
   "outputs": [
    {
     "data": {
      "text/plain": [
       "(238522, 24)"
      ]
     },
     "execution_count": 5,
     "metadata": {},
     "output_type": "execute_result"
    }
   ],
   "source": [
    "df.shape"
   ]
  },
  {
   "cell_type": "code",
   "execution_count": 6,
   "metadata": {},
   "outputs": [
    {
     "data": {
      "text/html": [
       "<div>\n",
       "<style scoped>\n",
       "    .dataframe tbody tr th:only-of-type {\n",
       "        vertical-align: middle;\n",
       "    }\n",
       "\n",
       "    .dataframe tbody tr th {\n",
       "        vertical-align: top;\n",
       "    }\n",
       "\n",
       "    .dataframe thead th {\n",
       "        text-align: right;\n",
       "    }\n",
       "</style>\n",
       "<table border=\"1\" class=\"dataframe\">\n",
       "  <thead>\n",
       "    <tr style=\"text-align: right;\">\n",
       "      <th></th>\n",
       "      <th>DATE</th>\n",
       "      <th>TIME</th>\n",
       "      <th>BOROUGH</th>\n",
       "      <th>ZIP CODE</th>\n",
       "      <th>LATITUDE</th>\n",
       "      <th>LONGITUDE</th>\n",
       "      <th>ON STREET NAME</th>\n",
       "      <th>NUMBER OF PEDESTRIANS INJURED</th>\n",
       "      <th>NUMBER OF PEDESTRIANS KILLED</th>\n",
       "      <th>NUMBER OF CYCLIST INJURED</th>\n",
       "      <th>...</th>\n",
       "      <th>CONTRIBUTING FACTOR VEHICLE 2</th>\n",
       "      <th>CONTRIBUTING FACTOR VEHICLE 3</th>\n",
       "      <th>CONTRIBUTING FACTOR VEHICLE 4</th>\n",
       "      <th>CONTRIBUTING FACTOR VEHICLE 5</th>\n",
       "      <th>COLLISION_ID</th>\n",
       "      <th>VEHICLE TYPE CODE 1</th>\n",
       "      <th>VEHICLE TYPE CODE 2</th>\n",
       "      <th>VEHICLE TYPE CODE 3</th>\n",
       "      <th>VEHICLE TYPE CODE 4</th>\n",
       "      <th>VEHICLE TYPE CODE 5</th>\n",
       "    </tr>\n",
       "  </thead>\n",
       "  <tbody>\n",
       "    <tr>\n",
       "      <th>0</th>\n",
       "      <td>09/26/2018</td>\n",
       "      <td>12:12</td>\n",
       "      <td>BRONX</td>\n",
       "      <td>10454.0</td>\n",
       "      <td>40.808987</td>\n",
       "      <td>-73.911316</td>\n",
       "      <td>NaN</td>\n",
       "      <td>0</td>\n",
       "      <td>0</td>\n",
       "      <td>0</td>\n",
       "      <td>...</td>\n",
       "      <td>NaN</td>\n",
       "      <td>NaN</td>\n",
       "      <td>NaN</td>\n",
       "      <td>NaN</td>\n",
       "      <td>3988123</td>\n",
       "      <td>Sedan</td>\n",
       "      <td>NaN</td>\n",
       "      <td>NaN</td>\n",
       "      <td>NaN</td>\n",
       "      <td>NaN</td>\n",
       "    </tr>\n",
       "    <tr>\n",
       "      <th>1</th>\n",
       "      <td>09/25/2018</td>\n",
       "      <td>16:30</td>\n",
       "      <td>BROOKLYN</td>\n",
       "      <td>11236.0</td>\n",
       "      <td>40.636005</td>\n",
       "      <td>-73.912510</td>\n",
       "      <td>FLATLANDS AVENUE</td>\n",
       "      <td>1</td>\n",
       "      <td>0</td>\n",
       "      <td>0</td>\n",
       "      <td>...</td>\n",
       "      <td>NaN</td>\n",
       "      <td>NaN</td>\n",
       "      <td>NaN</td>\n",
       "      <td>NaN</td>\n",
       "      <td>3987962</td>\n",
       "      <td>Sedan</td>\n",
       "      <td>NaN</td>\n",
       "      <td>NaN</td>\n",
       "      <td>NaN</td>\n",
       "      <td>NaN</td>\n",
       "    </tr>\n",
       "    <tr>\n",
       "      <th>2</th>\n",
       "      <td>08/22/2019</td>\n",
       "      <td>19:30</td>\n",
       "      <td>QUEENS</td>\n",
       "      <td>11101.0</td>\n",
       "      <td>40.755490</td>\n",
       "      <td>-73.939530</td>\n",
       "      <td>NaN</td>\n",
       "      <td>0</td>\n",
       "      <td>0</td>\n",
       "      <td>0</td>\n",
       "      <td>...</td>\n",
       "      <td>NaN</td>\n",
       "      <td>NaN</td>\n",
       "      <td>NaN</td>\n",
       "      <td>NaN</td>\n",
       "      <td>4193132</td>\n",
       "      <td>Sedan</td>\n",
       "      <td>NaN</td>\n",
       "      <td>NaN</td>\n",
       "      <td>NaN</td>\n",
       "      <td>NaN</td>\n",
       "    </tr>\n",
       "    <tr>\n",
       "      <th>3</th>\n",
       "      <td>09/23/2018</td>\n",
       "      <td>13:10</td>\n",
       "      <td>QUEENS</td>\n",
       "      <td>11367.0</td>\n",
       "      <td>NaN</td>\n",
       "      <td>NaN</td>\n",
       "      <td>MAIN STREET</td>\n",
       "      <td>0</td>\n",
       "      <td>0</td>\n",
       "      <td>1</td>\n",
       "      <td>...</td>\n",
       "      <td>Unspecified</td>\n",
       "      <td>NaN</td>\n",
       "      <td>NaN</td>\n",
       "      <td>NaN</td>\n",
       "      <td>3985962</td>\n",
       "      <td>Bike</td>\n",
       "      <td>Station Wagon/Sport Utility Vehicle</td>\n",
       "      <td>NaN</td>\n",
       "      <td>NaN</td>\n",
       "      <td>NaN</td>\n",
       "    </tr>\n",
       "    <tr>\n",
       "      <th>4</th>\n",
       "      <td>08/20/2019</td>\n",
       "      <td>22:40</td>\n",
       "      <td>BRONX</td>\n",
       "      <td>10468.0</td>\n",
       "      <td>40.868336</td>\n",
       "      <td>-73.901270</td>\n",
       "      <td>NaN</td>\n",
       "      <td>0</td>\n",
       "      <td>0</td>\n",
       "      <td>0</td>\n",
       "      <td>...</td>\n",
       "      <td>Unspecified</td>\n",
       "      <td>NaN</td>\n",
       "      <td>NaN</td>\n",
       "      <td>NaN</td>\n",
       "      <td>4192111</td>\n",
       "      <td>Sedan</td>\n",
       "      <td>Sedan</td>\n",
       "      <td>NaN</td>\n",
       "      <td>NaN</td>\n",
       "      <td>NaN</td>\n",
       "    </tr>\n",
       "  </tbody>\n",
       "</table>\n",
       "<p>5 rows × 24 columns</p>\n",
       "</div>"
      ],
      "text/plain": [
       "         DATE   TIME   BOROUGH  ZIP CODE   LATITUDE  LONGITUDE  \\\n",
       "0  09/26/2018  12:12     BRONX   10454.0  40.808987 -73.911316   \n",
       "1  09/25/2018  16:30  BROOKLYN   11236.0  40.636005 -73.912510   \n",
       "2  08/22/2019  19:30    QUEENS   11101.0  40.755490 -73.939530   \n",
       "3  09/23/2018  13:10    QUEENS   11367.0        NaN        NaN   \n",
       "4  08/20/2019  22:40     BRONX   10468.0  40.868336 -73.901270   \n",
       "\n",
       "                     ON STREET NAME  NUMBER OF PEDESTRIANS INJURED  \\\n",
       "0                               NaN                              0   \n",
       "1  FLATLANDS AVENUE                                              1   \n",
       "2                               NaN                              0   \n",
       "3  MAIN STREET                                                   0   \n",
       "4                               NaN                              0   \n",
       "\n",
       "   NUMBER OF PEDESTRIANS KILLED  NUMBER OF CYCLIST INJURED  ...  \\\n",
       "0                             0                          0  ...   \n",
       "1                             0                          0  ...   \n",
       "2                             0                          0  ...   \n",
       "3                             0                          1  ...   \n",
       "4                             0                          0  ...   \n",
       "\n",
       "   CONTRIBUTING FACTOR VEHICLE 2  CONTRIBUTING FACTOR VEHICLE 3  \\\n",
       "0                            NaN                            NaN   \n",
       "1                            NaN                            NaN   \n",
       "2                            NaN                            NaN   \n",
       "3                    Unspecified                            NaN   \n",
       "4                    Unspecified                            NaN   \n",
       "\n",
       "   CONTRIBUTING FACTOR VEHICLE 4 CONTRIBUTING FACTOR VEHICLE 5 COLLISION_ID  \\\n",
       "0                            NaN                           NaN      3988123   \n",
       "1                            NaN                           NaN      3987962   \n",
       "2                            NaN                           NaN      4193132   \n",
       "3                            NaN                           NaN      3985962   \n",
       "4                            NaN                           NaN      4192111   \n",
       "\n",
       "  VEHICLE TYPE CODE 1                  VEHICLE TYPE CODE 2  \\\n",
       "0               Sedan                                  NaN   \n",
       "1               Sedan                                  NaN   \n",
       "2               Sedan                                  NaN   \n",
       "3                Bike  Station Wagon/Sport Utility Vehicle   \n",
       "4               Sedan                                Sedan   \n",
       "\n",
       "  VEHICLE TYPE CODE 3  VEHICLE TYPE CODE 4 VEHICLE TYPE CODE 5  \n",
       "0                 NaN                  NaN                 NaN  \n",
       "1                 NaN                  NaN                 NaN  \n",
       "2                 NaN                  NaN                 NaN  \n",
       "3                 NaN                  NaN                 NaN  \n",
       "4                 NaN                  NaN                 NaN  \n",
       "\n",
       "[5 rows x 24 columns]"
      ]
     },
     "execution_count": 6,
     "metadata": {},
     "output_type": "execute_result"
    }
   ],
   "source": [
    "df.head()"
   ]
  },
  {
   "cell_type": "markdown",
   "metadata": {
    "deletable": false,
    "editable": false,
    "nbgrader": {
     "cell_type": "markdown",
     "checksum": "87d89b4fdd1d14e1d14453d7c5b73518",
     "grade": false,
     "grade_id": "cell-27abb76445cf702f",
     "locked": true,
     "schema_version": 3,
     "solution": false,
     "task": false
    },
    "tags": [
     "15_min"
    ]
   },
   "source": [
    "### Exercise 2\n",
    "\n",
    "#### 2.1\n",
    "\n",
    "Group the available accident data by month.\n",
    "\n",
    "**Hint**: You may find the `pandas` functions [```pd.to_datetime()```](https://pandas.pydata.org/pandas-docs/stable/reference/api/pandas.to_datetime.html) and [```dt.to_period()```](https://pandas.pydata.org/docs/reference/api/pandas.Series.dt.to_period.html) useful."
   ]
  },
  {
   "cell_type": "code",
   "execution_count": 7,
   "metadata": {
    "deletable": false,
    "nbgrader": {
     "cell_type": "code",
     "checksum": "4dd3d27b522753e662dd7f86b1fdbfc5",
     "grade": false,
     "grade_id": "cell-0f972809ebfaaa5a",
     "locked": false,
     "schema_version": 3,
     "solution": true,
     "task": false
    }
   },
   "outputs": [],
   "source": [
    "def ex_2(df):\n",
    "    \"\"\"\n",
    "    Group accidents by month\n",
    "    \n",
    "    Arguments:\n",
    "    `df`: A pandas DataFrame\n",
    "    \n",
    "    Outputs:\n",
    "    `monthly_accidents`: The grouped Series\n",
    "    \"\"\"\n",
    "    \n",
    "    # YOUR CODE HERE\n",
    "    df['DATE']        = pd.to_datetime(df['DATE'])\n",
    "    df['MONTH']       = df['DATE'].dt.to_period(freq='M')\n",
    "    monthly_accidents = df.groupby('MONTH')['DATE'].count()\n",
    "    \n",
    "    return monthly_accidents"
   ]
  },
  {
   "cell_type": "markdown",
   "metadata": {
    "deletable": false,
    "editable": false,
    "nbgrader": {
     "cell_type": "markdown",
     "checksum": "6b43e47da08320a1f720f5a85035b3f6",
     "grade": false,
     "grade_id": "cell-bad4418558ffdda1",
     "locked": true,
     "schema_version": 3,
     "solution": false,
     "task": false
    }
   },
   "source": [
    "#### 2.2\n",
    "##### 2.2.1\n",
    "\n",
    "Generate a line plot of accidents over time."
   ]
  },
  {
   "cell_type": "code",
   "execution_count": 8,
   "metadata": {
    "deletable": false,
    "nbgrader": {
     "cell_type": "code",
     "checksum": "5aaefbf9e76a0476c6f77adce3e830e7",
     "grade": true,
     "grade_id": "cell-6d7a0247f12984b9",
     "locked": false,
     "points": 1,
     "schema_version": 3,
     "solution": true,
     "task": false
    }
   },
   "outputs": [
    {
     "data": {
      "image/png": "[encoded data removed]",
      "text/plain": [
       "<Figure size 432x288 with 1 Axes>"
      ]
     },
     "metadata": {
      "needs_background": "light"
     },
     "output_type": "display_data"
    }
   ],
   "source": [
    "# YOUR CODE HERE\n",
    "ex_2(df).plot()\n",
    "plt.title('Number of Accidents Over Time')\n",
    "plt.xlabel('')\n",
    "plt.ylabel('# of Accidents');"
   ]
  },
  {
   "cell_type": "markdown",
   "metadata": {
    "deletable": false,
    "editable": false,
    "nbgrader": {
     "cell_type": "markdown",
     "checksum": "0cc4a9c763565eb8ec43052f780d720d",
     "grade": false,
     "grade_id": "cell-d540425a1eb372c9",
     "locked": true,
     "points": 1,
     "schema_version": 3,
     "solution": false,
     "task": true
    }
   },
   "source": [
    "##### 2.2.2\n",
    "\n",
    "Has the number of accidents increased over the past year and a half?\n"
   ]
  },
  {
   "cell_type": "markdown",
   "metadata": {},
   "source": [
    "No, in fact we could say that the number of accidents has dropped in the past year and a half, although there are some particular issues worth noting on the series behavior. First of all, during the last quarter of 2018 the number of accidents exhibited a decline that was reverted during the first half of 2019. The second, and most important issue, is that during August 2019 the accidents plummeted and reached its minimum value since we have information. "
   ]
  },
  {
   "cell_type": "markdown",
   "metadata": {
    "deletable": false,
    "editable": false,
    "nbgrader": {
     "cell_type": "markdown",
     "checksum": "534dfc479661c2d76c09211cff0edafc",
     "grade": false,
     "grade_id": "cell-cae82d4401d36c90",
     "locked": true,
     "points": 2,
     "schema_version": 3,
     "solution": false,
     "task": true
    },
    "tags": [
     "10_min"
    ]
   },
   "source": [
    "### Exercise 3\n",
    "\n",
    "From the plot above, which months seem to have the least number of accidents? What do you think are the reasons behind this?\n"
   ]
  },
  {
   "cell_type": "markdown",
   "metadata": {},
   "source": [
    "Excluding August of 2019, we could say that the months with fewer accidents are the firsts of a calendar year (*i.e.* January, February). This could be attributed to the fact that during those months the city has fewer residents because they are traveling for the holidays. As for the lowest point in the series (August 2019) this could be explained because not every day on the month is included on the data base, so the comparison with the other months could be misleading."
   ]
  },
  {
   "cell_type": "markdown",
   "metadata": {
    "deletable": false,
    "editable": false,
    "nbgrader": {
     "cell_type": "markdown",
     "checksum": "1a222c45fb0b7a68d196aa83bd07acfa",
     "grade": false,
     "grade_id": "cell-a56ec753bfddd1f5",
     "locked": true,
     "schema_version": 3,
     "solution": false,
     "task": false
    },
    "tags": [
     "15_min"
    ]
   },
   "source": [
    "### Exercise 4\n",
    "\n",
    "#### 4.1\n",
    "\n",
    "Create a new column `HOUR` based on the data from the `TIME` column.\n",
    "\n",
    "**Hint:** You may find the ```dt.hour``` accessor useful."
   ]
  },
  {
   "cell_type": "code",
   "execution_count": 9,
   "metadata": {
    "deletable": false,
    "nbgrader": {
     "cell_type": "code",
     "checksum": "9118fc85c1ba3522b50e8bde7ebc962e",
     "grade": false,
     "grade_id": "cell-419c27e92f4c8976",
     "locked": false,
     "schema_version": 3,
     "solution": true,
     "task": false
    }
   },
   "outputs": [],
   "source": [
    "def ex_4(df):\n",
    "    \"\"\"\n",
    "    Group accidents by hour of day\n",
    "    \n",
    "    Arguments:\n",
    "    `df`: A pandas DataFrame\n",
    "    \n",
    "    Outputs:\n",
    "    `hourly_accidents`: The grouped Series\n",
    "\n",
    "    \"\"\"\n",
    "    \n",
    "    # YOUR CODE HERE\n",
    "    df['HOUR']       = pd.to_datetime(df['TIME']).dt.hour\n",
    "    hourly_accidents = df.groupby('HOUR')['HOUR'].count()\n",
    "    \n",
    "    return hourly_accidents"
   ]
  },
  {
   "cell_type": "code",
   "execution_count": 10,
   "metadata": {},
   "outputs": [],
   "source": [
    "# Note for me: To use the dt.hour attribute we must begin with a datetime64 class"
   ]
  },
  {
   "cell_type": "markdown",
   "metadata": {
    "deletable": false,
    "editable": false,
    "nbgrader": {
     "cell_type": "markdown",
     "checksum": "41ee566938fb367cf1f7e595d6ee1560",
     "grade": false,
     "grade_id": "cell-7f0cd15b77d1d9c2",
     "locked": true,
     "schema_version": 3,
     "solution": false,
     "task": false
    }
   },
   "source": [
    "#### 4.2\n",
    "##### 4.2.1\n",
    " \n",
    "Plot a bar graph of the distribution per hour throughout the day."
   ]
  },
  {
   "cell_type": "code",
   "execution_count": 11,
   "metadata": {
    "deletable": false,
    "nbgrader": {
     "cell_type": "code",
     "checksum": "4c38d2570c8eac013eb85b9e2fe5c6f9",
     "grade": true,
     "grade_id": "cell-afd6b1b063e2f80e",
     "locked": false,
     "points": 1,
     "schema_version": 3,
     "solution": true,
     "task": false
    }
   },
   "outputs": [
    {
     "data": {
      "image/png": "[encoded data removed]",
      "text/plain": [
       "<Figure size 432x288 with 1 Axes>"
      ]
     },
     "metadata": {
      "needs_background": "light"
     },
     "output_type": "display_data"
    }
   ],
   "source": [
    "# YOUR CODE HERE\n",
    "ex_4(df).plot.bar()\n",
    "plt.title('Number of Accidents Per Hours of Day')\n",
    "plt.xlabel('Hour of the day (24 hour format)')\n",
    "plt.ylabel('# of Accidents');"
   ]
  },
  {
   "cell_type": "markdown",
   "metadata": {
    "deletable": false,
    "editable": false,
    "nbgrader": {
     "cell_type": "markdown",
     "checksum": "a5c8e6085c4ae4ae0e60905d4168c181",
     "grade": false,
     "grade_id": "cell-d76634ab8ea839d4",
     "locked": true,
     "points": 1,
     "schema_version": 3,
     "solution": false,
     "task": true
    }
   },
   "source": [
    "##### 4.2.2\n",
    "How does the number of accidents vary throughout a single day?\n",
    "\n"
   ]
  },
  {
   "cell_type": "markdown",
   "metadata": {},
   "source": [
    "According to the aggregation presented on the previous plot we could see that during the early morning (*i.e.* until 7am) the accidents are less frequent than on the rest of the day. At 8am we could see a rapid increase in the number of accidents that could be explained because of the urgency of people to arrive to their work destinations. The maximum number of accidents are presented between 2pm and 5pm, point from which the number of events begin to drop as the day goes by."
   ]
  },
  {
   "cell_type": "markdown",
   "metadata": {
    "deletable": false,
    "editable": false,
    "nbgrader": {
     "cell_type": "markdown",
     "checksum": "94f7ad4cbfa9f42c1b1da18f01cf0726",
     "grade": false,
     "grade_id": "cell-fcc6952bd1f46a1c",
     "locked": true,
     "points": 2,
     "schema_version": 3,
     "solution": false,
     "task": true
    },
    "tags": [
     "10_min"
    ]
   },
   "source": [
    "### Exercise 5\n",
    "\n",
    "In the above question we have aggregated the number accidents per hour disregarding the date and place of occurrence. What criticism would you give to this approach?\n",
    "\n"
   ]
  },
  {
   "cell_type": "markdown",
   "metadata": {},
   "source": [
    "The most evident criticism would be that of [Simpson's Paradox](https://en.wikipedia.org/wiki/Simpson%27s_paradox), because the fact that a trend appears in this group doesn't mean that it could disappear or reverses when we analyze other groups, like for example filtering the analysis by place of ocurrence or date of the accidents."
   ]
  },
  {
   "cell_type": "markdown",
   "metadata": {
    "deletable": false,
    "editable": false,
    "nbgrader": {
     "cell_type": "markdown",
     "checksum": "8d99f2de2ef102ef326e3a7ff494c32e",
     "grade": false,
     "grade_id": "cell-456b65bd1173ae5a",
     "locked": true,
     "schema_version": 3,
     "solution": false,
     "task": false
    },
    "tags": [
     "15_min"
    ]
   },
   "source": [
    "### Exercise 6\n"
   ]
  },
  {
   "cell_type": "markdown",
   "metadata": {
    "deletable": false,
    "editable": false,
    "nbgrader": {
     "cell_type": "markdown",
     "checksum": "143116ffb5240f35a9163302c1e23de3",
     "grade": false,
     "grade_id": "cell-40afb0de48f6e2fd",
     "locked": true,
     "schema_version": 3,
     "solution": false,
     "task": false
    }
   },
   "source": [
    "#### 6.1\n",
    "\n",
    "Calculate the number of accidents by day of the week.\n",
    "\n",
    "**Hint:** You may find the ```dt.weekday``` accessor useful."
   ]
  },
  {
   "cell_type": "code",
   "execution_count": 12,
   "metadata": {
    "deletable": false,
    "nbgrader": {
     "cell_type": "code",
     "checksum": "e89fb04af87a302fca206076faefb689",
     "grade": false,
     "grade_id": "cell-293c8b93b1f61fac",
     "locked": false,
     "schema_version": 3,
     "solution": true,
     "task": false
    }
   },
   "outputs": [],
   "source": [
    "def ex_6(df):\n",
    "    \"\"\"\n",
    "    Group accidents by day of the week\n",
    "    \n",
    "    Arguments:\n",
    "    `df`: A pandas DataFrame\n",
    "    \n",
    "    Outputs:\n",
    "    `weekday_accidents`: The grouped Series\n",
    "    \"\"\"\n",
    "    \n",
    "    # YOUR CODE HERE\n",
    "    df['WEEKDAY']     = pd.to_datetime(df['DATE']).dt.weekday\n",
    "    weekday_accidents = df.groupby('WEEKDAY')['WEEKDAY'].count()\n",
    "    \n",
    "    return weekday_accidents"
   ]
  },
  {
   "cell_type": "markdown",
   "metadata": {
    "deletable": false,
    "editable": false,
    "nbgrader": {
     "cell_type": "markdown",
     "checksum": "1e6795e2b8cb86dbe63d930371324022",
     "grade": false,
     "grade_id": "cell-29d747391521c660",
     "locked": true,
     "schema_version": 3,
     "solution": false,
     "task": false
    }
   },
   "source": [
    "#### 6.2\n",
    "##### 6.2.1\n",
    "Plot a bar graph based on the accidents count by day of the week."
   ]
  },
  {
   "cell_type": "code",
   "execution_count": 13,
   "metadata": {
    "deletable": false,
    "nbgrader": {
     "cell_type": "code",
     "checksum": "d636a27abbc285a33ef5282eb8e7f64e",
     "grade": true,
     "grade_id": "cell-b4465bdaadd4a0ba",
     "locked": false,
     "points": 1,
     "schema_version": 3,
     "solution": true,
     "task": false
    }
   },
   "outputs": [
    {
     "data": {
      "image/png": "[encoded data removed]",
      "text/plain": [
       "<Figure size 432x288 with 1 Axes>"
      ]
     },
     "metadata": {
      "needs_background": "light"
     },
     "output_type": "display_data"
    }
   ],
   "source": [
    "# YOUR CODE HERE\n",
    "ex_6(df).plot.bar()\n",
    "plt.title('Number of Accidents Per Day of the Week')\n",
    "plt.xlabel('Days of the week')\n",
    "plt.ylabel('# of Accidents')\n",
    "plt.xticks([0,1,2,3,4,5,6],['Mon.', 'Tue.', 'Wed.','Thu.','Fri.','Sat.','Sun.'],rotation=0)\n",
    "axes = plt.gca()\n",
    "axes.set_ylim([25000,38000]);"
   ]
  },
  {
   "cell_type": "markdown",
   "metadata": {
    "deletable": false,
    "editable": false,
    "nbgrader": {
     "cell_type": "markdown",
     "checksum": "b99db84ccb7b0c71f72af9585ec45713",
     "grade": false,
     "grade_id": "cell-540dd79f4dc3dd25",
     "locked": true,
     "points": 1,
     "schema_version": 3,
     "solution": false,
     "task": true
    }
   },
   "source": [
    "##### 6.2.2\n",
    "\n",
    "How does the number of accidents vary throughout a single week?\n"
   ]
  },
  {
   "cell_type": "markdown",
   "metadata": {},
   "source": [
    "We could see that between weekdays the number of accidents doesn't vary too much being **Friday** the day with the most accidents. Nevertheless, during weekends the accidents go down being **Sunday** the day with fewer accidents."
   ]
  },
  {
   "cell_type": "markdown",
   "metadata": {
    "deletable": false,
    "editable": false,
    "nbgrader": {
     "cell_type": "markdown",
     "checksum": "782e33c4d8568b005f08fd06016dde9a",
     "grade": false,
     "grade_id": "cell-da89c04d5c6f9ab1",
     "locked": true,
     "schema_version": 3,
     "solution": false,
     "task": false
    },
    "tags": [
     "30_min"
    ]
   },
   "source": [
    "### Exercise 7\n",
    "\n",
    "#### 7.1\n",
    "\n",
    "Calculate the total number of accidents for each borough."
   ]
  },
  {
   "cell_type": "code",
   "execution_count": 14,
   "metadata": {
    "deletable": false,
    "nbgrader": {
     "cell_type": "code",
     "checksum": "1a0945795bd22592448f17222ad4d5fe",
     "grade": false,
     "grade_id": "cell-5ba5491dce624e79",
     "locked": false,
     "schema_version": 3,
     "solution": true,
     "task": false
    }
   },
   "outputs": [],
   "source": [
    "def ex_7_1(df):\n",
    "    \"\"\"\n",
    "    Group accidents by borough\n",
    "    \n",
    "    Arguments:\n",
    "    `df`: A pandas DataFrame\n",
    "    \n",
    "    Outputs:\n",
    "    `boroughs`: The grouped Series\n",
    "    \"\"\"\n",
    "    \n",
    "    # YOUR CODE HERE\n",
    "    boroughs = df.groupby('BOROUGH')['BOROUGH'].count()\n",
    "    \n",
    "    return boroughs"
   ]
  },
  {
   "cell_type": "markdown",
   "metadata": {
    "deletable": false,
    "editable": false,
    "nbgrader": {
     "cell_type": "markdown",
     "checksum": "10cb4db3279ef61a0fbaf092cbd1dc3a",
     "grade": false,
     "grade_id": "cell-fcb020d87a3bc3a7",
     "locked": true,
     "schema_version": 3,
     "solution": false,
     "task": false
    }
   },
   "source": [
    "#### 7.2\n",
    "##### 7.2.1\n",
    "\n",
    "Plot a bar graph of the previous data."
   ]
  },
  {
   "cell_type": "code",
   "execution_count": 15,
   "metadata": {
    "deletable": false,
    "nbgrader": {
     "cell_type": "code",
     "checksum": "43c29bee533d78d6685d86a16db68746",
     "grade": true,
     "grade_id": "cell-ebdddab103414bb4",
     "locked": false,
     "points": 1,
     "schema_version": 3,
     "solution": true,
     "task": false
    }
   },
   "outputs": [
    {
     "data": {
      "image/png": "[encoded data removed]",
      "text/plain": [
       "<Figure size 432x288 with 1 Axes>"
      ]
     },
     "metadata": {
      "needs_background": "light"
     },
     "output_type": "display_data"
    }
   ],
   "source": [
    "# YOUR CODE HERE\n",
    "ex_7_1(df).plot.bar()\n",
    "plt.title('Number of Accidents Per Borough')\n",
    "plt.xlabel('')\n",
    "plt.ylabel('# of Accidents');"
   ]
  },
  {
   "cell_type": "markdown",
   "metadata": {
    "deletable": false,
    "editable": false,
    "nbgrader": {
     "cell_type": "markdown",
     "checksum": "d2d0b0ddee9136e61e993e5d5a500eab",
     "grade": false,
     "grade_id": "cell-20a42e3df9860ed7",
     "locked": true,
     "points": 1,
     "schema_version": 3,
     "solution": false,
     "task": true
    }
   },
   "source": [
    "##### 7.2.2\n",
    "\n",
    "What do you notice in the plot?\n"
   ]
  },
  {
   "cell_type": "markdown",
   "metadata": {},
   "source": [
    "When we divide the total number of accidents by borough it its clear that the vast majority of these events occurred in three out of five boroughs, in particular, in **Brooklyn, Queens and Manhattan**.\n",
    "\n",
    "This could also be explained because like we first saw while loading the json file, these are the most populated boroughs of all. In this sense, we need to conduct a more profound analysis of the data in order to determine if these boroughs are riskier from a vehicle accident perspective."
   ]
  },
  {
   "cell_type": "markdown",
   "metadata": {
    "deletable": false,
    "editable": false,
    "nbgrader": {
     "cell_type": "markdown",
     "checksum": "f2e11f5344ac442c974402131630a3f0",
     "grade": false,
     "grade_id": "cell-ec1ee4f915e4f7d5",
     "locked": true,
     "schema_version": 3,
     "solution": false,
     "task": false
    }
   },
   "source": [
    "#### 7.3 (hard)\n",
    "\n",
    "How about per square mile? Calculate the number accidents per square mile for each borough.\n",
    "\n",
    "**Hint:** You will have to update the keys in the borough dictionary to match the names in the DataFrame."
   ]
  },
  {
   "cell_type": "code",
   "execution_count": 16,
   "metadata": {
    "deletable": false,
    "nbgrader": {
     "cell_type": "code",
     "checksum": "2197fae166f809046bd48a9b4a55d64d",
     "grade": false,
     "grade_id": "cell-a6739c46c019dfd0",
     "locked": false,
     "schema_version": 3,
     "solution": true,
     "task": false
    }
   },
   "outputs": [],
   "source": [
    "def ex_7_3(df, borough_data):\n",
    "    \"\"\"\n",
    "    Calculate accidents per sq mile for each borough\n",
    "    \n",
    "    Arguments:\n",
    "    `borough_frame`: A pandas DataFrame with the count of accidents per borough\n",
    "    `borough_data`: A python dictionary with population and area data for each borough\n",
    "    \n",
    "    \n",
    "    Outputs:\n",
    "    `borough_frame`: The same `borough_frame` DataFrame used as input, only with an\n",
    "    additional column called `accidents_per_sq_mi` that results from dividing\n",
    "    the number of accidents in each borough by its area. Please call this new column\n",
    "    exactly `accidents_per_sq_mi` - otherwise the test cells will throw an error.\n",
    "    \"\"\"\n",
    "    \n",
    "    boroughs      = ex_7_1(df)\n",
    "    borough_frame = pd.DataFrame(boroughs)\n",
    "    \n",
    "    # YOUR CODE HERE \n",
    "    #Redefining the borought dictionary:\n",
    "    borough_data['BRONX']         = borough_data.pop('the bronx')\n",
    "    borough_data['BROOKLYN']      = borough_data.pop('brooklyn')\n",
    "    borough_data['MANHATTAN']     = borough_data.pop('manhattan')\n",
    "    borough_data['QUEENS']        = borough_data.pop('queens')\n",
    "    borough_data['STATEN ISLAND'] = borough_data.pop('staten island')\n",
    "    \n",
    "    #Adding the area information to `borough_frame`:\n",
    "    area_data = []\n",
    "    for bor_name in borough_data.keys():\n",
    "        data      = borough_data[bor_name]['area']\n",
    "        area_data.append(data)\n",
    "    area_data     = pd.DataFrame(area_data,index = borough_data.keys(),columns=['Area'])\n",
    "    borough_frame = borough_frame.join(area_data)\n",
    "    \n",
    "    #Calculating the `accidents_per_sq_mi` variable:\n",
    "    borough_frame['accidents_per_sq_mi'] = borough_frame['BOROUGH']/borough_frame['Area']\n",
    "    \n",
    "    return borough_frame # This must be a DataFrame, NOT a Series"
   ]
  },
  {
   "cell_type": "markdown",
   "metadata": {
    "deletable": false,
    "editable": false,
    "nbgrader": {
     "cell_type": "markdown",
     "checksum": "5ef8e7f1fb115381378864e15de3ed19",
     "grade": false,
     "grade_id": "cell-5ce964972da9e2c8",
     "locked": true,
     "schema_version": 3,
     "solution": false,
     "task": false
    }
   },
   "source": [
    "#### 7.4\n",
    "##### 7.4.1\n",
    "\n",
    "Plot a bar graph of the accidents per square mile per borough with the data you just calculated. "
   ]
  },
  {
   "cell_type": "code",
   "execution_count": 17,
   "metadata": {
    "deletable": false,
    "nbgrader": {
     "cell_type": "code",
     "checksum": "0aa2a94c1ba25ce840764820ffc9d592",
     "grade": true,
     "grade_id": "cell-35a7dba3a934592f",
     "locked": false,
     "points": 1,
     "schema_version": 3,
     "solution": true,
     "task": false
    }
   },
   "outputs": [
    {
     "data": {
      "image/png": "[encoded data removed]",
      "text/plain": [
       "<Figure size 432x288 with 1 Axes>"
      ]
     },
     "metadata": {
      "needs_background": "light"
     },
     "output_type": "display_data"
    }
   ],
   "source": [
    "# YOUR CODE HERE\n",
    "plot_data = ex_7_3(df,borough_data)\n",
    "plot_data['accidents_per_sq_mi'].plot.bar()\n",
    "plt.title('Number of Accidents Per Square Mile Per Borough')\n",
    "plt.xlabel('')\n",
    "plt.ylabel('# of Accidents');"
   ]
  },
  {
   "cell_type": "markdown",
   "metadata": {
    "deletable": false,
    "editable": false,
    "nbgrader": {
     "cell_type": "markdown",
     "checksum": "8e7fb92705c39281eeaf5c3ada4ca51f",
     "grade": false,
     "grade_id": "cell-52f66926e9de15b1",
     "locked": true,
     "points": 1,
     "schema_version": 3,
     "solution": false,
     "task": true
    }
   },
   "source": [
    "##### 7.4.2\n",
    "\n",
    "What can you conclude?\n"
   ]
  },
  {
   "cell_type": "markdown",
   "metadata": {},
   "source": [
    "When we control for the area of each borough the conclusions we've found in the previous exercise - accidents per borough- change. In the previous exercise **Brooklyn** and **Queens** were the boroughs that presented the greatest number of accidents. However, in this case we see that **Manhattan** stands out as the borough with the greatest share of accidents per square mile, even doubling the other major borough which is **Brooklyn**."
   ]
  },
  {
   "cell_type": "markdown",
   "metadata": {
    "deletable": false,
    "editable": false,
    "nbgrader": {
     "cell_type": "markdown",
     "checksum": "a9b03ff63eec0342da256633ad046f20",
     "grade": false,
     "grade_id": "cell-614c2ca6ab488cb3",
     "locked": true,
     "schema_version": 3,
     "solution": false,
     "task": false
    },
    "tags": [
     "20_min"
    ]
   },
   "source": [
    "### Exercise 8\n",
    "\n",
    "#### 8.1\n",
    "\n",
    "Create a Series of the number of accidents per hour and borough."
   ]
  },
  {
   "cell_type": "code",
   "execution_count": 18,
   "metadata": {
    "deletable": false,
    "nbgrader": {
     "cell_type": "code",
     "checksum": "b65f514ec00d48f28fbac57483d65b6c",
     "grade": false,
     "grade_id": "cell-27af814f24d2deba",
     "locked": false,
     "schema_version": 3,
     "solution": true,
     "task": false
    }
   },
   "outputs": [],
   "source": [
    "def ex_8_1(df):\n",
    "    \"\"\"\n",
    "    Calculate accidents per hour for each borough\n",
    "    \n",
    "    Arguments:\n",
    "    `df`: A pandas DataFrame\n",
    "    \n",
    "    \n",
    "    Outputs:\n",
    "    `bor_hour`: A Series. This should be the result of doing groupby by borough\n",
    "    and hour.\n",
    "    \"\"\"\n",
    "    \n",
    "    # YOUR CODE HERE\n",
    "    bor_hour = df.groupby(['BOROUGH','HOUR']).size()\n",
    "    \n",
    "    return bor_hour"
   ]
  },
  {
   "cell_type": "markdown",
   "metadata": {
    "deletable": false,
    "editable": false,
    "nbgrader": {
     "cell_type": "markdown",
     "checksum": "085c91bae2669aeeed5b1e4cc8a682d5",
     "grade": false,
     "grade_id": "cell-faa3c5768fdc05c1",
     "locked": true,
     "schema_version": 3,
     "solution": false,
     "task": false
    }
   },
   "source": [
    "#### 8.2\n",
    "##### 8.2.1\n",
    "\n",
    "Plot a bar graph for each borough showing the number of accidents for each hour of the day. "
   ]
  },
  {
   "cell_type": "code",
   "execution_count": 19,
   "metadata": {
    "deletable": false,
    "nbgrader": {
     "cell_type": "code",
     "checksum": "495ea737b7a42500a9a3a291d0031b5b",
     "grade": true,
     "grade_id": "cell-cf78df4c32eb7f7c",
     "locked": false,
     "points": 1,
     "schema_version": 3,
     "solution": true,
     "task": false
    }
   },
   "outputs": [
    {
     "data": {
      "image/png": "[encoded data removed]",
      "text/plain": [
       "<Figure size 1800x360 with 5 Axes>"
      ]
     },
     "metadata": {
      "needs_background": "light"
     },
     "output_type": "display_data"
    }
   ],
   "source": [
    "# YOUR CODE HERE\n",
    "plot_data = pd.DataFrame(ex_8_1(df))\n",
    "plot_data.reset_index(inplace=True)\n",
    "plot_data = plot_data.rename(columns = {0:'ACCIDENTS'})\n",
    "sns.catplot(x='HOUR',y=\"ACCIDENTS\",col=\"BOROUGH\",data=plot_data,kind=\"bar\",orient='v');"
   ]
  },
  {
   "cell_type": "markdown",
   "metadata": {
    "deletable": false,
    "editable": false,
    "nbgrader": {
     "cell_type": "markdown",
     "checksum": "31af1422ad465a7c2000f05a903e32ba",
     "grade": false,
     "grade_id": "cell-bb03b8b83ea90208",
     "locked": true,
     "points": 1,
     "schema_version": 3,
     "solution": false,
     "task": true
    }
   },
   "source": [
    "##### 8.2.2\n",
    "\n",
    "Which hours have the most accidents for each borough?\n",
    "\n",
    "**Hint:** You can use ```sns.FacetGrid``` to create a grid of plots with the hourly data of each borough.\n"
   ]
  },
  {
   "cell_type": "markdown",
   "metadata": {},
   "source": [
    "For **Bronx, Brooklyn, Queens and Staten Island** the hour with more accidents is 4pm, and for **Manhattan** is 2pm, although 4pm is not very far away from the maximum for this borough."
   ]
  },
  {
   "cell_type": "markdown",
   "metadata": {
    "deletable": false,
    "editable": false,
    "nbgrader": {
     "cell_type": "markdown",
     "checksum": "80bffba2b471584be6090df723c884da",
     "grade": false,
     "grade_id": "cell-5fb1df47b08de6f3",
     "locked": true,
     "schema_version": 3,
     "solution": false,
     "task": false
    },
    "tags": [
     "20_min"
    ]
   },
   "source": [
    "### Exercise 9 (hard)\n",
    "\n",
    "Using `contrib_df`, find which 6 factors cause the most accidents. It is important that you avoid double counting the contributing factors of a single accident.\n",
    "\n",
    "**Hint:** You can use the [**`pd.melt()`**](https://pandas.pydata.org/docs/reference/api/pandas.melt.html) function to take a subset of `df` and convert it from [wide format to narrow format](https://en.wikipedia.org/wiki/Wide_and_narrow_data)."
   ]
  },
  {
   "cell_type": "code",
   "execution_count": 20,
   "metadata": {
    "deletable": false,
    "nbgrader": {
     "cell_type": "code",
     "checksum": "68aca6f8700a1bfaabbc1380f2fc2630",
     "grade": false,
     "grade_id": "cell-98f4ca4b8b9f6037",
     "locked": false,
     "schema_version": 3,
     "solution": true,
     "task": false
    }
   },
   "outputs": [],
   "source": [
    "def ex_9(df):\n",
    "    \"\"\"\n",
    "    Finds which 6 factors cause the most accidents, without \n",
    "    double counting the contributing factors of a single accident.\n",
    "    \n",
    "    Arguments:\n",
    "    `contrib_df`: A pandas DataFrame.\n",
    "    \n",
    "    Outputs:\n",
    "    `factors_most_acc`: A pandas DataFrame. It has only 6 elements, which are,\n",
    "    sorted in descending order, the contributing factors with the most accidents.\n",
    "    The column with the actual numbers is named `index`.    \n",
    "    \"\"\"\n",
    "    \n",
    "    # YOUR CODE HERE\n",
    "    contrib_df               = df[['COLLISION_ID','CONTRIBUTING FACTOR VEHICLE 1','CONTRIBUTING FACTOR VEHICLE 2','CONTRIBUTING FACTOR VEHICLE 3','CONTRIBUTING FACTOR VEHICLE 4','CONTRIBUTING FACTOR VEHICLE 5']]\n",
    "    contrib_df               = pd.melt(contrib_df,id_vars='COLLISION_ID',\n",
    "                                       value_vars=['CONTRIBUTING FACTOR VEHICLE 1','CONTRIBUTING FACTOR VEHICLE 2','CONTRIBUTING FACTOR VEHICLE 3','CONTRIBUTING FACTOR VEHICLE 4','CONTRIBUTING FACTOR VEHICLE 5'],\n",
    "                                       var_name='Order',value_name='Contributing_Factor')\n",
    "    contrib_df               = contrib_df.drop(columns=['Order']).drop_duplicates()\n",
    "    factors_most_acc         = pd.DataFrame(contrib_df.groupby('Contributing_Factor').size().sort_values(ascending=False).head(6))\n",
    "    factors_most_acc.columns = ['index']\n",
    "    \n",
    "    return factors_most_acc"
   ]
  },
  {
   "cell_type": "markdown",
   "metadata": {
    "deletable": false,
    "editable": false,
    "nbgrader": {
     "cell_type": "markdown",
     "checksum": "d6993777791018705e3b182cc4d616b4",
     "grade": false,
     "grade_id": "cell-cf540a533b618241",
     "locked": true,
     "schema_version": 3,
     "solution": false,
     "task": false
    },
    "tags": [
     "20_min"
    ]
   },
   "source": [
    "### Exercise 10 (hard)\n",
    "\n",
    "Which 10 vehicle type-borough pairs are most involved in accidents? Avoid double counting the types of vehicles involved in a single accident. You can apply a similar approach to the one used in the previous exercise using `pd.melt()`.\n",
    "\n",
    "**Hint:** You may want to include `BOROUGH` as one of your `id_vars` (the other being `index`) in `pd.melt()`. Including `BOROUGH` in your final `.groupby()` is also a good idea."
   ]
  },
  {
   "cell_type": "code",
   "execution_count": 21,
   "metadata": {
    "deletable": false,
    "nbgrader": {
     "cell_type": "code",
     "checksum": "aa1c12ecb010efb73e16b3d8cd9c788e",
     "grade": false,
     "grade_id": "cell-4088733a6a07c9a3",
     "locked": false,
     "schema_version": 3,
     "solution": true,
     "task": false
    }
   },
   "outputs": [],
   "source": [
    "def ex_10(df):\n",
    "    \"\"\"\n",
    "    Finds the 10 borough:vehicle type pairs with more accidents, without \n",
    "    double counting the vehicle types of a single accident.\n",
    "    \n",
    "    Arguments:\n",
    "    `df`: A pandas DataFrame.\n",
    "    \n",
    "    Outputs:\n",
    "    `vehi_most_acc`: A pandas DataFrame. It has only 10 elements, which are,\n",
    "    sorted in descending order, the borough-vehicle pairs with the most accidents.\n",
    "    The column with the actual numbers is named `index`\n",
    "    \"\"\"\n",
    "\n",
    "    vehi_cols = ['VEHICLE TYPE CODE 1','VEHICLE TYPE CODE 2','VEHICLE TYPE CODE 3','VEHICLE TYPE CODE 4','VEHICLE TYPE CODE 5']\n",
    "    \n",
    "    # YOUR CODE HERE\n",
    "    vehi_df               = pd.DataFrame(df[['COLLISION_ID','BOROUGH']]).join(df[vehi_cols])\n",
    "    vehi_df               = vehi_df.melt(id_vars=['COLLISION_ID','BOROUGH'],value_vars=vehi_cols,var_name='Order',value_name='Vehicle')\n",
    "    vehi_df               = vehi_df.drop(columns=['Order']).drop_duplicates()\n",
    "    vehi_most_acc         = pd.DataFrame(vehi_df.groupby(['Vehicle','BOROUGH']).size().sort_values(ascending=False).head(10))\n",
    "    vehi_most_acc.columns = ['index']\n",
    "    \n",
    "    return vehi_most_acc"
   ]
  },
  {
   "cell_type": "markdown",
   "metadata": {
    "deletable": false,
    "editable": false,
    "nbgrader": {
     "cell_type": "markdown",
     "checksum": "c3156a163a90bbe86a996d07b54e76bc",
     "grade": false,
     "grade_id": "cell-6185ec3a6e0f2096",
     "locked": true,
     "points": 2,
     "schema_version": 3,
     "solution": false,
     "task": true
    },
    "tags": [
     "10_min"
    ]
   },
   "source": [
    "### Exercise 11\n",
    "\n",
    "In a 2018 [interview](https://www.nytimes.com/2019/01/01/nyregion/traffic-deaths-decrease-nyc.html) with The New York Times, New York's mayor de Blasio stated that \"*Vision Zero is clearly working*\". That year, the number of deaths in traffic accidents in NYC dropped to a historically low 202. Yet, as reported by [am New York Metro](https://www.amny.com/news/vision-zero-de-blasio-1-30707464/), the number of fatalities has increased by 30% in the first quarter of 2019 compared to the previous year and the number of pedestrians and cyclists injured has not seen any improvement.\n",
    "\n",
    "Which of the following BEST describes how you would use the provided data to understand what went wrong in the first quarter of 2019? Please explain the reasons for your choice.\n",
    "\n",
    "<ul>\n",
    "A. Consider the accidents of the first quarter of 2019. Then, check for the most common causes of accidents where pedestrians and cyclists were involved. Give a recommendation based solely on this information.<br>\n",
    "B. Create a pair of heat maps of the accidents involving injured/killed pedestrians and cyclists in the first quarter of 2018 and 2019. Compare these two to see if there is any change in the concentration of accidents. In critical areas, study the type of factors involved in the accidents. Give a recommendation to visit these areas to study the problem further.<br>\n",
    "C. The provided data is insufficient to improve our understanding of the situation.<br>\n",
    "D. None of the above. (If you choose this, please elaborate on what you would do instead.)<br>\n",
    "</ul>\n",
    "\n"
   ]
  },
  {
   "cell_type": "markdown",
   "metadata": {},
   "source": [
    "In my opinion, the option that best describes what we should do is **B**. It is clear that in order to understand the increase of fatalities during the first quarter of 2019 we must have a base of comparison. In this sense, using the 2018 first quarter data seems reasonable, and could provide further insights on the observed changes. In particular, we could identify potential boroughs where the *Vision Zero* policies should be more focused, or even identify if the phenomena is something more general around all of New York City.\n",
    "\n",
    "Nevertheless, I think that it is also worth noting that, although every human life count as unique and valuable, giving an idea of how useful a public policy is in terms of absolute values -that is in term of total fatalities-, could be misleading sometimes. For example, in spite of the increase of the total number of casualties, the relative proportion of deaths compared to the total of cyclist/pedestrians in the city could be lower."
   ]
  },
  {
   "cell_type": "markdown",
   "metadata": {
    "deletable": false,
    "editable": false,
    "nbgrader": {
     "cell_type": "markdown",
     "checksum": "321669ac84ccca672c1a911d922a5333",
     "grade": false,
     "grade_id": "cell-b0eb22fc9f454341",
     "locked": true,
     "schema_version": 3,
     "solution": false,
     "task": false
    },
    "tags": [
     "30_min"
    ]
   },
   "source": [
    "### Exercise 12 (hard)\n",
    "\n",
    "#### 12.1\n",
    "\n",
    "Calculate the number of deaths caused by each type of vehicle.\n",
    "\n",
    "**Hint 1:** As an example of how to compute vehicle involvement in deaths, suppose two people died in an accident where 5 vehicles were involved, and 4 are PASSENGER VEHICLE and 1 is a SPORT UTILITY/STATION WAGON. Then we would add two deaths to both the PASSENGER VEHICLE and SPORT UTILITY/STATION WAGON types.)\n",
    "\n",
    "**Hint 2:** You will need to use `pd.melt()` and proceed as in the previous exercises to avoid double-counting the types of vehicles (i.e. you should remove duplicate \"accident ID - vehicle type\" pairs)."
   ]
  },
  {
   "cell_type": "code",
   "execution_count": 22,
   "metadata": {
    "deletable": false,
    "nbgrader": {
     "cell_type": "code",
     "checksum": "332277f4d0993280c13f52a53e4d0053",
     "grade": false,
     "grade_id": "cell-84b57a3cbf3d976f",
     "locked": false,
     "schema_version": 3,
     "solution": true,
     "task": false
    }
   },
   "outputs": [],
   "source": [
    "def ex_12(df):\n",
    "    \"\"\"\n",
    "    Calculate total killed per vehicle type and plot the result\n",
    "    as a bar graph\n",
    "    \n",
    "    Arguments:\n",
    "    `df`: A pandas DataFrame.    \n",
    "    \n",
    "    Outputs:\n",
    "    `result`: A pandas DataFrame. Its index should be the vehicle type. Its only\n",
    "    column should be `TOTAL KILLED`\n",
    "    \"\"\"\n",
    "    \n",
    "    # YOUR CODE HERE\n",
    "    deaths_df         = pd.DataFrame(df.loc[:,['NUMBER OF PEDESTRIANS KILLED','NUMBER OF CYCLIST KILLED','NUMBER OF MOTORIST KILLED']].sum(axis=1).copy())\n",
    "    deaths_df.columns = ['TOTAL KILLED']\n",
    "    deaths_df         = deaths_df.join(df[['COLLISION_ID','VEHICLE TYPE CODE 1','VEHICLE TYPE CODE 2','VEHICLE TYPE CODE 3','VEHICLE TYPE CODE 4','VEHICLE TYPE CODE 5']])\n",
    "    deaths_df         = deaths_df.melt(id_vars=['COLLISION_ID','TOTAL KILLED'],var_name='Order',value_vars=['VEHICLE TYPE CODE 1','VEHICLE TYPE CODE 2','VEHICLE TYPE CODE 3','VEHICLE TYPE CODE 4','VEHICLE TYPE CODE 5'],value_name='Vehicle')\n",
    "    deaths_df         = deaths_df.drop(columns=['Order']).drop_duplicates()\n",
    "    result            = pd.DataFrame(deaths_df.groupby('Vehicle')['TOTAL KILLED'].sum().sort_values(ascending=False))\n",
    "    \n",
    "    return result"
   ]
  },
  {
   "cell_type": "markdown",
   "metadata": {
    "deletable": false,
    "editable": false,
    "nbgrader": {
     "cell_type": "markdown",
     "checksum": "e8f528978694850b3aae0234d514fa78",
     "grade": false,
     "grade_id": "cell-6e6546c1b98dfc66",
     "locked": true,
     "schema_version": 3,
     "solution": false,
     "task": false
    }
   },
   "source": [
    "#### 12.2\n",
    "##### 12.2.1\n",
    "\n",
    "Plot a bar chart for the top 5 vehicles."
   ]
  },
  {
   "cell_type": "code",
   "execution_count": 23,
   "metadata": {
    "deletable": false,
    "nbgrader": {
     "cell_type": "code",
     "checksum": "82ef9b39c65ff79358cbc28822844959",
     "grade": true,
     "grade_id": "cell-168b88cb6833db0d",
     "locked": false,
     "points": 1,
     "schema_version": 3,
     "solution": true,
     "task": false
    }
   },
   "outputs": [
    {
     "data": {
      "image/png": "[encoded data removed]",
      "text/plain": [
       "<Figure size 432x288 with 1 Axes>"
      ]
     },
     "metadata": {
      "needs_background": "light"
     },
     "output_type": "display_data"
    }
   ],
   "source": [
    "# YOUR CODE HERE\n",
    "ex_12(df).head(5).plot.bar()\n",
    "plt.title('Number of Kills in Accidents by Vehicle Type')\n",
    "plt.xlabel('Vehicle Type')\n",
    "plt.ylabel('# of Kills');"
   ]
  },
  {
   "cell_type": "markdown",
   "metadata": {
    "deletable": false,
    "editable": false,
    "nbgrader": {
     "cell_type": "markdown",
     "checksum": "11ac741c560a0f7dbbb2a6de9b984372",
     "grade": false,
     "grade_id": "cell-40a05f4c5f6975fc",
     "locked": true,
     "points": 1,
     "schema_version": 3,
     "solution": false,
     "task": true
    }
   },
   "source": [
    "##### 12.2.2\n",
    "\n",
    "Which vehicles are most often involved in deaths, and by how much more than the others?\n"
   ]
  },
  {
   "cell_type": "markdown",
   "metadata": {},
   "source": [
    "The most often involved vehicles are the **Station Wagon/Sport Utility Vehicle** and **Sedans**. For these two types of vehicles, compared to the subsequent three of the top 5, we could be saying that they are present between four and three times more in events of deaths of pedestrians, cyclist or motorbikes than the others.\n",
    "\n",
    "There is also something interesting in the main category, and is the similarity with the label of the fifth category. **In fact, we could think that the data is collected or reported by police officers to a centralized repository, which could give arise to problems associated with the way in which the data is reported**. In this sense, we shouldn't be confident with the results found because first we need to be sure that every text matches a unique category. This is crucial in order to address a public policy aimed to reduce the casualties on the streets of New York City."
   ]
  },
  {
   "cell_type": "markdown",
   "metadata": {
    "deletable": false,
    "editable": false,
    "nbgrader": {
     "cell_type": "markdown",
     "checksum": "139c6bfb128221ca6d13329a3cab689d",
     "grade": false,
     "grade_id": "cell-e4bb6f46c8a40208",
     "locked": true,
     "schema_version": 3,
     "solution": false,
     "task": false
    }
   },
   "source": [
    "## Testing cells"
   ]
  },
  {
   "cell_type": "code",
   "execution_count": 24,
   "metadata": {
    "deletable": false,
    "editable": false,
    "nbgrader": {
     "cell_type": "code",
     "checksum": "224a10a911a419c543178731b2fc034d",
     "grade": true,
     "grade_id": "cell-8603b4cdee9ac4a7",
     "locked": true,
     "points": 2,
     "schema_version": 3,
     "solution": false,
     "task": false
    }
   },
   "outputs": [
    {
     "name": "stdout",
     "output_type": "stream",
     "text": [
      "Exercise 2.1 looks correct!\n"
     ]
    }
   ],
   "source": [
    "# Ex. 2\n",
    "assert type(ex_2(df)) == type(pd.Series([9,1,2])), \"Ex. 2 - Your output isn't a pandas Series. If you use .groupby(), it outputs a Series by default.\"\n",
    "assert ex_2(df).loc[\"2018-10\"] == 13336, \"Ex. 2 - Wrong output! Try using the .size() aggregation function with your .groupby().\"\n",
    "print(\"Exercise 2.1 looks correct!\")"
   ]
  },
  {
   "cell_type": "code",
   "execution_count": 25,
   "metadata": {
    "deletable": false,
    "editable": false,
    "nbgrader": {
     "cell_type": "code",
     "checksum": "3343f6ac933f86f72695523a2b53526e",
     "grade": true,
     "grade_id": "cell-0446147196bd9bf1",
     "locked": true,
     "points": 2,
     "schema_version": 3,
     "solution": false,
     "task": false
    }
   },
   "outputs": [
    {
     "name": "stdout",
     "output_type": "stream",
     "text": [
      "Exercise 4.1 looks correct!\n"
     ]
    }
   ],
   "source": [
    "# Ex 4\n",
    "assert type(ex_4(df)) == type(pd.Series([9,1,2])), \"Ex. 4 - Your output isn't a pandas Series. If you use .groupby(), it outputs a Series by default.\"\n",
    "assert ex_4(df).loc[13] == 14224, \"Ex. 4 - Wrong output! Try using the .size() aggregation function with your .groupby().\"\n",
    "print(\"Exercise 4.1 looks correct!\")"
   ]
  },
  {
   "cell_type": "code",
   "execution_count": 26,
   "metadata": {
    "deletable": false,
    "editable": false,
    "nbgrader": {
     "cell_type": "code",
     "checksum": "ddec55d8736810656fc40c97d0c87a83",
     "grade": true,
     "grade_id": "cell-4caba3f3fb6ed65e",
     "locked": true,
     "points": 2,
     "schema_version": 3,
     "solution": false,
     "task": false
    }
   },
   "outputs": [
    {
     "name": "stdout",
     "output_type": "stream",
     "text": [
      "Exercise 6.1 looks correct!\n"
     ]
    }
   ],
   "source": [
    "# Ex. 6\n",
    "assert type(ex_6(df)) == type(pd.Series([9,1,2])), \"Ex. 6 - Your output isn't a pandas Series. If you use .groupby(), it outputs a Series by default.\"\n",
    "assert max(ex_6(df)) == 37886, \"Ex. 6 - Your results don't match ours! Remember that you can use the .size() aggregation function to count the number of elements in a groupby group.\"\n",
    "print(\"Exercise 6.1 looks correct!\")"
   ]
  },
  {
   "cell_type": "code",
   "execution_count": 27,
   "metadata": {
    "deletable": false,
    "editable": false,
    "nbgrader": {
     "cell_type": "code",
     "checksum": "7b1d736076b1f1581f5762fa64822b66",
     "grade": true,
     "grade_id": "cell-d0d5b19c5e858b5b",
     "locked": true,
     "points": 2,
     "schema_version": 3,
     "solution": false,
     "task": false
    }
   },
   "outputs": [
    {
     "name": "stdout",
     "output_type": "stream",
     "text": [
      "Exercise 7.1 looks correct!\n"
     ]
    }
   ],
   "source": [
    "# Ex. 7.1\n",
    "assert type(ex_7_1(df)) == type(pd.Series([9,1,2])), \"Ex. 7.1 - Your output isn't a pandas Series. If you use .groupby(), it outputs a Series by default.\"\n",
    "assert max(ex_7_1(df)) == 76253, \"Ex. 7.1 - Your results don't match ours! Remember that you can use the .size() aggregation function to count the number of elements in a groupby group.\"\n",
    "print(\"Exercise 7.1 looks correct!\")"
   ]
  },
  {
   "cell_type": "code",
   "execution_count": 28,
   "metadata": {
    "deletable": false,
    "editable": false,
    "nbgrader": {
     "cell_type": "code",
     "checksum": "684a631a1c32a9e0b30613aad2f8290d",
     "grade": true,
     "grade_id": "cell-15083640059ae00c",
     "locked": true,
     "points": 3,
     "schema_version": 3,
     "solution": false,
     "task": false
    }
   },
   "outputs": [
    {
     "name": "stdout",
     "output_type": "stream",
     "text": [
      "Exercise 7.3 looks correct!\n"
     ]
    }
   ],
   "source": [
    "# Ex. 7.3\n",
    "with open('data/borough_data.json') as f:\n",
    "    borough_data=json.load(f)\n",
    "borough_data\n",
    "e73 = ex_7_3(df, borough_data)\n",
    "assert \"accidents_per_sq_mi\" in e73.columns, \"Ex. 7.3 - You didn't create an 'accidents_per_sq_mi' in your DataFrame!\"\n",
    "assert round(min(e73[\"accidents_per_sq_mi\"])) == 149, \"Ex. 7.3 - Your output doesn't match ours! Remember that you need to divide the number of accidents in each of the five boroughs by the respective areas in square miles.\"\n",
    "print(\"Exercise 7.3 looks correct!\")"
   ]
  },
  {
   "cell_type": "code",
   "execution_count": 29,
   "metadata": {
    "deletable": false,
    "editable": false,
    "nbgrader": {
     "cell_type": "code",
     "checksum": "cf583fb76876c3355b3167f3fc2a7d0c",
     "grade": true,
     "grade_id": "cell-3a8314b522d587d5",
     "locked": true,
     "points": 2,
     "schema_version": 3,
     "solution": false,
     "task": false
    }
   },
   "outputs": [
    {
     "name": "stdout",
     "output_type": "stream",
     "text": [
      "Exercise 8.1 looks correct!\n"
     ]
    }
   ],
   "source": [
    "# Ex. 8.1\n",
    "assert type(ex_8_1(df)) == type(pd.Series([9,1,2])), \"Ex. 9 - Your output isn't a pandas Series. If you use .groupby(), it outputs a Series by default.\"\n",
    "assert ex_8_1(df).max() == 5701, \"Ex. 8.1 - Your numbers don't match ours. If you haven't already, you can try using .size() as your aggregation function.\"\n",
    "print(\"Exercise 8.1 looks correct!\")"
   ]
  },
  {
   "cell_type": "code",
   "execution_count": 30,
   "metadata": {
    "deletable": false,
    "editable": false,
    "nbgrader": {
     "cell_type": "code",
     "checksum": "8a279f56ba7320c8948853be8fd15f38",
     "grade": true,
     "grade_id": "cell-f7e925a7d3176181",
     "locked": true,
     "points": 3,
     "schema_version": 3,
     "solution": false,
     "task": false
    }
   },
   "outputs": [
    {
     "name": "stdout",
     "output_type": "stream",
     "text": [
      "Exercise 9 looks correct!\n"
     ]
    }
   ],
   "source": [
    "# Ex. 9\n",
    "assert type(ex_9(df)) == type(pd.Series([9,1,2]).to_frame()), \"Ex. 9 - Your output isn't a pandas DataFrame. If you use .groupby(), it outputs a Series by default.\"\n",
    "assert len(ex_9(df)) == 6, \"Ex. 9 - Your output doesn't have six elements. Did you forget to use .head(6)?\"\n",
    "assert int(ex_9(df)[\"index\"].sum()) == 316248, \"Ex. 9 - Your numbers don't match ours. Are you sure you sorted your Series in descending order? If you haven't already, you can try using .count() as your aggregation function.\"\n",
    "print(\"Exercise 9 looks correct!\")"
   ]
  },
  {
   "cell_type": "code",
   "execution_count": 31,
   "metadata": {
    "deletable": false,
    "editable": false,
    "nbgrader": {
     "cell_type": "code",
     "checksum": "81078927b649ce50a0684c42913764a6",
     "grade": true,
     "grade_id": "cell-5d8b6e5f8bc04083",
     "locked": true,
     "points": 3,
     "schema_version": 3,
     "solution": false,
     "task": false
    }
   },
   "outputs": [
    {
     "name": "stdout",
     "output_type": "stream",
     "text": [
      "Exercise 10 looks correct!\n"
     ]
    }
   ],
   "source": [
    "# Ex. 10\n",
    "assert type(ex_10(df)) == type(pd.Series([9,1,2]).to_frame()), \"Ex. 10 - Your output isn't a pandas DataFrame. If you use .groupby(), it outputs a Series by default.\"\n",
    "assert len(ex_10(df)[\"index\"]) == 10, \"Ex. 10 - Your output doesn't have 10 elements. Did you forget to use .head(10)?\"\n",
    "assert ex_10(df)[\"index\"].sum() == 229882, \"Ex. 10 - Your numbers don't match ours. Are you sure you sorted your Series in descending order? If you haven't already, you can try using .count() as your aggregation function.\"\n",
    "print(\"Exercise 10 looks correct!\")"
   ]
  },
  {
   "cell_type": "code",
   "execution_count": 32,
   "metadata": {
    "deletable": false,
    "editable": false,
    "nbgrader": {
     "cell_type": "code",
     "checksum": "7e3a751e249a4c6d14764d62407c9d56",
     "grade": true,
     "grade_id": "cell-7ca8cbd13d9c22d1",
     "locked": true,
     "points": 3,
     "schema_version": 3,
     "solution": false,
     "task": false
    }
   },
   "outputs": [
    {
     "name": "stdout",
     "output_type": "stream",
     "text": [
      "Exercise 12.1 looks correct!\n"
     ]
    }
   ],
   "source": [
    "# Ex. 12\n",
    "e12 = ex_12(df)\n",
    "assert type(e12) == type(pd.Series([9,1,2]).to_frame()), \"Ex. 12 - Your output isn't a pandas DataFrame. If you use .groupby(), it outputs a Series by default.\"\n",
    "assert int(e12.loc[\"Bike\"]) == 19, \"Ex. 12 - Your output doesn't match ours! Remember that you need to remove the duplicate pairs and use the .sum() aggregation function in your groupby.\"\n",
    "print(\"Exercise 12.1 looks correct!\")"
   ]
  },
  {
   "cell_type": "markdown",
   "metadata": {
    "deletable": false,
    "editable": false,
    "nbgrader": {
     "cell_type": "markdown",
     "checksum": "952f138caca9832b6a06e9e94dd62f30",
     "grade": false,
     "grade_id": "cell-3b34aebdab696006",
     "locked": true,
     "schema_version": 3,
     "solution": false,
     "task": false
    }
   },
   "source": [
    "## Attribution\n",
    "\n",
    "\"Vehicle Collisions in NYC 2015-Present\", New York Police Department, [NYC Open Data terms of use](https://opendata.cityofnewyork.us/overview/#termsofuse), https://www.kaggle.com/nypd/vehicle-collisions\n",
    "\n",
    "\"Boroughs of New York City\", Creative Commons Attribution-ShareAlike License, https://en.wikipedia.org/wiki/Boroughs_of_New_York_City"
   ]
  }
 ],
 "metadata": {
  "c1_recart": "6.5.0-57c20131aabc1dc2a8c675852d80a7da",
  "kernelspec": {
   "display_name": "Python 3",
   "language": "python",
   "name": "python3"
  },
  "language_info": {
   "codemirror_mode": {
    "name": "ipython",
    "version": 3
   },
   "file_extension": ".py",
   "mimetype": "text/x-python",
   "name": "python",
   "nbconvert_exporter": "python",
   "pygments_lexer": "ipython3",
   "version": "3.8.8"
  },
  "varInspector": {
   "cols": {
    "lenName": 16,
    "lenType": 16,
    "lenVar": 40
   },
   "kernels_config": {
    "python": {
     "delete_cmd_postfix": "",
     "delete_cmd_prefix": "del ",
     "library": "var_list.py",
     "varRefreshCmd": "print(var_dic_list())"
    },
    "r": {
     "delete_cmd_postfix": ") ",
     "delete_cmd_prefix": "rm(",
     "library": "var_list.r",
     "varRefreshCmd": "cat(var_dic_list()) "
    }
   },
   "types_to_exclude": [
    "module",
    "function",
    "builtin_function_or_method",
    "instance",
    "_Feature"
   ],
   "window_display": false
  }
 },
 "nbformat": 4,
 "nbformat_minor": 2
}
