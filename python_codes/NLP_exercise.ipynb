{
 "cells": [
  {
   "cell_type": "markdown",
   "metadata": {},
   "source": [
    "# Generating useful features for further analysis on Amazon reviews\n",
    "\n",
    "## Introduction\n",
    "\n",
    "**Business Context.** You are a business consultant with new clients that are interested in analyzing reviews of their products on Amazon (as opposed to Yelp). They want to answer business questions like: \"What are the most important factors driving negative reviews?\", \"Have there been any large changes to customer satisfaction/reviews over time?\", etc.\n",
    "\n",
    "**Business Problem.** Your main task is to **explore the given data and use the results of your investigation to engineer relevant features that could facilitate subsequent analysis and model-building**.\n",
    "\n",
    "**Analytical Context.** The dataset provided is a large body of reviews related to movies and television left on Amazon between 1996 and 2014. When exploring our dataset, we will quickly encounter a familiar problem we discussed in the previous case: the word \"good\" is one of the most important words in both positive *and* negative reviews. Thus, we must develop methods to put \"good\" in the appropriate context."
   ]
  },
  {
   "cell_type": "markdown",
   "metadata": {},
   "source": [
    "## Loading the data\n",
    "\n",
    "We use a dataset of around 37,000 video reviews from Amazon Instant Video and 1,700,000 movie and TV reviews, all obtained from the website: http://jmcauley.ucsd.edu/data/amazon/. Note that there are much larger datasets available at the same site. We can expect better and more consistent results on larger datasets (such as book reviews). Note that these datasets are compressed (gzipped), and they are in [JSON](https://en.wikipedia.org/wiki/JSON) format, with each line representing a review and each line being its own JSON object.\n",
    "\n",
    "We begin by loading the dataset below:"
   ]
  },
  {
   "cell_type": "code",
   "execution_count": 1,
   "metadata": {},
   "outputs": [],
   "source": [
    "%matplotlib inline"
   ]
  },
  {
   "cell_type": "code",
   "execution_count": 2,
   "metadata": {},
   "outputs": [
    {
     "name": "stderr",
     "output_type": "stream",
     "text": [
      "[nltk_data] Downloading package punkt to /home/jovyan/nltk_data...\n",
      "[nltk_data]   Package punkt is already up-to-date!\n"
     ]
    },
    {
     "name": "stdout",
     "output_type": "stream",
     "text": [
      "CPU times: user 1.96 s, sys: 794 ms, total: 2.76 s\n",
      "Wall time: 11.8 s\n"
     ]
    }
   ],
   "source": [
    "%%time\n",
    "import gzip\n",
    "import json\n",
    "import string\n",
    "\n",
    "import nltk # imports the natural language toolkit\n",
    "import pandas as pd\n",
    "import plotly\n",
    "import matplotlib.pyplot as plt\n",
    "\n",
    "nltk.download('punkt')\n",
    "\n",
    "\n",
    "# we can tell pandas that our file is in gzip format and it will handle the decompression for us\n",
    "# we also use `lines=True` to indicate that each line of the file is its own JSON object\n",
    "instant_video = pd.read_json(\"reviews_Amazon_Instant_Video_5.json.gz\", lines=True, compression='gzip')\n",
    "\n",
    "\n",
    "# ----------\n",
    "# The Movies and TV file is very big. If you have problems loading it, you can load only the first \n",
    "# 10000 reviews by using 'chunksize'. All of the analysis can be \n",
    "# done in the same way using only the subset of reviews but some of the results might be different from the examples.\n",
    "# ----------\n",
    "movies_tv = next(pd.read_json(\"reviews_Movies_and_TV_5.json.gz\", lines=True, compression='gzip', chunksize=10000))\n",
    "# If your computer has enough memory, uncomment the line below to use the entire dataset.\n",
    "# movies_tv = pd.read_json(\"reviews_Movies_and_TV_5.json.gz\", lines=True, compression='gzip')\n"
   ]
  },
  {
   "cell_type": "markdown",
   "metadata": {},
   "source": [
    "## Examining the data\n",
    "\n",
    "We take a look at the first 5 rows of each dataset to see what attributes are available. These are\n",
    "\n",
    "* **reviewerID:** A unique ID to identify the author of the review.\n",
    "* **asin:** The [\"Amazon Standard Identification Number\"](https://www.amazon.com/gp/seller/asin-upc-isbn-info.html) which provides more information about the exact product and version.\n",
    "* **reviewerName:** The username chosen by the reviewer.\n",
    "* **helpful:** A record of how many users indicated that the review was helpful/not helpful.\n",
    "* **reviewText:** The full text of the review.\n",
    "* **overall:** The overall rating (1-5) left by the reviewer.\n",
    "* **summary:** A short version of the review, used as the title.\n",
    "* **unixReviewTime:** The date that the review was created, in [Unix Epoch](https://en.wikipedia.org/wiki/Unix_time) format.\n",
    "* **reviewTime:** A human readable date giving the day, month, and year.\n",
    "</font>"
   ]
  },
  {
   "cell_type": "code",
   "execution_count": 3,
   "metadata": {},
   "outputs": [
    {
     "name": "stdout",
     "output_type": "stream",
     "text": [
      "37126\n",
      "       reviewerID        asin                    reviewerName helpful  \\\n",
      "0  A11N155CW1UV02  B000H00VBQ                        AdrianaM  [0, 0]   \n",
      "1  A3BC8O2KCL29V2  B000H00VBQ                         Carol T  [0, 0]   \n",
      "2   A60D5HQFOTSOM  B000H00VBQ  Daniel Cooper \"dancoopermedia\"  [0, 1]   \n",
      "3  A1RJPIGRSNX4PW  B000H00VBQ                  J. Kaplan \"JJ\"  [0, 0]   \n",
      "4  A16XRPF40679KG  B000H00VBQ                   Michael Dobey  [1, 1]   \n",
      "\n",
      "                                          reviewText  overall  \\\n",
      "0  I had big expectations because I love English ...        2   \n",
      "1  I highly recommend this series. It is a must f...        5   \n",
      "2  This one is a real snoozer. Don't believe anyt...        1   \n",
      "3  Mysteries are interesting.  The tension betwee...        4   \n",
      "4  This show always is excellent, as far as briti...        5   \n",
      "\n",
      "                          summary  unixReviewTime   reviewTime  \n",
      "0      A little bit boring for me      1399075200   05 3, 2014  \n",
      "1           Excellent Grown Up TV      1346630400   09 3, 2012  \n",
      "2           Way too boring for me      1381881600  10 16, 2013  \n",
      "3     Robson Green is mesmerizing      1383091200  10 30, 2013  \n",
      "4  Robson green and great writing      1234310400  02 11, 2009  \n"
     ]
    }
   ],
   "source": [
    "print(len(instant_video))\n",
    "print(instant_video.head(5))"
   ]
  },
  {
   "cell_type": "code",
   "execution_count": 4,
   "metadata": {},
   "outputs": [
    {
     "name": "stdout",
     "output_type": "stream",
     "text": [
      "10000\n",
      "       reviewerID        asin                         reviewerName helpful  \\\n",
      "0   ADZPIG9QOCDG5  0005019281  Alice L. Larson \"alice-loves-books\"  [0, 0]   \n",
      "1  A35947ZP82G7JH  0005019281                        Amarah Strack  [0, 0]   \n",
      "2  A3UORV8A9D5L2E  0005019281                      Amazon Customer  [0, 0]   \n",
      "3  A1VKW06X1O2X7V  0005019281           Amazon Customer \"Softmill\"  [0, 0]   \n",
      "4  A3R27T4HADWFFJ  0005019281                                 BABE  [0, 0]   \n",
      "\n",
      "                                          reviewText  overall  \\\n",
      "0  This is a charming version of the classic Dick...        4   \n",
      "1  It was good but not as emotionally moving as t...        3   \n",
      "2  Don't get me wrong, Winkler is a wonderful cha...        3   \n",
      "3  Henry Winkler is very good in this twist on th...        5   \n",
      "4  This is one of the best Scrooge movies out.  H...        4   \n",
      "\n",
      "                                        summary  unixReviewTime   reviewTime  \n",
      "0                     good version of a classic      1203984000  02 26, 2008  \n",
      "1                        Good but not as moving      1388361600  12 30, 2013  \n",
      "2         Winkler's Performance was ok at best!      1388361600  12 30, 2013  \n",
      "3  It's an enjoyable twist on the classic story      1202860800  02 13, 2008  \n",
      "4                              Best Scrooge yet      1387670400  12 22, 2013  \n"
     ]
    }
   ],
   "source": [
    "print(len(movies_tv))\n",
    "print(movies_tv.head(5))"
   ]
  },
  {
   "cell_type": "markdown",
   "metadata": {},
   "source": [
    "We notice that `movies_tv` is extremely long with nearly 2 million reviews, and several columns seem uninteresting or hard to work with (e.g. `reviewerID`, `asin`, `reviewername`, `reviewtime`). We drop some information to make some of our later analysis more efficient. We also add a datetime column with Python datetime objects to more easily summarize the data:"
   ]
  },
  {
   "cell_type": "code",
   "execution_count": 5,
   "metadata": {},
   "outputs": [
    {
     "name": "stdout",
     "output_type": "stream",
     "text": [
      "CPU times: user 120 ms, sys: 2.56 ms, total: 122 ms\n",
      "Wall time: 506 ms\n"
     ]
    }
   ],
   "source": [
    "%%time\n",
    "movies_tv['datetime'] = pd.to_datetime(movies_tv['reviewTime'], format=\"%m %d, %Y\")\n",
    "instant_video['datetime'] = pd.to_datetime(instant_video['reviewTime'], format=\"%m %d, %Y\")"
   ]
  },
  {
   "cell_type": "code",
   "execution_count": 6,
   "metadata": {},
   "outputs": [
    {
     "data": {
      "text/html": [
       "<div>\n",
       "<style scoped>\n",
       "    .dataframe tbody tr th:only-of-type {\n",
       "        vertical-align: middle;\n",
       "    }\n",
       "\n",
       "    .dataframe tbody tr th {\n",
       "        vertical-align: top;\n",
       "    }\n",
       "\n",
       "    .dataframe thead th {\n",
       "        text-align: right;\n",
       "    }\n",
       "</style>\n",
       "<table border=\"1\" class=\"dataframe\">\n",
       "  <thead>\n",
       "    <tr style=\"text-align: right;\">\n",
       "      <th></th>\n",
       "      <th>helpful</th>\n",
       "      <th>reviewText</th>\n",
       "      <th>overall</th>\n",
       "      <th>summary</th>\n",
       "      <th>unixReviewTime</th>\n",
       "      <th>datetime</th>\n",
       "    </tr>\n",
       "  </thead>\n",
       "  <tbody>\n",
       "    <tr>\n",
       "      <th>0</th>\n",
       "      <td>[0, 0]</td>\n",
       "      <td>This is a charming version of the classic Dick...</td>\n",
       "      <td>4</td>\n",
       "      <td>good version of a classic</td>\n",
       "      <td>1203984000</td>\n",
       "      <td>2008-02-26</td>\n",
       "    </tr>\n",
       "    <tr>\n",
       "      <th>1</th>\n",
       "      <td>[0, 0]</td>\n",
       "      <td>It was good but not as emotionally moving as t...</td>\n",
       "      <td>3</td>\n",
       "      <td>Good but not as moving</td>\n",
       "      <td>1388361600</td>\n",
       "      <td>2013-12-30</td>\n",
       "    </tr>\n",
       "    <tr>\n",
       "      <th>2</th>\n",
       "      <td>[0, 0]</td>\n",
       "      <td>Don't get me wrong, Winkler is a wonderful cha...</td>\n",
       "      <td>3</td>\n",
       "      <td>Winkler's Performance was ok at best!</td>\n",
       "      <td>1388361600</td>\n",
       "      <td>2013-12-30</td>\n",
       "    </tr>\n",
       "    <tr>\n",
       "      <th>3</th>\n",
       "      <td>[0, 0]</td>\n",
       "      <td>Henry Winkler is very good in this twist on th...</td>\n",
       "      <td>5</td>\n",
       "      <td>It's an enjoyable twist on the classic story</td>\n",
       "      <td>1202860800</td>\n",
       "      <td>2008-02-13</td>\n",
       "    </tr>\n",
       "    <tr>\n",
       "      <th>4</th>\n",
       "      <td>[0, 0]</td>\n",
       "      <td>This is one of the best Scrooge movies out.  H...</td>\n",
       "      <td>4</td>\n",
       "      <td>Best Scrooge yet</td>\n",
       "      <td>1387670400</td>\n",
       "      <td>2013-12-22</td>\n",
       "    </tr>\n",
       "  </tbody>\n",
       "</table>\n",
       "</div>"
      ],
      "text/plain": [
       "  helpful                                         reviewText  overall  \\\n",
       "0  [0, 0]  This is a charming version of the classic Dick...        4   \n",
       "1  [0, 0]  It was good but not as emotionally moving as t...        3   \n",
       "2  [0, 0]  Don't get me wrong, Winkler is a wonderful cha...        3   \n",
       "3  [0, 0]  Henry Winkler is very good in this twist on th...        5   \n",
       "4  [0, 0]  This is one of the best Scrooge movies out.  H...        4   \n",
       "\n",
       "                                        summary  unixReviewTime   datetime  \n",
       "0                     good version of a classic      1203984000 2008-02-26  \n",
       "1                        Good but not as moving      1388361600 2013-12-30  \n",
       "2         Winkler's Performance was ok at best!      1388361600 2013-12-30  \n",
       "3  It's an enjoyable twist on the classic story      1202860800 2008-02-13  \n",
       "4                              Best Scrooge yet      1387670400 2013-12-22  "
      ]
     },
     "execution_count": 6,
     "metadata": {},
     "output_type": "execute_result"
    }
   ],
   "source": [
    "movies_tv = movies_tv.drop(columns = ['reviewerID', 'asin', 'reviewerName', 'reviewTime'])\n",
    "instant_video = instant_video.drop(columns = ['reviewerID', 'asin', 'reviewerName', 'reviewTime'])\n",
    "\n",
    "movies_tv.head(5)"
   ]
  },
  {
   "cell_type": "markdown",
   "metadata": {
    "tags": [
     "45_min"
    ]
   },
   "source": [
    "### Exercise 1:\n",
    "\n",
    "#### 1.1\n",
    "\n",
    "Plot histograms of all numeric quantities. Do you notice anything interesting about them?"
   ]
  },
  {
   "cell_type": "markdown",
   "metadata": {
    "tags": [
     "ans_st"
    ]
   },
   "source": [
    "**Answer.**"
   ]
  },
  {
   "cell_type": "markdown",
   "metadata": {},
   "source": [
    "1. For the `instant_video` dataset:"
   ]
  },
  {
   "cell_type": "code",
   "execution_count": 7,
   "metadata": {},
   "outputs": [
    {
     "data": {
      "image/png": "[encoded data removed]",
      "text/plain": [
       "<Figure size 576x396 with 1 Axes>"
      ]
     },
     "metadata": {},
     "output_type": "display_data"
    }
   ],
   "source": [
    "plt.style.use('seaborn')\n",
    "plt.hist(instant_video['overall'],bins=5)\n",
    "plt.xlabel('Rating')\n",
    "plt.ylabel('Frequency')\n",
    "plt.title('Histogram of reviews rating');"
   ]
  },
  {
   "cell_type": "code",
   "execution_count": 8,
   "metadata": {},
   "outputs": [
    {
     "data": {
      "image/png": "[encoded data removed]",
      "text/plain": [
       "<Figure size 576x396 with 1 Axes>"
      ]
     },
     "metadata": {},
     "output_type": "display_data"
    }
   ],
   "source": [
    "plt.hist(instant_video['unixReviewTime'])\n",
    "plt.xlabel('unixReviewTime')\n",
    "plt.ylabel('Frequency')\n",
    "plt.title('Histogram of unixReviewTime');"
   ]
  },
  {
   "cell_type": "markdown",
   "metadata": {},
   "source": [
    "2. For the `movies_tv` dataset"
   ]
  },
  {
   "cell_type": "code",
   "execution_count": 9,
   "metadata": {},
   "outputs": [
    {
     "data": {
      "image/png": "[encoded data removed]",
      "text/plain": [
       "<Figure size 576x396 with 1 Axes>"
      ]
     },
     "metadata": {},
     "output_type": "display_data"
    }
   ],
   "source": [
    "plt.hist(movies_tv['overall'],bins=5)\n",
    "plt.xlabel('Rating')\n",
    "plt.ylabel('Frequency')\n",
    "plt.title('Histogram of reviews rating');"
   ]
  },
  {
   "cell_type": "code",
   "execution_count": 10,
   "metadata": {},
   "outputs": [
    {
     "data": {
      "image/png": "[encoded data removed]",
      "text/plain": [
       "<Figure size 576x396 with 1 Axes>"
      ]
     },
     "metadata": {},
     "output_type": "display_data"
    }
   ],
   "source": [
    "plt.hist(movies_tv['unixReviewTime'])\n",
    "plt.xlabel('unixReviewTime')\n",
    "plt.ylabel('Frequency')\n",
    "plt.title('Histogram of unixReviewTime');"
   ]
  },
  {
   "cell_type": "markdown",
   "metadata": {},
   "source": [
    "We could see that for both datasets the distribution of the review rating (`overall`) is quite similar, being the good reviews overwhelmingly higher than the bad reviews (4,5 vs. 1,2). Where the two sets differ is in `unixReviewTime`. We can see that for `instant_video` the vast majority of reviews where done in the last years, mainly 2014, whilst in the `movies_tv` we also see an uprise in 2014, but a more homogeneous distribution on previous years."
   ]
  },
  {
   "cell_type": "markdown",
   "metadata": {},
   "source": [
    "-------"
   ]
  },
  {
   "cell_type": "markdown",
   "metadata": {},
   "source": [
    "#### 1.2\n",
    "\n",
    "How do average ratings change over time? Plot the average rating for each year and note any trends."
   ]
  },
  {
   "cell_type": "markdown",
   "metadata": {
    "tags": [
     "ans_st"
    ]
   },
   "source": [
    "**Answer.**"
   ]
  },
  {
   "cell_type": "code",
   "execution_count": 11,
   "metadata": {},
   "outputs": [],
   "source": [
    "instant_video['year'] = instant_video['datetime'].dt.year\n",
    "movies_tv['year'] = movies_tv['datetime'].dt.year"
   ]
  },
  {
   "cell_type": "code",
   "execution_count": 12,
   "metadata": {},
   "outputs": [
    {
     "data": {
      "image/png": "[encoded data removed]",
      "text/plain": [
       "<Figure size 576x396 with 1 Axes>"
      ]
     },
     "metadata": {},
     "output_type": "display_data"
    }
   ],
   "source": [
    "plt.plot(instant_video.groupby('year')['overall'].mean(),marker='o',label='instant_video')\n",
    "plt.plot(movies_tv.groupby('year')['overall'].mean(),marker='',label='movies_tv')\n",
    "plt.title('Average rating per year')\n",
    "plt.ylabel('Rating')\n",
    "plt.legend();"
   ]
  },
  {
   "cell_type": "markdown",
   "metadata": {},
   "source": [
    "For the `movies_tv` dataset we could see a clear trend towards better reviewing ratings. On the other hand, we could not say much about the `instant_video` dataset. This one exhibits two high values on 2000 and 2006, but since 2007 it is mostly between 4 and 4.2. "
   ]
  },
  {
   "cell_type": "markdown",
   "metadata": {},
   "source": [
    "-------"
   ]
  },
  {
   "cell_type": "markdown",
   "metadata": {},
   "source": [
    "#### 1.3\n",
    "\n",
    "Look at the average length of the review by year. Do you notice any trends?"
   ]
  },
  {
   "cell_type": "code",
   "execution_count": 13,
   "metadata": {},
   "outputs": [
    {
     "data": {
      "text/plain": [
       "<AxesSubplot:xlabel='datetime'>"
      ]
     },
     "execution_count": 13,
     "metadata": {},
     "output_type": "execute_result"
    },
    {
     "data": {
      "image/png": "[encoded data removed]",
      "text/plain": [
       "<Figure size 576x396 with 1 Axes>"
      ]
     },
     "metadata": {},
     "output_type": "display_data"
    },
    {
     "data": {
      "image/png": "[encoded data removed]",
      "text/plain": [
       "<Figure size 576x396 with 1 Axes>"
      ]
     },
     "metadata": {},
     "output_type": "display_data"
    }
   ],
   "source": [
    "instant_video['length'] = instant_video['reviewText'].apply(len)\n",
    "instant_video.groupby(instant_video.datetime.dt.year)['length'].mean().to_frame().plot(kind=\"bar\")\n",
    "\n",
    "movies_tv['length'] = movies_tv['reviewText'].apply(len)\n",
    "movies_tv.groupby(movies_tv.datetime.dt.year)['length'].mean().to_frame().plot(kind=\"bar\")"
   ]
  },
  {
   "cell_type": "markdown",
   "metadata": {
    "tags": [
     "ans_st"
    ]
   },
   "source": [
    "**Answer.**"
   ]
  },
  {
   "cell_type": "markdown",
   "metadata": {},
   "source": [
    "We could clearly see that there is a downward trend in the length of reviews for both datasets. More interesting is the fact that during 2014 reviews exhibit one of the lowest values of review lengths."
   ]
  },
  {
   "cell_type": "markdown",
   "metadata": {},
   "source": [
    "-------"
   ]
  },
  {
   "cell_type": "markdown",
   "metadata": {
    "tags": [
     "60_min"
    ]
   },
   "source": [
    "### Exercise 2:\n",
    "\n",
    "#### 2.1\n",
    "\n",
    "Find the ten most frequently occuring non-stop words acrooss: (i) all reviews, (ii) positive reviews, (iii) negative reviews. Do the results surprise you? Why or why not?"
   ]
  },
  {
   "cell_type": "markdown",
   "metadata": {
    "tags": [
     "ans_st"
    ]
   },
   "source": [
    "**Answer.**"
   ]
  },
  {
   "cell_type": "markdown",
   "metadata": {},
   "source": [
    "First of all, we begin by loading the stopwords in order to avoid counting them in our reviews:"
   ]
  },
  {
   "cell_type": "code",
   "execution_count": 14,
   "metadata": {},
   "outputs": [
    {
     "name": "stderr",
     "output_type": "stream",
     "text": [
      "[nltk_data] Downloading package stopwords to /home/jovyan/nltk_data...\n",
      "[nltk_data]   Package stopwords is already up-to-date!\n"
     ]
    }
   ],
   "source": [
    "nltk.download('stopwords')\n",
    "from nltk.corpus import stopwords"
   ]
  },
  {
   "cell_type": "markdown",
   "metadata": {},
   "source": [
    "Secondly, as seen in case_5.3, we could define a function that returns the most common non-stop words:"
   ]
  },
  {
   "cell_type": "code",
   "execution_count": 15,
   "metadata": {},
   "outputs": [],
   "source": [
    "from sklearn.feature_extraction.text import CountVectorizer\n",
    "\n",
    "def get_top_n_words(corpus, n=1,k=1):\n",
    "    vec = CountVectorizer(ngram_range=(k,k),stop_words = 'english').fit(corpus)\n",
    "    bag_of_words = vec.transform(corpus)\n",
    "    sum_words = bag_of_words.sum(axis=0) \n",
    "    words_freq = [(word, sum_words[0, idx]) for word, idx in vec.vocabulary_.items()]\n",
    "    words_freq =sorted(words_freq, key = lambda x: x[1], reverse=True)\n",
    "    return words_freq[:n]"
   ]
  },
  {
   "cell_type": "markdown",
   "metadata": {},
   "source": [
    "Finally, we define what we're going to understand as a positive/negative review. The former is the subset of data that has an `overall` of 4 and 5, while the latter is the subset that exhibits an `overall` of 1 and 2. Of course, all reviews would include an `overall` of 3 along with the positive and negative values.\n",
    "\n",
    "1. All reviews:"
   ]
  },
  {
   "cell_type": "code",
   "execution_count": 16,
   "metadata": {},
   "outputs": [
    {
     "name": "stdout",
     "output_type": "stream",
     "text": [
      "season 16885\n",
      "like 14748\n",
      "series 12901\n",
      "good 12663\n",
      "just 11465\n",
      "great 10594\n",
      "34 10184\n",
      "really 9097\n",
      "love 8989\n",
      "watch 8989\n"
     ]
    }
   ],
   "source": [
    "common_words = get_top_n_words(instant_video['reviewText'],10,1)\n",
    "for word, freq in common_words:\n",
    "    print(word, freq)"
   ]
  },
  {
   "cell_type": "code",
   "execution_count": 17,
   "metadata": {},
   "outputs": [
    {
     "name": "stdout",
     "output_type": "stream",
     "text": [
      "movie 13464\n",
      "film 10666\n",
      "like 4838\n",
      "great 4329\n",
      "good 4238\n",
      "quot 4106\n",
      "just 4046\n",
      "story 3686\n",
      "time 3612\n",
      "really 2877\n"
     ]
    }
   ],
   "source": [
    "common_words = get_top_n_words(movies_tv['reviewText'],10,1)\n",
    "for word, freq in common_words:\n",
    "    print(word, freq)"
   ]
  },
  {
   "cell_type": "markdown",
   "metadata": {},
   "source": [
    "2. Positive reviews:"
   ]
  },
  {
   "cell_type": "code",
   "execution_count": 18,
   "metadata": {},
   "outputs": [
    {
     "name": "stdout",
     "output_type": "stream",
     "text": [
      "season 14255\n",
      "series 10914\n",
      "like 10206\n",
      "good 9692\n",
      "great 9375\n",
      "love 8003\n",
      "just 7342\n",
      "34 7138\n",
      "watch 6912\n",
      "characters 6685\n"
     ]
    }
   ],
   "source": [
    "common_words = get_top_n_words(instant_video[instant_video['overall'].isin([4,5])]['reviewText'],10,1)\n",
    "for word, freq in common_words:\n",
    "    print(word, freq)"
   ]
  },
  {
   "cell_type": "code",
   "execution_count": 19,
   "metadata": {},
   "outputs": [
    {
     "name": "stdout",
     "output_type": "stream",
     "text": [
      "movie 10740\n",
      "film 8445\n",
      "great 3871\n",
      "like 3653\n",
      "quot 3331\n",
      "good 3311\n",
      "just 3022\n",
      "story 3016\n",
      "time 2986\n",
      "love 2470\n"
     ]
    }
   ],
   "source": [
    "common_words = get_top_n_words(movies_tv[movies_tv['overall'].isin([4,5])]['reviewText'],10,1)\n",
    "for word, freq in common_words:\n",
    "    print(word, freq)"
   ]
  },
  {
   "cell_type": "markdown",
   "metadata": {},
   "source": [
    "3. Negative reviews:"
   ]
  },
  {
   "cell_type": "code",
   "execution_count": 20,
   "metadata": {},
   "outputs": [
    {
     "name": "stdout",
     "output_type": "stream",
     "text": [
      "just 2198\n",
      "like 2123\n",
      "movie 1784\n",
      "34 1412\n",
      "film 1206\n",
      "really 1176\n",
      "good 1148\n",
      "don 1021\n",
      "time 1002\n",
      "people 958\n"
     ]
    }
   ],
   "source": [
    "common_words = get_top_n_words(instant_video[instant_video['overall'].isin([1,2])]['reviewText'],10,1)\n",
    "for word, freq in common_words:\n",
    "    print(word, freq)"
   ]
  },
  {
   "cell_type": "code",
   "execution_count": 21,
   "metadata": {},
   "outputs": [
    {
     "name": "stdout",
     "output_type": "stream",
     "text": [
      "movie 1390\n",
      "film 1089\n",
      "like 592\n",
      "just 499\n",
      "jesus 469\n",
      "quot 393\n",
      "good 346\n",
      "really 302\n",
      "story 299\n",
      "people 298\n"
     ]
    }
   ],
   "source": [
    "common_words = get_top_n_words(movies_tv[movies_tv['overall'].isin([1,2])]['reviewText'],10,1)\n",
    "for word, freq in common_words:\n",
    "    print(word, freq)"
   ]
  },
  {
   "cell_type": "markdown",
   "metadata": {},
   "source": [
    "The results have similar words between the three cases evaluated. For example, the words **like** and **good** are common in positive or negative reviews. This is not entirely surprising since we're not controlling for the context."
   ]
  },
  {
   "cell_type": "markdown",
   "metadata": {},
   "source": [
    "-------"
   ]
  },
  {
   "cell_type": "markdown",
   "metadata": {},
   "source": [
    " #### 2.2\n",
    "\n",
    "Find words that are indicative of bad reviews. That is, words that appear often in bad reviews and *not* in good reviews. What are these words and are they surprising?"
   ]
  },
  {
   "cell_type": "markdown",
   "metadata": {
    "tags": [
     "ans_st"
    ]
   },
   "source": [
    "**Answer.**"
   ]
  },
  {
   "cell_type": "code",
   "execution_count": 22,
   "metadata": {},
   "outputs": [
    {
     "data": {
      "text/plain": [
       "{'don', 'film', 'movie', 'people', 'really', 'time'}"
      ]
     },
     "execution_count": 22,
     "metadata": {},
     "output_type": "execute_result"
    }
   ],
   "source": [
    "pos_words = get_top_n_words(instant_video[instant_video['overall'].isin([4,5])]['reviewText'],10,1)\n",
    "neg_words = get_top_n_words(instant_video[instant_video['overall'].isin([1,2])]['reviewText'],10,1)\n",
    "set(pd.DataFrame(neg_words)[0]) - set(pd.DataFrame(pos_words)[0])"
   ]
  },
  {
   "cell_type": "code",
   "execution_count": 23,
   "metadata": {},
   "outputs": [
    {
     "data": {
      "text/plain": [
       "{'jesus', 'people', 'really'}"
      ]
     },
     "execution_count": 23,
     "metadata": {},
     "output_type": "execute_result"
    }
   ],
   "source": [
    "pos_words = get_top_n_words(movies_tv[movies_tv['overall'].isin([4,5])]['reviewText'],10,1)\n",
    "neg_words = get_top_n_words(movies_tv[movies_tv['overall'].isin([1,2])]['reviewText'],10,1)\n",
    "set(pd.DataFrame(neg_words)[0]) - set(pd.DataFrame(pos_words)[0])"
   ]
  },
  {
   "cell_type": "markdown",
   "metadata": {},
   "source": [
    "Continuing with the previous exercise, taking into account only the top 10 words on each of the cases, we could see that the words doesn't are very meaningful in determining the reasons why the negative reviews could really be negative."
   ]
  },
  {
   "cell_type": "markdown",
   "metadata": {},
   "source": [
    "-------"
   ]
  },
  {
   "cell_type": "markdown",
   "metadata": {
    "tags": [
     "25_min"
    ]
   },
   "source": [
    "### Exercise 3:\n",
    "\n",
    "Manually inspect the first 10 negative reviews containing the word \"good\". What do you notice? How does this suggest we ought to proceed next?"
   ]
  },
  {
   "cell_type": "markdown",
   "metadata": {
    "tags": [
     "ans_st"
    ]
   },
   "source": [
    "**Answer.**"
   ]
  },
  {
   "cell_type": "code",
   "execution_count": 24,
   "metadata": {},
   "outputs": [
    {
     "data": {
      "text/plain": [
       "['I watched this because the Brits usually do a good job with good production values, casting and story lines.  However, in this case it proved a waste of 5 hours. The writers, directors and editors should be ashamed to put their names in the credits.  Important things happen with no apparent reason and the watcher is left scratching his/her head wondering what was the point.  The American general is miscast and not believable.  Lots of clicking of computer keyboards for solutions that never seem to work out. The ending stinks!',\n",
       " \"You know the plot. Trashy kids being trashy. The &#34;good&#34; ones are the &#34;poor&#34; ones. The rich trashy kids are just &#34;bad&#34;. Another movie to help the retarded careers of this TV show's actors. They are all old and washed out. But they still try to be hip and cool with their texting and foul mouths, sex videos. Sorry if you can't route for the heroine of the movie it clearly isn't worth watching.\",\n",
       " \"There's a scene in Misery where the author writes what he thinks his nurse/tormentor wants to read and suffers for his presumption. Her main problem is the fact that he cheated when he explained that his heroine was alive, but there was also the fact that he was second guessing his audience. Instead of writing something that he could be proud of, he wrote something that he thought that the audience wanted. In many ways, the decline in quality of Veronica Mars reflected this issue. In the third season of Veronica Mars, Rob Thomas veered away from the season long arc and the feminist context and chose instead to focus on shorter story arcs and one-off episodes that didn't tie into the arcs. Instead of making the show easy for potential new fans, Thomas disappointed the existing fans.There was also the issue of the heroine graduating from high school. The teenage detective angle worked better when the setting was high school and there was a great metaphor about tying in hard boiled mysteries with high school where no one really is what they appear to be. Buffy recovered from the same setback, but just barely.This movie tries to go in the opposite direction of the third season by making a movie that is solely for the fans but retains that same desperate &#34;LOVE ME&#34; vibe that wrecked the last season. A little fan service is nice. It's cool to see Mac and Wallace again. Veronica working to solve the case and manipulating the police force to do it is fine. It's even nice to see Veronica and Logan fall into their old patterns.Ken Marino has established himself in comedic roles in shows like Party Down and Children's Hospital so why not bring back Vinnie Van Lowe.Yet, a little goes a long way and too much just becomes aggravating. Do we really need to get Piz again? Especially when he is still the nice guy that Veronica basically ignores. Does Madison have to be a one-dimensional villain ten years later? Weevil shows up to AGAIN end up on the wrong side of the law. Krysten Ritter appears and then reminds everyone who she was in season 2. The only strange moment of restraint in the movie was not bringing back Adam Scott as the teacher who had sex with a student even though the movie revolves around Carrie Bishop who accused him of rape in the Mars vs. Mars episode from season 1. When the ten year reunion has a tribute to the dead classmates, you almost expect it to take over the movie since there were a lot of dead high school students on the show.With all the fan service, the director and writer forget to tell a compelling story. It's a two hour episode with references that require the Veronica Mars wiki to fully get. Unfortunately, as you are referring to the Wiki, you are getting spoiled for the rather pedestrian mystery - which should already be obvious since it follows the &#34;really popular cult actor shows up in a minor role&#34; pattern.This isn't a bad movie. It just isn't a very good movie.\",\n",
       " \"Ok, here's the thing with this show..everyone in it is excellent..I meaneveryone..the story line is fine and the writing good for the set up.I love the parents and always have but the show falls short of evergetting in the least little bit close to what it could be..I don't know whyit's a disappointment but it is..it's got all this gold and for some reasonit's been cast in lead.  Bummer man, because I would really like to watchthese people..and believe me I have tried more than once.\",\n",
       " \"Don't waste your time with season two.  She could be fun if she wasn't so hateful inside.  Not good.  Yuck.\",\n",
       " \"I just do not like the main character.The only person who seems to like him, is his Mother.His ex-girlfriend hates him, his brother is furious with him, his father is dissapointed with him.Nobody (actors, seem to have a clear line on who they're supposed to be).So far, after 7 episodes,for the first Season, I don't know who, or what anyone is either.Is the owner of the general store, just a stone beetch? Is the IRS auditor just a stone beetch?There is so much good TV. I do not have time to try to figure out what the writers of this show were trying to get across. In my opinion, they had a dart board in their office, and threw darts at it, to see which ones stayed.I'm definately, not willing to watch 18 or so hours of this floundering program.\",\n",
       " \"I only watched one episode. It had too much nudity and sex in it. The story line was good but didn't enjoy the rest.\",\n",
       " \"What show are the rest of these reviewers watching? I was excited to see this after reading the reviews, but barely made it through the first two hours. Incredibly boring, like a lavish network soap with all that implies. The history is sketchy; if you're going to twist history, at least make it fun and appealing in some way that the truth does not.This is one of the slowest and most unpleasant tv shows I have seen in some time. Then again, I don't watch tv, only tv shows on dvd that reviewers I usually trust found to be good. Guess that's not the best way either! Oh well, I found The Office (the funny version) and Arrested Development that way, so it can't be all bad. Didn't work this time, though.Pass.\",\n",
       " \"so i truly enjoyed the first two seasons of Battlestar...truly awesome, military sci/fi show, insane sets, great plot, good acting and those Cylons. all great....the end of season two had some difficulties. alot ALOT less action and more crying. lots of crying. lots of drama. lots of forgetting the entire purpose of the show.season three is where ive ended my battlestar lust....i truly cant take Starbuck anymore, whiny brat...could care less about her romantic interests nor her false bravado.entire spisodes went by with nary a mention of the Cylons.....which, lets be honest...is the best thing about the show.it seems they lost focus or they changed course to appeal to the more 'dramatic' aspects while shelving the 'sci/fi' alltogether.terrible mistake.... i fear season three is when i say frack off Battlestar....you had a AMAZING thing going.\"]"
      ]
     },
     "execution_count": 24,
     "metadata": {},
     "output_type": "execute_result"
    }
   ],
   "source": [
    "reviews_containing_good = [each for each in instant_video[instant_video['overall'].isin([1,2])]['reviewText'] if 'good' in each] + [each for each in movies_tv[movies_tv['overall'].isin([1,2])]['reviewText'] if 'good' in each]\n",
    "reviews_containing_good[0:9]"
   ]
  },
  {
   "cell_type": "markdown",
   "metadata": {},
   "source": [
    "There is a lot of information when we filter the negative reviews that contains the word \"good\". In fact, there is so much information that it turns out to be uninformative. For this reason we should try to find some context, but just extracting some of the words surrounding \"good\"."
   ]
  },
  {
   "cell_type": "markdown",
   "metadata": {},
   "source": [
    "-------"
   ]
  },
  {
   "cell_type": "markdown",
   "metadata": {
    "tags": [
     "45_min"
    ]
   },
   "source": [
    "### Exercise 4:\n",
    "\n",
    "Go through the list of bad reviews containing the word \"good\" that we found in the last question. For each review, extract the following:\n",
    "\n",
    "1. The first word after \"good\"\n",
    "2. The first word after \"good\" that is a noun or cardinal\n",
    "3. The last word before \"good\" that is a noun or cardinal"
   ]
  },
  {
   "cell_type": "markdown",
   "metadata": {
    "tags": [
     "ans_st"
    ]
   },
   "source": [
    "**Answer.**"
   ]
  },
  {
   "cell_type": "markdown",
   "metadata": {},
   "source": [
    "To answer some of this questions it is useful to use the regular expressions module, so we begin loading it and defining a function that let us extract what we're asked for, similar to what we've seen in case_5.3:"
   ]
  },
  {
   "cell_type": "markdown",
   "metadata": {},
   "source": [
    "1. First word after good:"
   ]
  },
  {
   "cell_type": "code",
   "execution_count": 25,
   "metadata": {},
   "outputs": [],
   "source": [
    "import re"
   ]
  },
  {
   "cell_type": "code",
   "execution_count": 26,
   "metadata": {},
   "outputs": [],
   "source": [
    "def next_word(sentence):\n",
    "    post = re.findall(r'good.*', sentence)\n",
    "    if (len(post) > 0):\n",
    "        temp = re.split(r'\\s',post[0])\n",
    "        if (len(temp) > 1):\n",
    "            return(temp[1])\n",
    "        else:\n",
    "            return('')\n",
    "    else:\n",
    "        return('')"
   ]
  },
  {
   "cell_type": "code",
   "execution_count": 27,
   "metadata": {},
   "outputs": [
    {
     "name": "stdout",
     "output_type": "stream",
     "text": [
      "['job', 'ones', 'movie.', 'for', 'TV.', 'but', 'Guess', 'acting', 'actors,', 'mystery!Dani', 'stories,', 'portrayal', 'as', 'Until,', 'one', 'roles', 'for', 'things', 'for', 'example', 'about', 'time,', 'thing', 'and', 'comic', 'Bikers', 'caper', '--', 'nor', 'actress', 'citizen', 'for', 'intentions', 'job', 'and', 'purpose.', 'thing', 'show!Oh', 'people', 'in', 'movie', 'story', 'Battle', 'but', 'guys\"', 'funny', 'The', 'job', 'at', 'episodes', 'stuff', 'guys', 'thing', 'story-telling', 'at', 'Just', 'at', 'they', 'but', 'psychic', 'A', 'quality-wise,', 'guy', 'horror', 'job', 'I', 'for', 'but', 'if', 'but', 'part', 'luck', 'stream', 'character.', 'guy&#34;,', 'story?So', 'fortune', 'Elijah', 'and', 'but', 'to', 'premise', 'administrator.', 'Roman', 'choreography', 'given', 'show', 'but', 'looking', 'to', 'thing,', 'direction', 'TV.', 'effects', 'picture', 'things', 'book.', 'old', 'satire,', 'Scoot', 'cinematography', 'creature', 'but', 'to', 'happens', 'cop', 'people,', 'characters.', 'scary', 'the', 'amount', 'in', '\"Twilight', 'idea', 'as', 'voice', 'to', 'thing', 'job.', 'either.', 'show...', 'rating.', 'and', 'photography.', 'In', 'as', 'cinema.', 'light', 'premise,', 'publicity).', 'The', 'show', 'manners,', 'but', 'story.', 'and', 'movie', 'presentation', 'thing', 'overall', 'executive,', 'but', 'as', 'show', 'though.', 'And', 'reviews)', 'movies', 'enough', 'job', 'measure.', 'idea.', 'at', 'and', 'but', 'horror', 'thing.', 'christians', 'film.', 'guys\"', 'Karma.', 'cast', 'movie.', 'thing', 'idea', 'the', 'use', 'the', 'thing', 'a', 'sci-fi', 'effort.', 'acting', 'or', 'here', 'for', 'Prince/king', 'film', 'tree', 'toss,', 'writers', '1h', 'antisocial', 'for', 'concept?!?!', 'looking', 'enough', 'show', 'clean', 'businessmen/women', \"ol'\", 'to', 'for', 'film....NOTSad', '1/3', 'grades,', 'at', 'actors', 'shows', 'but', 'gets', 'storytelling,', 'value', '`found', 'to', 'seem', 'episode', 'in', 'standup', 'way', 'movie', 'The', \"job.It's\", 'and', 'as', 'showes?', 'but', 'and', 'as', 'scenes', 'travel', 'thing?', 'as', 'story', 'and', 'performance.', 'and', 'but', 'fun.', 'thing', 'idea,', 'about', 'pic,', 'choice.', 'an', \"I'll\", 'the', 'but', 'Her', 'visually', 'film-based', 'but', 'anthology', '(', 'reviews', 'moments,', 'reason:', 'image', 'things', 'follow', 'educationon', 'and', 'twists', 'suspense', 'wife;', 'role', 'actress.Brit', 'can', 'as', 'points,', 'or', 'answer', 'It', 'And', 'guys', 'season,', 'thing.', 'but', 'series', 'from', 'story', 'on', 'why', 'TV', 'because', 'episode', 'for', 'thing', 'old', 'or', 'occasionally', 'way.I', 'picture.', 'adult', 'in', 'stuff', 'moments', 'or', 'guy', 'SPOILERS:Let', 'and', 'program,', 'mystery/thriller/action', 'approach', 'as', 'guy?', 'sequels', 'the', 'it', 'film.', 'with', 'film', 'to', 'cast', 'a', 'with', 'some', 'but', 'special', 'director', 'as', 'horror', 'performances', 'job', 'actress', 'product', 'either', 'atmosphere', 'movie', 'but', 'job', 'use', 'time', 'episodes', 'guy&#34;', 'The', 'at', 'guys,', 'guys\"', 'though.', 'effects,', 'idea.', 'job.', 'as', 'but', 'bit', '...', 'reviews.', 'I', 'chuckle', 'The', 'show', 'I', 'acting', 'reason.', 'The', 'reviews....This', 'show.', 'series', 'relationship', 'decent,', 'story,', 'at', 'pulse-generating', 'script', 'person', 'substitute', 'idea,', 'lawd!)', 'performances', 'canon', 'to', 'of', 'luck', 'there', 'television', 'for', 'guy', 'artistic,', 'acting', 'and', 'but', 'series,', 'the', 'points', 'place', 'thing', 'use.', 'story', \"ol'\", 'as', 'to', 'religious', 'Looks', 'Then', 'idea', 'I', 'musical', 'songs', 'Remotely,', 'musicals,', 'show', 'and', 'combination...', 'show.', 'music', 'Similar', 'actors', 'about', 'I', 'condition', 'one,', 'about', 'it', 'about', 'too.', 'voice', 'it', 'enough', 'idea', 'concept', 'comedy,', 'rating,', 'one-liners,', 'etc.', 'but', 'concept', 'nice', 'television;', 'parts,', 'shows', 'pilot', 'This', 'and', 'cast.', 'but', 'But', 'even', 'but', 'for', 'story,', 'show', 'about', \"day's\", 'show.', 'films', 'humor.', 'artists', 'job', 'if', 'things', 'but', 'intentions,', 'reasons,', 'sign', 'old', 'look', 'I', 'It', 'movie', 'laugh', 'here.', 'thing', 'thing', 'movie.', 'to', 'looking', 'at', 'i', 'premise,', 'conscious', 'leader', 'job,', 'Too', 'the', 'cast', 'HBO', 'one', 'a', 'people', 'the', 'enough', 'The', 'sci-fi', 'enough', 'show.', 'and', 'ideas?', 'looking', 'series', 'stories', 'note', 'then', 'content.....', 'looking', 'as', 'but', 'as', 'time', 'mean', 'as', 'in', 'love', 'but', 'however', 'environmental', 'and', 'job,', 'but', 'choice.', 'and', 'stuff', 'from', 'show,', 'idea,', 'unfortunately', 'The', \"You've\", 'point', 'shows', 'Overall,', 'wisp', 'but', 'actors', 'And', 'role', 'and', '(as', 'idea', 'film.', 'idea?', 'show', 'for', 'but', 'movie.', 'Ted', 'and', 'script', 'about', 'sign', 'the', 'thing.They', 'but', 'guys', 'and', 'person.', 'or', 'professional', 'guys&#34;', 'writing', 'all', 'quality', 'shots', 'to', 'mystery.The', 'the', 'as', 'too,', 'predictable,', 'at', 'LOL,', 'reviews', 'portrayal', 'sitcom,', 'One', 'a', 'at', 'writing', 'ideas,', 'guy.', 'cast', 'but.....', 'in', 'but', 'There', 'old', 'solid', 'good', 'horror', 'year.', 'personalities.', 'money', 'word', 'eye-rolling', 'and', 'follow-up', 'as', 'I', 'fails', 'laugh!', 'I', 'Argento.', 'way', 'stuff', 'If', 'but', 'way.', 'tongue-in-cheek!', 'acting', 'cast', 'at', 'at', 'practice,', 'acting,', 'as', 'money', 'directing', 'performances', 'as', 'heads', 'earth.There', 'as', 'but', 'idea,', 'films', 'But', 'set', 'Now', 'parts.', 'But', 'dancer', 'story', 'moments,', 'idea.', 'way', 'but', 'child', 'singers', 'cinematography.', '&', 'at', 'show,', 'and', 'selections', 'moments,', 'is', 'moments', 'but', 'especially', 'start', 'reason,', 'and', 'it', 'but', 'combination', 'Good', 'taste', 'time', 'writers', 'for', 'actor.', 'thing.', 'legs,', 'shows', 'acting,', 'premise', 'character', 'direction,', 'acting', 'but', 'job.', 'actor', 'job.', 'acting', 'the', 'reviews....I', 'but', 'blackmail.', 'but', 'talented', 'acting', 'acting,', 'show', 'story', 'an', 'Way,', 'drugs.', 'actors', 'Shades', 'plot', 'music', '-', 'idea', 'reviews', 'though.', 'smart', 'Sadly,', 'The', 'reviews?', 'Spend', 'crime', 'actor', 'Titus', 'jet', \"ole'\", 'haunted', '(I', 'friends.Unfortunately', 'it', 'movie', 'OK,', 'movie', 'as', 'investigative', 'this', 'thing', 'script', 'gladiators', 'folks', 'parts.', 'and', 'one', 'and', 'about', 'one', 'side', 'but', 'guys', 'Now,', 'guys', 'Now', 'guys', 'Sloppy.', 'and', 'The', 'idea-Poor', 'or', 'soundtrack', 'racing', 'or', 'as', 'bartender', 'documentaries', 'idea,', 'movie,', 'like', 'just', 'looking', 'series,', 'heart', 'way.', 'father.', 'blah,', 'laughs.The', 'in', 'deal', 'guys&#34;.', 'up', 'decision.', 'one', 'movie', 'reason', 'mystery', 'story.', 'in', 'son', 'had', 'looks', 'atmosphere.', 'cast', 'the', 'but', 'vs.', 'plot', 'cinema', 'and', 'And', 'as', 'Christians', 'parts.', 'or', 'and', 'because', 'to', 'review', 'guy.', 'majority', 'and', 'man', 'about', 'film', 'thing', 'music.', 'film-making', 'knowledge', 'box', 'comes', 'life,', 'chance', 'actor', 'example', 'movie', 'things', 'a', 'pacing', 'Including', 'intention,', 'depictions', 'Christians?These', 'that', 'cinema.My', 'SOUND', 'as', 'knows', 'while', 'one', 'FEATURES:Seriously,', 'That', 'the', 'HiFi', 'I', 'special', 'is', 'thing', 'is', 'He', 'Andrew', 'movie', 'things', 'A', 'by', 'and', 'as', 'hidden', 'idea', 'feelings.', 'reviews', 'job', 'movie', 'I', 'fantasy.', 'movie', 'narrative.', 'example', 'premise,', 'guy', 'as', 'characters', 'series,', 'actors,', 'version', 'foot', 'acting,', 'One', 'dialogue,', 'aspect', 'although', 'to', 'the', 'thing', 'acting', 'guy', 'but', 'Frank', 'match\".', 'reason.Having', 'movie,', 'leading', 'actor', 'not', 'either,', 'it', 'not', 'television.', 'Summers', 'This', 'points.Bad', 'director', 'as', 'but', 'dvd,', 'acting', 'and', 'But', 'as', 'movie', 'in', 'but', 'looking', 'and', 'reviews', 'war', 'movie', 'so', 'I', 'category,', 'time', 'cast', 'at', 'at', 'Plus', 'actors', 'time', 'portion', 'about', 'points', 'as', 'to', 'half', 'thing', 'and', 'performances,', 'job', 'in', 'or', 'what', 'for', 'things', 'if', 'roommate', 'fight', 'mood,', 'as', 'side,', 'stuff:', 'guys.', 'chance', 'aim);', 'thing', 'the', 'naked', 'I', 'I', 'special', 'film:', 'and', 'for', 'chance', 'performances', 'writing', 'documentary', 'part.', 'acting.', 'of', 'hour', 'guy-type', 'when', 'guys', 'ones', 'would', 'acting', 'acting', 'cast', 'Not', 'will.', 'jobs,', 'to', 'example;', 'cast', 'scenes:', 'actor,', 'Harrer', 'at', 'movies', 'on', '-', 'guy', 'actors', 'reason', 'blank', 'too', 'but', 'veiwing', 'movie.', 'to', 'mix', 'scene', 'baseball', 'With', 'after', 'dialogue', 'Enter', 'actress', 'especially']\n"
     ]
    }
   ],
   "source": [
    "post_good = []\n",
    "ind = 0\n",
    "for sentence in reviews_containing_good:\n",
    "    temp = next_word(sentence)\n",
    "    post_good.append(temp)\n",
    "    \n",
    "nonempty = [i for i in post_good if i] \n",
    "print(nonempty)"
   ]
  },
  {
   "cell_type": "markdown",
   "metadata": {},
   "source": [
    "2. First word after \"good\" that is a noun or cardinal:"
   ]
  },
  {
   "cell_type": "code",
   "execution_count": 28,
   "metadata": {},
   "outputs": [
    {
     "data": {
      "text/plain": [
       "['job',\n",
       " 'movie.',\n",
       " 'actors,',\n",
       " 'mystery!Dani',\n",
       " 'stories,',\n",
       " 'portrayal',\n",
       " 'one',\n",
       " 'example',\n",
       " 'thing',\n",
       " 'caper',\n",
       " 'citizen',\n",
       " 'job',\n",
       " 'thing',\n",
       " 'show!Oh',\n",
       " 'movie',\n",
       " 'story',\n",
       " 'job',\n",
       " 'thing',\n",
       " 'story-telling',\n",
       " 'guy',\n",
       " 'horror',\n",
       " 'job',\n",
       " 'part',\n",
       " 'stream',\n",
       " 'character.',\n",
       " 'guy&#34;,',\n",
       " 'story?So',\n",
       " 'fortune',\n",
       " 'choreography',\n",
       " 'show',\n",
       " 'direction',\n",
       " 'cinematography',\n",
       " 'creature',\n",
       " 'people,',\n",
       " 'characters.',\n",
       " 'amount',\n",
       " 'idea',\n",
       " 'voice',\n",
       " 'thing',\n",
       " 'job.',\n",
       " 'either.',\n",
       " 'show...',\n",
       " 'rating.',\n",
       " 'photography.',\n",
       " 'cinema.',\n",
       " 'light',\n",
       " 'premise,',\n",
       " 'show',\n",
       " 'manners,',\n",
       " 'story.',\n",
       " 'movie',\n",
       " 'presentation',\n",
       " 'thing',\n",
       " 'executive,',\n",
       " 'show',\n",
       " 'though.',\n",
       " 'reviews)',\n",
       " 'job',\n",
       " 'idea.',\n",
       " 'horror',\n",
       " 'thing.',\n",
       " 'thing',\n",
       " 'idea',\n",
       " 'use',\n",
       " 'thing',\n",
       " 'effort.',\n",
       " 'acting',\n",
       " 'film',\n",
       " 'tree',\n",
       " 'toss,',\n",
       " '1h',\n",
       " 'concept?!?!',\n",
       " 'show',\n",
       " '1/3',\n",
       " 'grades,',\n",
       " 'value',\n",
       " '`found',\n",
       " 'episode',\n",
       " 'way',\n",
       " 'movie',\n",
       " \"job.It's\",\n",
       " 'showes?',\n",
       " 'story',\n",
       " 'performance.',\n",
       " 'thing',\n",
       " 'idea,',\n",
       " 'pic,',\n",
       " 'choice.',\n",
       " 'anthology',\n",
       " 'moments,',\n",
       " 'reason:',\n",
       " 'image',\n",
       " 'educationon',\n",
       " 'role',\n",
       " 'actress.Brit',\n",
       " 'points,',\n",
       " 'thing.',\n",
       " 'series',\n",
       " 'story',\n",
       " 'TV',\n",
       " 'episode',\n",
       " 'thing',\n",
       " 'picture.',\n",
       " 'adult',\n",
       " 'mystery/thriller/action',\n",
       " 'approach',\n",
       " 'film',\n",
       " 'director',\n",
       " 'horror',\n",
       " 'job',\n",
       " 'product',\n",
       " 'movie',\n",
       " 'job',\n",
       " 'use',\n",
       " 'time',\n",
       " 'guys,',\n",
       " 'guys\"',\n",
       " 'though.',\n",
       " 'effects,',\n",
       " 'idea.',\n",
       " 'job.',\n",
       " 'bit',\n",
       " 'reviews.',\n",
       " 'show',\n",
       " 'reviews....This',\n",
       " 'show.',\n",
       " 'series',\n",
       " 'relationship',\n",
       " 'story,',\n",
       " 'script',\n",
       " 'person',\n",
       " 'idea,',\n",
       " 'lawd!)',\n",
       " 'luck',\n",
       " 'television',\n",
       " 'guy',\n",
       " 'artistic,',\n",
       " 'acting',\n",
       " 'thing',\n",
       " 'story',\n",
       " \"ol'\",\n",
       " 'idea',\n",
       " 'musicals,',\n",
       " 'show',\n",
       " 'combination...',\n",
       " 'show.',\n",
       " 'music',\n",
       " 'voice',\n",
       " 'idea',\n",
       " 'concept',\n",
       " 'etc.',\n",
       " 'television;',\n",
       " 'parts,',\n",
       " 'pilot',\n",
       " 'cast.',\n",
       " 'show',\n",
       " 'show.',\n",
       " 'job',\n",
       " 'reasons,',\n",
       " 'sign',\n",
       " 'look',\n",
       " 'movie',\n",
       " 'thing',\n",
       " 'thing',\n",
       " 'movie.',\n",
       " 'leader',\n",
       " 'job,',\n",
       " 'cast',\n",
       " 'one',\n",
       " 'show.',\n",
       " 'ideas?',\n",
       " 'series',\n",
       " 'time',\n",
       " 'mean',\n",
       " 'love',\n",
       " 'stuff',\n",
       " 'idea,',\n",
       " 'point',\n",
       " 'role',\n",
       " 'idea',\n",
       " 'film.',\n",
       " 'idea?',\n",
       " 'show',\n",
       " 'script',\n",
       " 'sign',\n",
       " 'thing.They',\n",
       " 'person.',\n",
       " 'guys&#34;',\n",
       " 'quality',\n",
       " 'too,',\n",
       " 'predictable,',\n",
       " 'portrayal',\n",
       " 'sitcom,',\n",
       " 'One',\n",
       " 'guy.',\n",
       " 'cast',\n",
       " 'but.....',\n",
       " 'horror',\n",
       " 'year.',\n",
       " 'personalities.',\n",
       " 'money',\n",
       " 'word',\n",
       " 'eye-rolling',\n",
       " 'follow-up',\n",
       " 'way',\n",
       " 'stuff',\n",
       " 'cast',\n",
       " 'practice,',\n",
       " 'acting,',\n",
       " 'money',\n",
       " 'story',\n",
       " 'moments,',\n",
       " 'way',\n",
       " 'child',\n",
       " 'show,',\n",
       " 'moments,',\n",
       " 'reason,',\n",
       " 'combination',\n",
       " 'taste',\n",
       " 'time',\n",
       " 'thing.',\n",
       " 'legs,',\n",
       " 'character',\n",
       " 'direction,',\n",
       " 'actor',\n",
       " 'job.',\n",
       " 'reviews....I',\n",
       " 'blackmail.',\n",
       " 'acting,',\n",
       " 'show',\n",
       " 'story',\n",
       " 'drugs.',\n",
       " 'plot',\n",
       " 'music',\n",
       " 'idea',\n",
       " 'reviews?',\n",
       " 'crime',\n",
       " 'actor',\n",
       " 'jet',\n",
       " \"ole'\",\n",
       " 'movie',\n",
       " 'movie',\n",
       " 'thing',\n",
       " 'script',\n",
       " 'parts.',\n",
       " 'one',\n",
       " 'one',\n",
       " 'side',\n",
       " 'racing',\n",
       " 'bartender',\n",
       " 'heart',\n",
       " 'way.',\n",
       " 'father.',\n",
       " 'blah,',\n",
       " 'laughs.The',\n",
       " 'deal',\n",
       " 'guys&#34;.',\n",
       " 'one',\n",
       " 'movie',\n",
       " 'reason',\n",
       " 'mystery',\n",
       " 'story.',\n",
       " 'son',\n",
       " 'plot',\n",
       " 'cinema',\n",
       " 'majority',\n",
       " 'man',\n",
       " 'film',\n",
       " 'thing',\n",
       " 'knowledge',\n",
       " 'box',\n",
       " 'chance',\n",
       " 'actor',\n",
       " 'example',\n",
       " 'movie',\n",
       " 'cinema.My',\n",
       " 'one',\n",
       " 'thing',\n",
       " 'movie',\n",
       " 'idea',\n",
       " 'feelings.',\n",
       " 'job',\n",
       " 'movie',\n",
       " 'movie',\n",
       " 'example',\n",
       " 'premise,',\n",
       " 'guy',\n",
       " 'version',\n",
       " 'foot',\n",
       " 'One',\n",
       " 'dialogue,',\n",
       " 'aspect',\n",
       " 'thing',\n",
       " 'guy',\n",
       " 'movie,',\n",
       " 'actor',\n",
       " 'points.Bad',\n",
       " 'director',\n",
       " 'movie',\n",
       " 'war',\n",
       " 'movie',\n",
       " 'time',\n",
       " 'cast',\n",
       " 'time',\n",
       " 'portion',\n",
       " 'thing',\n",
       " 'job',\n",
       " 'fight',\n",
       " 'mood,',\n",
       " 'stuff:',\n",
       " 'guys.',\n",
       " 'chance',\n",
       " 'thing',\n",
       " 'film:',\n",
       " 'chance',\n",
       " 'part.',\n",
       " 'acting.',\n",
       " 'hour',\n",
       " 'guy-type',\n",
       " 'guys',\n",
       " 'cast',\n",
       " 'jobs,',\n",
       " 'cast',\n",
       " 'scenes:',\n",
       " 'actor,',\n",
       " 'guy',\n",
       " 'reason',\n",
       " 'scene',\n",
       " 'baseball',\n",
       " 'dialogue',\n",
       " 'actress']"
      ]
     },
     "execution_count": 28,
     "metadata": {},
     "output_type": "execute_result"
    }
   ],
   "source": [
    "[lis[0] for lis in nltk.pos_tag(nonempty) if lis[1] == 'CD' or lis[1] == 'NN']"
   ]
  },
  {
   "cell_type": "markdown",
   "metadata": {},
   "source": [
    "3. Last word before \"good\" that is a noun or cardinal:"
   ]
  },
  {
   "cell_type": "code",
   "execution_count": 29,
   "metadata": {},
   "outputs": [],
   "source": [
    "def next_word(sentence):\n",
    "    post = re.findall(r'.*good', sentence)\n",
    "    if (len(post) > 0):\n",
    "        temp = re.split(r'\\s',post[0])\n",
    "        if (len(temp) > 1):\n",
    "            return(temp[1])\n",
    "        else:\n",
    "            return('')\n",
    "    else:\n",
    "        return('')"
   ]
  },
  {
   "cell_type": "code",
   "execution_count": 30,
   "metadata": {},
   "outputs": [],
   "source": [
    "post_good = []\n",
    "ind = 0\n",
    "for sentence in reviews_containing_good:\n",
    "    temp = next_word(sentence)\n",
    "    post_good.append(temp)\n",
    "    \n",
    "nonempty = [i for i in post_good if i]"
   ]
  },
  {
   "cell_type": "code",
   "execution_count": 31,
   "metadata": {},
   "outputs": [
    {
     "data": {
      "text/plain": [
       "['waste',\n",
       " 'reboot',\n",
       " 'story',\n",
       " '4',\n",
       " 'series',\n",
       " 'show',\n",
       " 'show',\n",
       " 'outta',\n",
       " 'guess',\n",
       " 'one',\n",
       " 'daughter',\n",
       " 'review',\n",
       " 'one',\n",
       " 'story',\n",
       " 'thought',\n",
       " 'pedestrian.',\n",
       " 'review',\n",
       " 'story',\n",
       " 'watch',\n",
       " 'episode',\n",
       " 'movie',\n",
       " 'characters,',\n",
       " 'egg',\n",
       " 'movie',\n",
       " 'show',\n",
       " 'concept',\n",
       " '1',\n",
       " 'see',\n",
       " 'movie',\n",
       " \"hasn't\",\n",
       " 'director',\n",
       " 'movie',\n",
       " 'cynocephalus',\n",
       " 'kind',\n",
       " 'movie',\n",
       " 'movie',\n",
       " 'movie',\n",
       " 'understand',\n",
       " 'series',\n",
       " '407',\n",
       " 'show',\n",
       " 'budget',\n",
       " '(Michelle',\n",
       " 'kung',\n",
       " 'hand',\n",
       " 'let',\n",
       " 'love',\n",
       " 'show.',\n",
       " 'have',\n",
       " 'attempt',\n",
       " 'okay',\n",
       " 'one',\n",
       " 'one',\n",
       " 'film',\n",
       " 'love',\n",
       " 'think',\n",
       " 'knew',\n",
       " 'one',\n",
       " \"don't\",\n",
       " 'show',\n",
       " 'show',\n",
       " 'film',\n",
       " 'show',\n",
       " 'premise',\n",
       " 'line',\n",
       " 'special',\n",
       " 'watch',\n",
       " 'opportunity',\n",
       " 'show',\n",
       " 'nothing',\n",
       " \"didn't\",\n",
       " 'premise,',\n",
       " 'feel',\n",
       " 'sorry',\n",
       " 'disappointment.',\n",
       " 'sat',\n",
       " 'love',\n",
       " 'quit',\n",
       " 'upon',\n",
       " 'movie',\n",
       " 'action',\n",
       " 'lot',\n",
       " 'town',\n",
       " 'second',\n",
       " 'caught',\n",
       " 'weak!',\n",
       " '1980',\n",
       " '(Franck',\n",
       " 'movie',\n",
       " 'movie',\n",
       " 'show',\n",
       " 'movie',\n",
       " 'game',\n",
       " 'thing',\n",
       " 'one',\n",
       " 'waste',\n",
       " 'preview',\n",
       " 'show',\n",
       " 'right,',\n",
       " 'loved,',\n",
       " 'get',\n",
       " 'work',\n",
       " \"don't\",\n",
       " 'show',\n",
       " \"don't\",\n",
       " 'show',\n",
       " 'revelatory',\n",
       " \"can't\",\n",
       " 'movie',\n",
       " 'stars.',\n",
       " 'waste',\n",
       " 'husband',\n",
       " 'show',\n",
       " 'pilot',\n",
       " 'acting,',\n",
       " 'love',\n",
       " 'show',\n",
       " 'love',\n",
       " 'someone',\n",
       " 'blame',\n",
       " 'guess',\n",
       " 'someone',\n",
       " 'bar',\n",
       " \"wasn't\",\n",
       " 'waste',\n",
       " 'disaster',\n",
       " 'cast',\n",
       " 'Resurrection',\n",
       " 'review.',\n",
       " 'mixture',\n",
       " 'movie',\n",
       " 'premise',\n",
       " 'premise',\n",
       " '24',\n",
       " 'perfect',\n",
       " '5/14Rate:',\n",
       " 'movie',\n",
       " '1:',\n",
       " 'movie',\n",
       " 'off,',\n",
       " 'film',\n",
       " 'movie',\n",
       " 'want',\n",
       " \"didn't\",\n",
       " '1997',\n",
       " 'version',\n",
       " 'movie',\n",
       " 'film',\n",
       " \"won't\",\n",
       " 'film',\n",
       " 'movie',\n",
       " 'problem',\n",
       " 'road',\n",
       " 'picture',\n",
       " 'maybe',\n",
       " 'movie',\n",
       " 'Ten',\n",
       " '1997,',\n",
       " 'movie',\n",
       " 'film',\n",
       " 'film',\n",
       " 'horror',\n",
       " 'film',\n",
       " 'movie',\n",
       " \"don't\",\n",
       " 'something',\n",
       " 'film',\n",
       " '2005,',\n",
       " 'movie']"
      ]
     },
     "execution_count": 31,
     "metadata": {},
     "output_type": "execute_result"
    }
   ],
   "source": [
    "[lis[0] for lis in nltk.pos_tag(nonempty) if lis[1] == 'CD' or lis[1] == 'NN']"
   ]
  },
  {
   "cell_type": "markdown",
   "metadata": {},
   "source": [
    "-------"
   ]
  },
  {
   "cell_type": "markdown",
   "metadata": {
    "tags": [
     "30_min"
    ]
   },
   "source": [
    "### Exercise 5:\n",
    "\n",
    "We have seen that individual words are not always very informative. Look for the most informative bigrams and trigrams, in both positive and negative reviews. Show the most informative bigrams and trigrams and give a brief analysis of the n-grams you identified."
   ]
  },
  {
   "cell_type": "markdown",
   "metadata": {
    "tags": [
     "ans_st"
    ]
   },
   "source": [
    "**Answer.**"
   ]
  },
  {
   "cell_type": "markdown",
   "metadata": {},
   "source": [
    "Following the same approach as before, we're going to retrieve only the top 10 most common bigrams and trigrams:\n",
    "\n",
    "- Positive bigrams:"
   ]
  },
  {
   "cell_type": "code",
   "execution_count": 32,
   "metadata": {},
   "outputs": [
    {
     "data": {
      "text/plain": [
       "[('story line', 944),\n",
       " ('second season', 643),\n",
       " ('sci fi', 588),\n",
       " ('story lines', 566),\n",
       " ('ve seen', 564),\n",
       " ('looking forward', 539),\n",
       " ('highly recommend', 538),\n",
       " ('worth watching', 503),\n",
       " ('fun watch', 483),\n",
       " ('amazon prime', 480)]"
      ]
     },
     "execution_count": 32,
     "metadata": {},
     "output_type": "execute_result"
    }
   ],
   "source": [
    "get_top_n_words(instant_video[instant_video['overall'].isin([4,5])]['reviewText'],10,2)"
   ]
  },
  {
   "cell_type": "markdown",
   "metadata": {},
   "source": [
    "- Positive trigrams:"
   ]
  },
  {
   "cell_type": "code",
   "execution_count": 33,
   "metadata": {},
   "outputs": [
    {
     "data": {
      "text/plain": [
       "[('looking forward season', 164),\n",
       " ('keeps getting better', 106),\n",
       " ('great story line', 98),\n",
       " ('love love love', 92),\n",
       " ('does great job', 92),\n",
       " ('good story line', 88),\n",
       " ('just keeps getting', 83),\n",
       " ('gets better better', 82),\n",
       " ('amazon instant video', 80),\n",
       " ('did great job', 77)]"
      ]
     },
     "execution_count": 33,
     "metadata": {},
     "output_type": "execute_result"
    }
   ],
   "source": [
    "get_top_n_words(instant_video[instant_video['overall'].isin([4,5])]['reviewText'],10,3)"
   ]
  },
  {
   "cell_type": "markdown",
   "metadata": {},
   "source": [
    "- Negative bigrams:"
   ]
  },
  {
   "cell_type": "code",
   "execution_count": 34,
   "metadata": {},
   "outputs": [
    {
     "data": {
      "text/plain": [
       "[('waste time', 150),\n",
       " ('story line', 116),\n",
       " ('ve seen', 114),\n",
       " ('don know', 102),\n",
       " ('sci fi', 92),\n",
       " ('don think', 81),\n",
       " ('34 34', 79),\n",
       " ('looks like', 75),\n",
       " ('high school', 64),\n",
       " ('special effects', 63)]"
      ]
     },
     "execution_count": 34,
     "metadata": {},
     "output_type": "execute_result"
    }
   ],
   "source": [
    "get_top_n_words(instant_video[instant_video['overall'].isin([1,2])]['reviewText'],10,2)"
   ]
  },
  {
   "cell_type": "markdown",
   "metadata": {},
   "source": [
    "- Negative trigrams:"
   ]
  },
  {
   "cell_type": "code",
   "execution_count": 35,
   "metadata": {},
   "outputs": [
    {
     "data": {
      "text/plain": [
       "[('don waste time', 43),\n",
       " ('really wanted like', 24),\n",
       " ('parental guide bomb', 14),\n",
       " ('big bang theory', 13),\n",
       " ('waste time money', 12),\n",
       " ('bad acting bad', 12),\n",
       " ('don waste money', 10),\n",
       " ('dvd distribution handled', 10),\n",
       " ('note following review', 10),\n",
       " ('following review contain', 10)]"
      ]
     },
     "execution_count": 35,
     "metadata": {},
     "output_type": "execute_result"
    }
   ],
   "source": [
    "get_top_n_words(instant_video[instant_video['overall'].isin([1,2])]['reviewText'],10,3)"
   ]
  },
  {
   "cell_type": "markdown",
   "metadata": {},
   "source": [
    "The previous analysis let us identify that the trigrams captures more significant positive or negative words than the bigrams. Almost all of the trigrams are really describing a positive/negative situation, while the bigrams still leaves some of those words as uninformative."
   ]
  },
  {
   "cell_type": "markdown",
   "metadata": {},
   "source": [
    "-------"
   ]
  },
  {
   "cell_type": "markdown",
   "metadata": {
    "tags": [
     "15_min"
    ]
   },
   "source": [
    "### Exercise 6:\n",
    "\n",
    "Throughout the above search for informative words, we have seen that unigrams are not enough, but important words (such as \"good\") are not always next to the informative words that they describe. Devise a method to extract these informative words. Provide a brief description of how you will extract the informative words."
   ]
  },
  {
   "cell_type": "markdown",
   "metadata": {
    "tags": [
     "ans_st"
    ]
   },
   "source": [
    "**Answer.**"
   ]
  },
  {
   "cell_type": "markdown",
   "metadata": {},
   "source": [
    "I think that the most important piece of information when giving an opinion about the quality of something, in this context movies and tv series, are words that describes what our thoughts on the issue are: that is, **adjectives**. Also, as we have seen on the previous exercises, the trigrams could be quite useful when analyzing sentences because they give a little bit more of context that an entire passage.\n",
    "\n",
    "In this sense, I think that a method to extract informative words could be to begin extracting **adjectives** from **trigrams** for positive and negative words, and then filtering meaningful words from those lists. In this case, we could define a word as meaningful if it exists *only* in positive reviews, but not in negative reviews.\n",
    "\n",
    "As we have seen, the word \"good\" could be used on positive and negative reviews, however, a word like 'awful' would certainly not be used on a positive review, but in a negative.  "
   ]
  },
  {
   "cell_type": "markdown",
   "metadata": {},
   "source": [
    "-------"
   ]
  },
  {
   "cell_type": "markdown",
   "metadata": {
    "tags": [
     "30_min"
    ]
   },
   "source": [
    "### Exercise 7:\n",
    "\n",
    "Write a function(s) that transforms a sentence into a new text list by iteratively pairing each adjective in the sentence with the next noun that follows it in the sentence. For example, the text \"That was a good, long movie\" should return `[\"good movie\", \"long movie\"]`."
   ]
  },
  {
   "cell_type": "markdown",
   "metadata": {
    "tags": [
     "ans_st"
    ]
   },
   "source": [
    "**Answer.**"
   ]
  },
  {
   "cell_type": "code",
   "execution_count": 73,
   "metadata": {},
   "outputs": [],
   "source": [
    "def list_adj_noun(sentence):\n",
    "    \"\"\"\n",
    "    This function takes a sentence as an input and prints a list\n",
    "    containing an iteration between adjectives and its next nearer noun.\n",
    "    \n",
    "    Arguments: a sentence defined a a str\n",
    "    \n",
    "    Outputs: a list of interest with the pairs of adjectives and nouns of a sentence.\n",
    "    \"\"\"\n",
    "    #Define the elements that returns the function:\n",
    "    list_interest = []\n",
    "    \n",
    "    #Extract the words and identify the adjectives:\n",
    "    words    = nltk.word_tokenize(sentence)\n",
    "    adject   = [k for k,v in nltk.pos_tag(words) if v in ['JJ']]\n",
    "    \n",
    "    #Begin a for loop for each of the adjectives to found its nearest noun:\n",
    "    for a in adject:\n",
    "        pos_ad       = words.index(a)\n",
    "        remain_words = words[pos_ad:len(words)]\n",
    "        next_nouns   = [k for k,v in nltk.pos_tag(remain_words) if v in ['NN']]\n",
    "        if(len(next_nouns) > 0):\n",
    "            list_interest.append([a,next_nouns[0]])\n",
    "        else:\n",
    "            list_interest.append([a,''])\n",
    "                              \n",
    "    return list_interest"
   ]
  },
  {
   "cell_type": "code",
   "execution_count": 74,
   "metadata": {},
   "outputs": [
    {
     "data": {
      "text/plain": [
       "[['good', 'movie'], ['long', 'movie'], ['beautiful', 'movie']]"
      ]
     },
     "execution_count": 74,
     "metadata": {},
     "output_type": "execute_result"
    }
   ],
   "source": [
    "sentence = \"That was a good, long beautiful movie\"\n",
    "list_adj_noun(sentence)"
   ]
  },
  {
   "cell_type": "markdown",
   "metadata": {},
   "source": [
    "-------"
   ]
  }
 ],
 "metadata": {
  "c1_recart": "6.10.0-57c20131aabc1dc2a8c675852d80a7da",
  "kernelspec": {
   "display_name": "Python 3",
   "language": "python",
   "name": "python3"
  },
  "language_info": {
   "codemirror_mode": {
    "name": "ipython",
    "version": 3
   },
   "file_extension": ".py",
   "mimetype": "text/x-python",
   "name": "python",
   "nbconvert_exporter": "python",
   "pygments_lexer": "ipython3",
   "version": "3.8.5"
  },
  "varInspector": {
   "cols": {
    "lenName": 16,
    "lenType": 16,
    "lenVar": 40
   },
   "kernels_config": {
    "python": {
     "delete_cmd_postfix": "",
     "delete_cmd_prefix": "del ",
     "library": "var_list.py",
     "varRefreshCmd": "print(var_dic_list())"
    },
    "r": {
     "delete_cmd_postfix": ") ",
     "delete_cmd_prefix": "rm(",
     "library": "var_list.r",
     "varRefreshCmd": "cat(var_dic_list()) "
    }
   },
   "types_to_exclude": [
    "module",
    "function",
    "builtin_function_or_method",
    "instance",
    "_Feature"
   ],
   "window_display": false
  }
 },
 "nbformat": 4,
 "nbformat_minor": 2
}
