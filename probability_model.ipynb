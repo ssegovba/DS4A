{
 "cells": [
  {
   "cell_type": "markdown",
   "metadata": {},
   "source": [
    "# Classification model for resignation/dismissal:\n",
    "\n",
    "Once we clean the dataset, we proceed to evaluate different models to calculate the probability that an agent leaves or would be dismissed from the company. To do this, we evaluate:\n",
    "\n",
    "1. A logistic regression model\n",
    "2. A decision tree model\n",
    "3. A random forest model\n",
    "4. A neural network model\n",
    "\n",
    "Once we compute the probabilities for each model we compare the performance between them by using the ROC's area under the curve (AUC) criteria, since our problem is a classification one."
   ]
  },
  {
   "cell_type": "markdown",
   "metadata": {},
   "source": [
    "We begin by loading the packages and the clean dataset:"
   ]
  },
  {
   "cell_type": "code",
   "execution_count": 1,
   "metadata": {},
   "outputs": [],
   "source": [
    "import pandas as pd\n",
    "import matplotlib.pyplot as plt\n",
    "import numpy as np\n",
    "import seaborn as sns\n",
    "import statsmodels.api         as sm\n",
    "import statsmodels.formula.api as smf\n",
    "from sklearn.metrics import roc_curve, auc\n",
    "\n",
    "plt.style.use('seaborn')"
   ]
  },
  {
   "cell_type": "code",
   "execution_count": 2,
   "metadata": {},
   "outputs": [],
   "source": [
    "pd.set_option('display.max_columns', None)\n",
    "datos_rf = pd.read_csv('C:/Users/ssego/Documents/Correlation One/Project/Data/DatasetClean.csv', encoding=\"utf-8\", sep=',',\n",
    "                       parse_dates=['Fecha_retiro', 'Fecha_Ingreso_Operacion'],\n",
    "                       dtype = { # indicate categorical variables\n",
    "                           'LineaNegocio': 'category',\n",
    "                           'EstadoCivil': 'category',\n",
    "                           'Genero': 'category',\n",
    "                           'Hijos': 'category',\n",
    "                           'CantidadHijos': 'category',\n",
    "                           'Estrato': 'category',\n",
    "                           'TipoVivienda': 'category',\n",
    "                           'NivelAcademico': 'category',          \n",
    "                           'TiempoExperiencia_s':'category',\n",
    "                           'TiempoTrayecto':'category'\n",
    "                       }\n",
    "                      )"
   ]
  },
  {
   "cell_type": "code",
   "execution_count": 3,
   "metadata": {},
   "outputs": [
    {
     "data": {
      "text/html": [
       "<div>\n",
       "<style scoped>\n",
       "    .dataframe tbody tr th:only-of-type {\n",
       "        vertical-align: middle;\n",
       "    }\n",
       "\n",
       "    .dataframe tbody tr th {\n",
       "        vertical-align: top;\n",
       "    }\n",
       "\n",
       "    .dataframe thead th {\n",
       "        text-align: right;\n",
       "    }\n",
       "</style>\n",
       "<table border=\"1\" class=\"dataframe\">\n",
       "  <thead>\n",
       "    <tr style=\"text-align: right;\">\n",
       "      <th></th>\n",
       "      <th>IdFuncionario</th>\n",
       "      <th>Cargo_Generico</th>\n",
       "      <th>Vr_Comision</th>\n",
       "      <th>Meta_Recaudo</th>\n",
       "      <th>Recaudo_Total</th>\n",
       "      <th>Cumpl_Individual</th>\n",
       "      <th>Cosecha_Liquidacion_x</th>\n",
       "      <th>Cosecha_Ingreso_Operacion</th>\n",
       "      <th>Fecha_Ingreso_Operacion</th>\n",
       "      <th>Fecha_retiro</th>\n",
       "      <th>LineaNegocio</th>\n",
       "      <th>Canal</th>\n",
       "      <th>Segmento</th>\n",
       "      <th>Dias_Asistencia</th>\n",
       "      <th>Dias_habiles_Mes</th>\n",
       "      <th>Ausentismo</th>\n",
       "      <th>TiempoConectado</th>\n",
       "      <th>TiempoProductivo</th>\n",
       "      <th>TiempoUtil</th>\n",
       "      <th>EstadoCivil</th>\n",
       "      <th>RH</th>\n",
       "      <th>Genero</th>\n",
       "      <th>Hijos</th>\n",
       "      <th>CantidadHijos</th>\n",
       "      <th>Localidad</th>\n",
       "      <th>Estrato</th>\n",
       "      <th>TipoVivienda</th>\n",
       "      <th>NivelAcademico</th>\n",
       "      <th>Estado</th>\n",
       "      <th>ExperienciaLab</th>\n",
       "      <th>TiempoExperiencia</th>\n",
       "      <th>TiempoExperiencia_s</th>\n",
       "      <th>Vr_Aspiracion</th>\n",
       "      <th>Perfil</th>\n",
       "      <th>TiempoTrayecto</th>\n",
       "      <th>MedioTransporte</th>\n",
       "      <th>PresentacionPersonal</th>\n",
       "      <th>Puntualidad</th>\n",
       "      <th>ExpresionVerbal</th>\n",
       "      <th>Apto</th>\n",
       "      <th>Apertura</th>\n",
       "      <th>Dialogo</th>\n",
       "      <th>Negociaciones</th>\n",
       "      <th>Cierre</th>\n",
       "      <th>Result_JuegoR</th>\n",
       "      <th>ClnNomCalf</th>\n",
       "      <th>ClnAsptCalf</th>\n",
       "      <th>ClnMejorarCalf</th>\n",
       "      <th>Result_Escucha</th>\n",
       "      <th>Result_Pond_Entrevista</th>\n",
       "      <th>Result_Pond_JuegoR</th>\n",
       "      <th>Result_Pond_Escucha</th>\n",
       "      <th>Result_total_Assess</th>\n",
       "      <th>Fortaliza1</th>\n",
       "      <th>Fortaliza2</th>\n",
       "      <th>Fortaliza3</th>\n",
       "      <th>Reconedacion1</th>\n",
       "      <th>Reconedacion2</th>\n",
       "      <th>Reconedacion3</th>\n",
       "      <th>Calificacion_Favorable</th>\n",
       "      <th>FuenteDatos</th>\n",
       "      <th>FechaNacimiento</th>\n",
       "      <th>UCN</th>\n",
       "      <th>UCP</th>\n",
       "      <th>Temporada</th>\n",
       "      <th>min_Fe_Ingreso</th>\n",
       "      <th>Fecha_Liq</th>\n",
       "      <th>Antiguedad_Meses</th>\n",
       "      <th>Fe_Retiro_Real</th>\n",
       "      <th>Retirado</th>\n",
       "      <th>max_Fe_Retiro</th>\n",
       "      <th>Retiro_3m</th>\n",
       "      <th>Retiro_6m</th>\n",
       "      <th>TiempoTrayecto_N</th>\n",
       "      <th>filter</th>\n",
       "    </tr>\n",
       "  </thead>\n",
       "  <tbody>\n",
       "    <tr>\n",
       "      <th>34</th>\n",
       "      <td>988.0</td>\n",
       "      <td>Asesor</td>\n",
       "      <td>469973.125</td>\n",
       "      <td>45600000.0</td>\n",
       "      <td>33247837.69</td>\n",
       "      <td>72.911925</td>\n",
       "      <td>201812.0</td>\n",
       "      <td>201812.0</td>\n",
       "      <td>2018-12-03</td>\n",
       "      <td>NaT</td>\n",
       "      <td>Servicing</td>\n",
       "      <td>Bancolombia</td>\n",
       "      <td>Top</td>\n",
       "      <td>16.0</td>\n",
       "      <td>20.0</td>\n",
       "      <td>0.8</td>\n",
       "      <td>152.221029</td>\n",
       "      <td>122.644393</td>\n",
       "      <td>0.805699</td>\n",
       "      <td>Divorciado</td>\n",
       "      <td>NaN</td>\n",
       "      <td>Femenino</td>\n",
       "      <td>NO</td>\n",
       "      <td>0.0</td>\n",
       "      <td>Fontibón</td>\n",
       "      <td>NaN</td>\n",
       "      <td>Alquilada</td>\n",
       "      <td>Tecnólogo</td>\n",
       "      <td>Culminado</td>\n",
       "      <td>SI</td>\n",
       "      <td>ND</td>\n",
       "      <td>Más de 36 Meses</td>\n",
       "      <td>$1,0  a  $1,5</td>\n",
       "      <td>Completo</td>\n",
       "      <td>30 Min</td>\n",
       "      <td>A Pie</td>\n",
       "      <td>3.0</td>\n",
       "      <td>SI</td>\n",
       "      <td>4.0</td>\n",
       "      <td>SI</td>\n",
       "      <td>8.0</td>\n",
       "      <td>20.0</td>\n",
       "      <td>43.2</td>\n",
       "      <td>8.0</td>\n",
       "      <td>79.2</td>\n",
       "      <td>34.0</td>\n",
       "      <td>33.0</td>\n",
       "      <td>33.0</td>\n",
       "      <td>100.0</td>\n",
       "      <td>12.0</td>\n",
       "      <td>39.6</td>\n",
       "      <td>30.0</td>\n",
       "      <td>81.6</td>\n",
       "      <td>Capacidad de Escucha</td>\n",
       "      <td>Actitud</td>\n",
       "      <td>Comunicación Asertiva</td>\n",
       "      <td>Negociación</td>\n",
       "      <td>Discurso y Diálogo</td>\n",
       "      <td>NaN</td>\n",
       "      <td>Favorable</td>\n",
       "      <td>Informacion Access</td>\n",
       "      <td>29/05/1986</td>\n",
       "      <td>NaN</td>\n",
       "      <td>NaN</td>\n",
       "      <td>1.0</td>\n",
       "      <td>2018-12-03</td>\n",
       "      <td>2018-12-01</td>\n",
       "      <td>1</td>\n",
       "      <td>NaN</td>\n",
       "      <td>0</td>\n",
       "      <td>NaN</td>\n",
       "      <td>0</td>\n",
       "      <td>0</td>\n",
       "      <td>30 Min</td>\n",
       "      <td>1</td>\n",
       "    </tr>\n",
       "    <tr>\n",
       "      <th>35</th>\n",
       "      <td>988.0</td>\n",
       "      <td>Asesor</td>\n",
       "      <td>349700.625</td>\n",
       "      <td>57000000.0</td>\n",
       "      <td>38796999.93</td>\n",
       "      <td>68.064912</td>\n",
       "      <td>201901.0</td>\n",
       "      <td>201812.0</td>\n",
       "      <td>2018-12-03</td>\n",
       "      <td>NaT</td>\n",
       "      <td>Servicing</td>\n",
       "      <td>Bancolombia</td>\n",
       "      <td>Top</td>\n",
       "      <td>18.0</td>\n",
       "      <td>20.0</td>\n",
       "      <td>0.9</td>\n",
       "      <td>174.470738</td>\n",
       "      <td>138.679386</td>\n",
       "      <td>0.794858</td>\n",
       "      <td>Divorciado</td>\n",
       "      <td>NaN</td>\n",
       "      <td>Femenino</td>\n",
       "      <td>NO</td>\n",
       "      <td>0.0</td>\n",
       "      <td>Fontibón</td>\n",
       "      <td>NaN</td>\n",
       "      <td>Alquilada</td>\n",
       "      <td>Tecnólogo</td>\n",
       "      <td>Culminado</td>\n",
       "      <td>SI</td>\n",
       "      <td>ND</td>\n",
       "      <td>Más de 36 Meses</td>\n",
       "      <td>$1,0  a  $1,5</td>\n",
       "      <td>Completo</td>\n",
       "      <td>30 Min</td>\n",
       "      <td>A Pie</td>\n",
       "      <td>3.0</td>\n",
       "      <td>SI</td>\n",
       "      <td>4.0</td>\n",
       "      <td>SI</td>\n",
       "      <td>8.0</td>\n",
       "      <td>20.0</td>\n",
       "      <td>43.2</td>\n",
       "      <td>8.0</td>\n",
       "      <td>79.2</td>\n",
       "      <td>34.0</td>\n",
       "      <td>33.0</td>\n",
       "      <td>33.0</td>\n",
       "      <td>100.0</td>\n",
       "      <td>12.0</td>\n",
       "      <td>39.6</td>\n",
       "      <td>30.0</td>\n",
       "      <td>81.6</td>\n",
       "      <td>Capacidad de Escucha</td>\n",
       "      <td>Actitud</td>\n",
       "      <td>Comunicación Asertiva</td>\n",
       "      <td>Negociación</td>\n",
       "      <td>Discurso y Diálogo</td>\n",
       "      <td>NaN</td>\n",
       "      <td>Favorable</td>\n",
       "      <td>Informacion Access</td>\n",
       "      <td>29/05/1986</td>\n",
       "      <td>0.0</td>\n",
       "      <td>54.0</td>\n",
       "      <td>2.0</td>\n",
       "      <td>2018-12-01</td>\n",
       "      <td>2019-01-01</td>\n",
       "      <td>2</td>\n",
       "      <td>NaN</td>\n",
       "      <td>0</td>\n",
       "      <td>NaN</td>\n",
       "      <td>0</td>\n",
       "      <td>0</td>\n",
       "      <td>30 Min</td>\n",
       "      <td>1</td>\n",
       "    </tr>\n",
       "  </tbody>\n",
       "</table>\n",
       "</div>"
      ],
      "text/plain": [
       "    IdFuncionario Cargo_Generico  Vr_Comision  Meta_Recaudo  Recaudo_Total  \\\n",
       "34          988.0         Asesor   469973.125    45600000.0    33247837.69   \n",
       "35          988.0         Asesor   349700.625    57000000.0    38796999.93   \n",
       "\n",
       "    Cumpl_Individual  Cosecha_Liquidacion_x  Cosecha_Ingreso_Operacion  \\\n",
       "34         72.911925               201812.0                   201812.0   \n",
       "35         68.064912               201901.0                   201812.0   \n",
       "\n",
       "   Fecha_Ingreso_Operacion Fecha_retiro LineaNegocio        Canal Segmento  \\\n",
       "34              2018-12-03          NaT    Servicing  Bancolombia      Top   \n",
       "35              2018-12-03          NaT    Servicing  Bancolombia      Top   \n",
       "\n",
       "    Dias_Asistencia  Dias_habiles_Mes  Ausentismo  TiempoConectado  \\\n",
       "34             16.0              20.0         0.8       152.221029   \n",
       "35             18.0              20.0         0.9       174.470738   \n",
       "\n",
       "    TiempoProductivo  TiempoUtil EstadoCivil   RH    Genero Hijos  \\\n",
       "34        122.644393    0.805699  Divorciado  NaN  Femenino    NO   \n",
       "35        138.679386    0.794858  Divorciado  NaN  Femenino    NO   \n",
       "\n",
       "   CantidadHijos Localidad Estrato TipoVivienda NivelAcademico     Estado  \\\n",
       "34           0.0  Fontibón     NaN    Alquilada      Tecnólogo  Culminado   \n",
       "35           0.0  Fontibón     NaN    Alquilada      Tecnólogo  Culminado   \n",
       "\n",
       "   ExperienciaLab TiempoExperiencia TiempoExperiencia_s  Vr_Aspiracion  \\\n",
       "34             SI                ND     Más de 36 Meses  $1,0  a  $1,5   \n",
       "35             SI                ND     Más de 36 Meses  $1,0  a  $1,5   \n",
       "\n",
       "      Perfil TiempoTrayecto MedioTransporte  PresentacionPersonal Puntualidad  \\\n",
       "34  Completo         30 Min           A Pie                   3.0          SI   \n",
       "35  Completo         30 Min           A Pie                   3.0          SI   \n",
       "\n",
       "    ExpresionVerbal Apto  Apertura  Dialogo  Negociaciones  Cierre  \\\n",
       "34              4.0   SI       8.0     20.0           43.2     8.0   \n",
       "35              4.0   SI       8.0     20.0           43.2     8.0   \n",
       "\n",
       "    Result_JuegoR  ClnNomCalf  ClnAsptCalf  ClnMejorarCalf  Result_Escucha  \\\n",
       "34           79.2        34.0         33.0            33.0           100.0   \n",
       "35           79.2        34.0         33.0            33.0           100.0   \n",
       "\n",
       "    Result_Pond_Entrevista  Result_Pond_JuegoR  Result_Pond_Escucha  \\\n",
       "34                    12.0                39.6                 30.0   \n",
       "35                    12.0                39.6                 30.0   \n",
       "\n",
       "    Result_total_Assess            Fortaliza1 Fortaliza2  \\\n",
       "34                 81.6  Capacidad de Escucha    Actitud   \n",
       "35                 81.6  Capacidad de Escucha    Actitud   \n",
       "\n",
       "               Fortaliza3 Reconedacion1       Reconedacion2 Reconedacion3  \\\n",
       "34  Comunicación Asertiva   Negociación  Discurso y Diálogo           NaN   \n",
       "35  Comunicación Asertiva   Negociación  Discurso y Diálogo           NaN   \n",
       "\n",
       "   Calificacion_Favorable         FuenteDatos FechaNacimiento  UCN   UCP  \\\n",
       "34              Favorable  Informacion Access      29/05/1986  NaN   NaN   \n",
       "35              Favorable  Informacion Access      29/05/1986  0.0  54.0   \n",
       "\n",
       "    Temporada min_Fe_Ingreso   Fecha_Liq  Antiguedad_Meses Fe_Retiro_Real  \\\n",
       "34        1.0     2018-12-03  2018-12-01                 1            NaN   \n",
       "35        2.0     2018-12-01  2019-01-01                 2            NaN   \n",
       "\n",
       "    Retirado max_Fe_Retiro  Retiro_3m  Retiro_6m TiempoTrayecto_N  filter  \n",
       "34         0           NaN          0          0           30 Min       1  \n",
       "35         0           NaN          0          0           30 Min       1  "
      ]
     },
     "execution_count": 3,
     "metadata": {},
     "output_type": "execute_result"
    }
   ],
   "source": [
    "datos_rf[datos_rf['filter']==1].head(2)"
   ]
  },
  {
   "cell_type": "code",
   "execution_count": 4,
   "metadata": {},
   "outputs": [],
   "source": [
    "datos_rf['Edad_Meses']        = (pd.to_datetime(datos_rf['Fecha_Liq']).dt.to_period('M').astype(int) - pd.to_datetime(datos_rf['FechaNacimiento']).dt.to_period('M').astype(int))\n",
    "datos_rf['Edad_Anos']         = datos_rf['Edad_Meses'].apply(lambda x:int(x/12))\n",
    "datos_rf['CantidadHijos']     = datos_rf['CantidadHijos'].replace(['-1.0'],['0.0'])\n",
    "datos_rf['TiempoExperiencia'] = datos_rf['TiempoExperiencia'].replace(['ND'],[0])\n",
    "datos_rf['TiempoExperiencia'] = datos_rf['TiempoExperiencia'].astype(str).astype(float)"
   ]
  },
  {
   "cell_type": "code",
   "execution_count": 5,
   "metadata": {},
   "outputs": [],
   "source": [
    "datos_rf['dummy_goal'] = 0\n",
    "datos_rf.loc[datos_rf[datos_rf['Cumpl_Individual']<=0.1].index,'dummy_goal'] = 1"
   ]
  },
  {
   "cell_type": "code",
   "execution_count": 6,
   "metadata": {},
   "outputs": [],
   "source": [
    "datos_rf = datos_rf[(~datos_rf['Cumpl_Individual'].isnull()) & (datos_rf['Edad_Anos']>=18)]"
   ]
  },
  {
   "cell_type": "code",
   "execution_count": 7,
   "metadata": {},
   "outputs": [],
   "source": [
    "datos_rf_filter = datos_rf[(datos_rf['filter']==1)]"
   ]
  },
  {
   "cell_type": "markdown",
   "metadata": {},
   "source": [
    "### I. Logistic regression model:"
   ]
  },
  {
   "cell_type": "markdown",
   "metadata": {},
   "source": [
    "Like explained on the EDA section, the company send us two different kinds of datasets. The first one has roughly 3.000 registers (`datos_rf_filter`), whilst the second has nearly 10.000 registers (`datos_rf`). However, despite the numerous observations of the latter dataset, this one only has performance variables (*e.g.* how much the agents are expected to recover during a certain month, how was this goal fulfilled, among others). The 3.000 observations dataset has valuable sociodemographic information such as the gender, where does the agent lives, among others.\n",
    "\n",
    "Given the lack of information of the bigger dataset, we first proceed to run the regression with `datos_rf_filter` dataset. Our dependent variable would be `Retiro_3m`, which identifies an agent dismissal/resignation 3 months ahead on when it actually left the company.\n",
    "\n",
    "The **first** model would evaluate a lot of variables, from which we are going to select the statistically significant latter on:"
   ]
  },
  {
   "cell_type": "code",
   "execution_count": 8,
   "metadata": {},
   "outputs": [
    {
     "name": "stdout",
     "output_type": "stream",
     "text": [
      "Optimization terminated successfully.\n",
      "         Current function value: 0.383884\n",
      "         Iterations 8\n"
     ]
    },
    {
     "data": {
      "text/html": [
       "<table class=\"simpletable\">\n",
       "<caption>Logit Regression Results</caption>\n",
       "<tr>\n",
       "  <th>Dep. Variable:</th>       <td>Retiro_3m</td>    <th>  No. Observations:  </th>   <td>  3250</td>  \n",
       "</tr>\n",
       "<tr>\n",
       "  <th>Model:</th>                 <td>Logit</td>      <th>  Df Residuals:      </th>   <td>  3226</td>  \n",
       "</tr>\n",
       "<tr>\n",
       "  <th>Method:</th>                 <td>MLE</td>       <th>  Df Model:          </th>   <td>    23</td>  \n",
       "</tr>\n",
       "<tr>\n",
       "  <th>Date:</th>            <td>Tue, 24 Aug 2021</td> <th>  Pseudo R-squ.:     </th>   <td>0.1959</td>  \n",
       "</tr>\n",
       "<tr>\n",
       "  <th>Time:</th>                <td>17:17:56</td>     <th>  Log-Likelihood:    </th>  <td> -1247.6</td> \n",
       "</tr>\n",
       "<tr>\n",
       "  <th>converged:</th>             <td>True</td>       <th>  LL-Null:           </th>  <td> -1551.6</td> \n",
       "</tr>\n",
       "<tr>\n",
       "  <th>Covariance Type:</th>     <td>nonrobust</td>    <th>  LLR p-value:       </th> <td>1.019e-113</td>\n",
       "</tr>\n",
       "</table>\n",
       "<table class=\"simpletable\">\n",
       "<tr>\n",
       "                     <td></td>                        <th>coef</th>     <th>std err</th>      <th>z</th>      <th>P>|z|</th>  <th>[0.025</th>    <th>0.975]</th>  \n",
       "</tr>\n",
       "<tr>\n",
       "  <th>Intercept</th>                               <td>    1.3349</td> <td>    0.484</td> <td>    2.759</td> <td> 0.006</td> <td>    0.386</td> <td>    2.283</td>\n",
       "</tr>\n",
       "<tr>\n",
       "  <th>LineaNegocio[T.Npls]</th>                    <td>   -0.0479</td> <td>    0.242</td> <td>   -0.198</td> <td> 0.843</td> <td>   -0.522</td> <td>    0.426</td>\n",
       "</tr>\n",
       "<tr>\n",
       "  <th>LineaNegocio[T.Servicing]</th>               <td>   -0.2072</td> <td>    0.241</td> <td>   -0.860</td> <td> 0.390</td> <td>   -0.679</td> <td>    0.265</td>\n",
       "</tr>\n",
       "<tr>\n",
       "  <th>EstadoCivil[T.Divorciado]</th>               <td>    0.1102</td> <td>    0.489</td> <td>    0.225</td> <td> 0.822</td> <td>   -0.849</td> <td>    1.069</td>\n",
       "</tr>\n",
       "<tr>\n",
       "  <th>EstadoCivil[T.Soltero]</th>                  <td>   -0.1948</td> <td>    0.216</td> <td>   -0.902</td> <td> 0.367</td> <td>   -0.618</td> <td>    0.229</td>\n",
       "</tr>\n",
       "<tr>\n",
       "  <th>EstadoCivil[T.Unión Libre]</th>              <td>   -0.2024</td> <td>    0.225</td> <td>   -0.899</td> <td> 0.369</td> <td>   -0.644</td> <td>    0.239</td>\n",
       "</tr>\n",
       "<tr>\n",
       "  <th>EstadoCivil[T.Viudo]</th>                    <td>    3.1706</td> <td>    1.138</td> <td>    2.785</td> <td> 0.005</td> <td>    0.939</td> <td>    5.402</td>\n",
       "</tr>\n",
       "<tr>\n",
       "  <th>Genero[T.Masculino]</th>                     <td>    0.2578</td> <td>    0.118</td> <td>    2.194</td> <td> 0.028</td> <td>    0.028</td> <td>    0.488</td>\n",
       "</tr>\n",
       "<tr>\n",
       "  <th>CantidadHijos[T.1.0]</th>                    <td>    0.1382</td> <td>    0.135</td> <td>    1.025</td> <td> 0.305</td> <td>   -0.126</td> <td>    0.402</td>\n",
       "</tr>\n",
       "<tr>\n",
       "  <th>CantidadHijos[T.2.0]</th>                    <td>    0.3709</td> <td>    0.190</td> <td>    1.952</td> <td> 0.051</td> <td>   -0.002</td> <td>    0.743</td>\n",
       "</tr>\n",
       "<tr>\n",
       "  <th>CantidadHijos[T.3.0]</th>                    <td>   -0.2119</td> <td>    0.327</td> <td>   -0.649</td> <td> 0.517</td> <td>   -0.852</td> <td>    0.428</td>\n",
       "</tr>\n",
       "<tr>\n",
       "  <th>CantidadHijos[T.4.0]</th>                    <td>    1.1837</td> <td>    0.784</td> <td>    1.511</td> <td> 0.131</td> <td>   -0.352</td> <td>    2.720</td>\n",
       "</tr>\n",
       "<tr>\n",
       "  <th>TipoVivienda[T.Familiar]</th>                <td>    0.1881</td> <td>    0.118</td> <td>    1.591</td> <td> 0.112</td> <td>   -0.044</td> <td>    0.420</td>\n",
       "</tr>\n",
       "<tr>\n",
       "  <th>TipoVivienda[T.Propia]</th>                  <td>    0.2684</td> <td>    0.180</td> <td>    1.495</td> <td> 0.135</td> <td>   -0.084</td> <td>    0.620</td>\n",
       "</tr>\n",
       "<tr>\n",
       "  <th>NivelAcademico[T.Profesional]</th>           <td>   -0.1242</td> <td>    0.141</td> <td>   -0.880</td> <td> 0.379</td> <td>   -0.401</td> <td>    0.152</td>\n",
       "</tr>\n",
       "<tr>\n",
       "  <th>NivelAcademico[T.Sin Estudios Formales]</th> <td>   -0.0115</td> <td>    0.881</td> <td>   -0.013</td> <td> 0.990</td> <td>   -1.738</td> <td>    1.715</td>\n",
       "</tr>\n",
       "<tr>\n",
       "  <th>NivelAcademico[T.Tecnólogo]</th>             <td>   -0.4362</td> <td>    0.168</td> <td>   -2.592</td> <td> 0.010</td> <td>   -0.766</td> <td>   -0.106</td>\n",
       "</tr>\n",
       "<tr>\n",
       "  <th>NivelAcademico[T.Técnico]</th>               <td>   -0.2298</td> <td>    0.132</td> <td>   -1.736</td> <td> 0.083</td> <td>   -0.489</td> <td>    0.030</td>\n",
       "</tr>\n",
       "<tr>\n",
       "  <th>Vr_Comision</th>                             <td>-1.036e-07</td> <td> 2.81e-07</td> <td>   -0.369</td> <td> 0.712</td> <td>-6.55e-07</td> <td> 4.47e-07</td>\n",
       "</tr>\n",
       "<tr>\n",
       "  <th>Cumpl_Individual</th>                        <td>   -0.0326</td> <td>    0.003</td> <td>  -12.836</td> <td> 0.000</td> <td>   -0.038</td> <td>   -0.028</td>\n",
       "</tr>\n",
       "<tr>\n",
       "  <th>TiempoUtil</th>                              <td>    0.0046</td> <td>    0.306</td> <td>    0.015</td> <td> 0.988</td> <td>   -0.595</td> <td>    0.605</td>\n",
       "</tr>\n",
       "<tr>\n",
       "  <th>TiempoExperiencia</th>                       <td>    0.0245</td> <td>    0.019</td> <td>    1.303</td> <td> 0.193</td> <td>   -0.012</td> <td>    0.061</td>\n",
       "</tr>\n",
       "<tr>\n",
       "  <th>Antiguedad_Meses</th>                        <td>   -0.0323</td> <td>    0.008</td> <td>   -3.813</td> <td> 0.000</td> <td>   -0.049</td> <td>   -0.016</td>\n",
       "</tr>\n",
       "<tr>\n",
       "  <th>Edad_Anos</th>                               <td>   -0.0261</td> <td>    0.011</td> <td>   -2.335</td> <td> 0.020</td> <td>   -0.048</td> <td>   -0.004</td>\n",
       "</tr>\n",
       "</table>"
      ],
      "text/plain": [
       "<class 'statsmodels.iolib.summary.Summary'>\n",
       "\"\"\"\n",
       "                           Logit Regression Results                           \n",
       "==============================================================================\n",
       "Dep. Variable:              Retiro_3m   No. Observations:                 3250\n",
       "Model:                          Logit   Df Residuals:                     3226\n",
       "Method:                           MLE   Df Model:                           23\n",
       "Date:                Tue, 24 Aug 2021   Pseudo R-squ.:                  0.1959\n",
       "Time:                        17:17:56   Log-Likelihood:                -1247.6\n",
       "converged:                       True   LL-Null:                       -1551.6\n",
       "Covariance Type:            nonrobust   LLR p-value:                1.019e-113\n",
       "===========================================================================================================\n",
       "                                              coef    std err          z      P>|z|      [0.025      0.975]\n",
       "-----------------------------------------------------------------------------------------------------------\n",
       "Intercept                                   1.3349      0.484      2.759      0.006       0.386       2.283\n",
       "LineaNegocio[T.Npls]                       -0.0479      0.242     -0.198      0.843      -0.522       0.426\n",
       "LineaNegocio[T.Servicing]                  -0.2072      0.241     -0.860      0.390      -0.679       0.265\n",
       "EstadoCivil[T.Divorciado]                   0.1102      0.489      0.225      0.822      -0.849       1.069\n",
       "EstadoCivil[T.Soltero]                     -0.1948      0.216     -0.902      0.367      -0.618       0.229\n",
       "EstadoCivil[T.Unión Libre]                 -0.2024      0.225     -0.899      0.369      -0.644       0.239\n",
       "EstadoCivil[T.Viudo]                        3.1706      1.138      2.785      0.005       0.939       5.402\n",
       "Genero[T.Masculino]                         0.2578      0.118      2.194      0.028       0.028       0.488\n",
       "CantidadHijos[T.1.0]                        0.1382      0.135      1.025      0.305      -0.126       0.402\n",
       "CantidadHijos[T.2.0]                        0.3709      0.190      1.952      0.051      -0.002       0.743\n",
       "CantidadHijos[T.3.0]                       -0.2119      0.327     -0.649      0.517      -0.852       0.428\n",
       "CantidadHijos[T.4.0]                        1.1837      0.784      1.511      0.131      -0.352       2.720\n",
       "TipoVivienda[T.Familiar]                    0.1881      0.118      1.591      0.112      -0.044       0.420\n",
       "TipoVivienda[T.Propia]                      0.2684      0.180      1.495      0.135      -0.084       0.620\n",
       "NivelAcademico[T.Profesional]              -0.1242      0.141     -0.880      0.379      -0.401       0.152\n",
       "NivelAcademico[T.Sin Estudios Formales]    -0.0115      0.881     -0.013      0.990      -1.738       1.715\n",
       "NivelAcademico[T.Tecnólogo]                -0.4362      0.168     -2.592      0.010      -0.766      -0.106\n",
       "NivelAcademico[T.Técnico]                  -0.2298      0.132     -1.736      0.083      -0.489       0.030\n",
       "Vr_Comision                             -1.036e-07   2.81e-07     -0.369      0.712   -6.55e-07    4.47e-07\n",
       "Cumpl_Individual                           -0.0326      0.003    -12.836      0.000      -0.038      -0.028\n",
       "TiempoUtil                                  0.0046      0.306      0.015      0.988      -0.595       0.605\n",
       "TiempoExperiencia                           0.0245      0.019      1.303      0.193      -0.012       0.061\n",
       "Antiguedad_Meses                           -0.0323      0.008     -3.813      0.000      -0.049      -0.016\n",
       "Edad_Anos                                  -0.0261      0.011     -2.335      0.020      -0.048      -0.004\n",
       "===========================================================================================================\n",
       "\"\"\""
      ]
     },
     "execution_count": 8,
     "metadata": {},
     "output_type": "execute_result"
    }
   ],
   "source": [
    "logit_model_all = smf.logit(formula='Retiro_3m ~ Vr_Comision + Cumpl_Individual + LineaNegocio + TiempoUtil + EstadoCivil + Genero + CantidadHijos + TipoVivienda + NivelAcademico + TiempoExperiencia + Antiguedad_Meses + Edad_Anos',data=datos_rf_filter).fit()\n",
    "logit_model_all.summary()"
   ]
  },
  {
   "cell_type": "markdown",
   "metadata": {},
   "source": [
    "We could get some interesting insights from this particular model. First of all, it appears that most of the variables are not statistically significant. On the contrary, it seems that the variables related to goal fulfillment (`Cumpl_Individual`), seniority (`Antiguedad_Meses`), age (`Edad_Anos`) and gender (`Genero`) explain to some extent the decision to leave the company.\n",
    "\n",
    "Given this results, we could run a **second** model just considering this factors:"
   ]
  },
  {
   "cell_type": "code",
   "execution_count": 9,
   "metadata": {},
   "outputs": [
    {
     "name": "stdout",
     "output_type": "stream",
     "text": [
      "Optimization terminated successfully.\n",
      "         Current function value: 0.390218\n",
      "         Iterations 7\n"
     ]
    },
    {
     "data": {
      "text/html": [
       "<table class=\"simpletable\">\n",
       "<caption>Logit Regression Results</caption>\n",
       "<tr>\n",
       "  <th>Dep. Variable:</th>       <td>Retiro_3m</td>    <th>  No. Observations:  </th>   <td>  3250</td>  \n",
       "</tr>\n",
       "<tr>\n",
       "  <th>Model:</th>                 <td>Logit</td>      <th>  Df Residuals:      </th>   <td>  3245</td>  \n",
       "</tr>\n",
       "<tr>\n",
       "  <th>Method:</th>                 <td>MLE</td>       <th>  Df Model:          </th>   <td>     4</td>  \n",
       "</tr>\n",
       "<tr>\n",
       "  <th>Date:</th>            <td>Tue, 24 Aug 2021</td> <th>  Pseudo R-squ.:     </th>   <td>0.1826</td>  \n",
       "</tr>\n",
       "<tr>\n",
       "  <th>Time:</th>                <td>17:17:57</td>     <th>  Log-Likelihood:    </th>  <td> -1268.2</td> \n",
       "</tr>\n",
       "<tr>\n",
       "  <th>converged:</th>             <td>True</td>       <th>  LL-Null:           </th>  <td> -1551.6</td> \n",
       "</tr>\n",
       "<tr>\n",
       "  <th>Covariance Type:</th>     <td>nonrobust</td>    <th>  LLR p-value:       </th> <td>2.476e-121</td>\n",
       "</tr>\n",
       "</table>\n",
       "<table class=\"simpletable\">\n",
       "<tr>\n",
       "           <td></td>              <th>coef</th>     <th>std err</th>      <th>z</th>      <th>P>|z|</th>  <th>[0.025</th>    <th>0.975]</th>  \n",
       "</tr>\n",
       "<tr>\n",
       "  <th>Intercept</th>           <td>    0.6268</td> <td>    0.259</td> <td>    2.421</td> <td> 0.015</td> <td>    0.119</td> <td>    1.134</td>\n",
       "</tr>\n",
       "<tr>\n",
       "  <th>Genero[T.Masculino]</th> <td>    0.2558</td> <td>    0.104</td> <td>    2.452</td> <td> 0.014</td> <td>    0.051</td> <td>    0.460</td>\n",
       "</tr>\n",
       "<tr>\n",
       "  <th>Cumpl_Individual</th>    <td>   -0.0325</td> <td>    0.002</td> <td>  -18.001</td> <td> 0.000</td> <td>   -0.036</td> <td>   -0.029</td>\n",
       "</tr>\n",
       "<tr>\n",
       "  <th>Antiguedad_Meses</th>    <td>   -0.0376</td> <td>    0.008</td> <td>   -4.455</td> <td> 0.000</td> <td>   -0.054</td> <td>   -0.021</td>\n",
       "</tr>\n",
       "<tr>\n",
       "  <th>Edad_Anos</th>           <td>   -0.0079</td> <td>    0.009</td> <td>   -0.932</td> <td> 0.351</td> <td>   -0.025</td> <td>    0.009</td>\n",
       "</tr>\n",
       "</table>"
      ],
      "text/plain": [
       "<class 'statsmodels.iolib.summary.Summary'>\n",
       "\"\"\"\n",
       "                           Logit Regression Results                           \n",
       "==============================================================================\n",
       "Dep. Variable:              Retiro_3m   No. Observations:                 3250\n",
       "Model:                          Logit   Df Residuals:                     3245\n",
       "Method:                           MLE   Df Model:                            4\n",
       "Date:                Tue, 24 Aug 2021   Pseudo R-squ.:                  0.1826\n",
       "Time:                        17:17:57   Log-Likelihood:                -1268.2\n",
       "converged:                       True   LL-Null:                       -1551.6\n",
       "Covariance Type:            nonrobust   LLR p-value:                2.476e-121\n",
       "=======================================================================================\n",
       "                          coef    std err          z      P>|z|      [0.025      0.975]\n",
       "---------------------------------------------------------------------------------------\n",
       "Intercept               0.6268      0.259      2.421      0.015       0.119       1.134\n",
       "Genero[T.Masculino]     0.2558      0.104      2.452      0.014       0.051       0.460\n",
       "Cumpl_Individual       -0.0325      0.002    -18.001      0.000      -0.036      -0.029\n",
       "Antiguedad_Meses       -0.0376      0.008     -4.455      0.000      -0.054      -0.021\n",
       "Edad_Anos              -0.0079      0.009     -0.932      0.351      -0.025       0.009\n",
       "=======================================================================================\n",
       "\"\"\""
      ]
     },
     "execution_count": 9,
     "metadata": {},
     "output_type": "execute_result"
    }
   ],
   "source": [
    "logit_model_sig = smf.logit(formula='Retiro_3m ~ Cumpl_Individual + Genero + Antiguedad_Meses + Edad_Anos',data=datos_rf_filter).fit()\n",
    "logit_model_sig.summary()"
   ]
  },
  {
   "cell_type": "markdown",
   "metadata": {},
   "source": [
    "As we could see, almost all the variables are statistically significant, except for `Edad_Anos`. To explore a litlle further why this could happen we plot the distribution of the variable between classes, finding that there is no apparent difference between both groups:"
   ]
  },
  {
   "cell_type": "code",
   "execution_count": 10,
   "metadata": {},
   "outputs": [
    {
     "data": {
      "image/png": "[encoded data removed]",
      "text/plain": [
       "<Figure size 576x396 with 1 Axes>"
      ]
     },
     "metadata": {},
     "output_type": "display_data"
    }
   ],
   "source": [
    "sns.boxplot(x = 'Retiro_3m', y = 'Edad_Anos', data = datos_rf_filter)\n",
    "plt.xlabel(\"Employees that left the company\", size=14)\n",
    "plt.ylabel(\"Employee Age\", size=14)\n",
    "plt.title(\"Age Distribution Among Groups of Employees\",size=15);"
   ]
  },
  {
   "cell_type": "markdown",
   "metadata": {},
   "source": [
    "The analysis conducted on the EDA section validate some of the results found in the model. However, there is one that could be explored a little bit further by capturing some non-linearities in the model. In particular, the histograms of `Cumpl_Individual` showed that there could be a level from which we could differentiate the behaviour from dismissed employees and the others:"
   ]
  },
  {
   "cell_type": "code",
   "execution_count": 11,
   "metadata": {},
   "outputs": [
    {
     "data": {
      "image/png": "[encoded data removed]",
      "text/plain": [
       "<Figure size 576x432 with 1 Axes>"
      ]
     },
     "metadata": {},
     "output_type": "display_data"
    }
   ],
   "source": [
    "plt.figure(figsize=(8,6))\n",
    "plt.hist(datos_rf_filter[(datos_rf_filter['Retirado']==0)].Cumpl_Individual, bins=100, alpha=0.5, label=\"Active\")\n",
    "plt.hist(datos_rf_filter[(datos_rf_filter['Retirado']==1)].Cumpl_Individual, bins=100, alpha=0.5, label=\"Dismissed/Resigned\")\n",
    "\n",
    "plt.xlabel(\"Goal Fulfillment (%)\", size=14)\n",
    "plt.ylabel(\"Count\", size=14)\n",
    "plt.title(\"Histogram of goal fulfillment by state of the agents\")\n",
    "plt.legend(loc='upper right');"
   ]
  },
  {
   "cell_type": "markdown",
   "metadata": {},
   "source": [
    "For instance, we could explore in a **third** model if an employee with a goal fulfillment less than 10% a month has a greater probability of dismissal/resignation:"
   ]
  },
  {
   "cell_type": "code",
   "execution_count": 12,
   "metadata": {},
   "outputs": [
    {
     "name": "stdout",
     "output_type": "stream",
     "text": [
      "Optimization terminated successfully.\n",
      "         Current function value: 0.389790\n",
      "         Iterations 7\n"
     ]
    },
    {
     "data": {
      "text/html": [
       "<table class=\"simpletable\">\n",
       "<caption>Logit Regression Results</caption>\n",
       "<tr>\n",
       "  <th>Dep. Variable:</th>       <td>Retiro_3m</td>    <th>  No. Observations:  </th>   <td>  3250</td>  \n",
       "</tr>\n",
       "<tr>\n",
       "  <th>Model:</th>                 <td>Logit</td>      <th>  Df Residuals:      </th>   <td>  3245</td>  \n",
       "</tr>\n",
       "<tr>\n",
       "  <th>Method:</th>                 <td>MLE</td>       <th>  Df Model:          </th>   <td>     4</td>  \n",
       "</tr>\n",
       "<tr>\n",
       "  <th>Date:</th>            <td>Tue, 24 Aug 2021</td> <th>  Pseudo R-squ.:     </th>   <td>0.1835</td>  \n",
       "</tr>\n",
       "<tr>\n",
       "  <th>Time:</th>                <td>17:17:57</td>     <th>  Log-Likelihood:    </th>  <td> -1266.8</td> \n",
       "</tr>\n",
       "<tr>\n",
       "  <th>converged:</th>             <td>True</td>       <th>  LL-Null:           </th>  <td> -1551.6</td> \n",
       "</tr>\n",
       "<tr>\n",
       "  <th>Covariance Type:</th>     <td>nonrobust</td>    <th>  LLR p-value:       </th> <td>6.181e-122</td>\n",
       "</tr>\n",
       "</table>\n",
       "<table class=\"simpletable\">\n",
       "<tr>\n",
       "           <td></td>              <th>coef</th>     <th>std err</th>      <th>z</th>      <th>P>|z|</th>  <th>[0.025</th>    <th>0.975]</th>  \n",
       "</tr>\n",
       "<tr>\n",
       "  <th>Intercept</th>           <td>    0.3283</td> <td>    0.112</td> <td>    2.933</td> <td> 0.003</td> <td>    0.109</td> <td>    0.548</td>\n",
       "</tr>\n",
       "<tr>\n",
       "  <th>Genero[T.Masculino]</th> <td>    0.2652</td> <td>    0.104</td> <td>    2.539</td> <td> 0.011</td> <td>    0.060</td> <td>    0.470</td>\n",
       "</tr>\n",
       "<tr>\n",
       "  <th>Cumpl_Individual</th>    <td>   -0.0312</td> <td>    0.002</td> <td>  -16.222</td> <td> 0.000</td> <td>   -0.035</td> <td>   -0.027</td>\n",
       "</tr>\n",
       "<tr>\n",
       "  <th>dummy_goal</th>          <td>    0.4629</td> <td>    0.246</td> <td>    1.885</td> <td> 0.059</td> <td>   -0.018</td> <td>    0.944</td>\n",
       "</tr>\n",
       "<tr>\n",
       "  <th>Antiguedad_Meses</th>    <td>   -0.0391</td> <td>    0.008</td> <td>   -4.636</td> <td> 0.000</td> <td>   -0.056</td> <td>   -0.023</td>\n",
       "</tr>\n",
       "</table>"
      ],
      "text/plain": [
       "<class 'statsmodels.iolib.summary.Summary'>\n",
       "\"\"\"\n",
       "                           Logit Regression Results                           \n",
       "==============================================================================\n",
       "Dep. Variable:              Retiro_3m   No. Observations:                 3250\n",
       "Model:                          Logit   Df Residuals:                     3245\n",
       "Method:                           MLE   Df Model:                            4\n",
       "Date:                Tue, 24 Aug 2021   Pseudo R-squ.:                  0.1835\n",
       "Time:                        17:17:57   Log-Likelihood:                -1266.8\n",
       "converged:                       True   LL-Null:                       -1551.6\n",
       "Covariance Type:            nonrobust   LLR p-value:                6.181e-122\n",
       "=======================================================================================\n",
       "                          coef    std err          z      P>|z|      [0.025      0.975]\n",
       "---------------------------------------------------------------------------------------\n",
       "Intercept               0.3283      0.112      2.933      0.003       0.109       0.548\n",
       "Genero[T.Masculino]     0.2652      0.104      2.539      0.011       0.060       0.470\n",
       "Cumpl_Individual       -0.0312      0.002    -16.222      0.000      -0.035      -0.027\n",
       "dummy_goal              0.4629      0.246      1.885      0.059      -0.018       0.944\n",
       "Antiguedad_Meses       -0.0391      0.008     -4.636      0.000      -0.056      -0.023\n",
       "=======================================================================================\n",
       "\"\"\""
      ]
     },
     "execution_count": 12,
     "metadata": {},
     "output_type": "execute_result"
    }
   ],
   "source": [
    "logit_model_dum = smf.logit(formula='Retiro_3m ~ Cumpl_Individual + dummy_goal + Genero + Antiguedad_Meses',data=datos_rf_filter).fit()\n",
    "logit_model_dum.summary()"
   ]
  },
  {
   "cell_type": "markdown",
   "metadata": {},
   "source": [
    "Given the model, we could say that, on average, being a man increases the odds of leaving the company. Furthermore, greater levels of goal fulfillment and more seniority diminish the odds of leaving the company, although achieving a goal less than 10% greatly increases the odds of leaving the company. It is also interesting to note that some of these relationships were expected given the EDA conducted before, and we could also exploit even more this analysis by capturing some non-linearities.\n",
    "\n",
    "When we compare the AIC criteria from the differente models we could see that this one exhibits the best behaviour:\n",
    "\n",
    "|Model|AIC|Pseudo R-squared|\n",
    "|---|---|---|\n",
    "|All variables|2568.96|0.1930|\n",
    "|Only significant|2566.17|0.1818|\n",
    "|Goal fulfillment dummy|2564.65|0.1829|"
   ]
  },
  {
   "cell_type": "markdown",
   "metadata": {},
   "source": [
    "Given that most of the statistically significant variables are available in the non-filtered dataset (`datos_rf`), we also fit the model using this dataset and comparing its AIC with the others:"
   ]
  },
  {
   "cell_type": "code",
   "execution_count": 13,
   "metadata": {},
   "outputs": [
    {
     "name": "stdout",
     "output_type": "stream",
     "text": [
      "Optimization terminated successfully.\n",
      "         Current function value: 0.299181\n",
      "         Iterations 8\n"
     ]
    },
    {
     "data": {
      "text/html": [
       "<table class=\"simpletable\">\n",
       "<caption>Logit Regression Results</caption>\n",
       "<tr>\n",
       "  <th>Dep. Variable:</th>       <td>Retiro_3m</td>    <th>  No. Observations:  </th>  <td>  9678</td> \n",
       "</tr>\n",
       "<tr>\n",
       "  <th>Model:</th>                 <td>Logit</td>      <th>  Df Residuals:      </th>  <td>  9674</td> \n",
       "</tr>\n",
       "<tr>\n",
       "  <th>Method:</th>                 <td>MLE</td>       <th>  Df Model:          </th>  <td>     3</td> \n",
       "</tr>\n",
       "<tr>\n",
       "  <th>Date:</th>            <td>Tue, 24 Aug 2021</td> <th>  Pseudo R-squ.:     </th>  <td>0.2060</td> \n",
       "</tr>\n",
       "<tr>\n",
       "  <th>Time:</th>                <td>17:17:57</td>     <th>  Log-Likelihood:    </th> <td> -2895.5</td>\n",
       "</tr>\n",
       "<tr>\n",
       "  <th>converged:</th>             <td>True</td>       <th>  LL-Null:           </th> <td> -3646.9</td>\n",
       "</tr>\n",
       "<tr>\n",
       "  <th>Covariance Type:</th>     <td>nonrobust</td>    <th>  LLR p-value:       </th>  <td> 0.000</td> \n",
       "</tr>\n",
       "</table>\n",
       "<table class=\"simpletable\">\n",
       "<tr>\n",
       "          <td></td>            <th>coef</th>     <th>std err</th>      <th>z</th>      <th>P>|z|</th>  <th>[0.025</th>    <th>0.975]</th>  \n",
       "</tr>\n",
       "<tr>\n",
       "  <th>Intercept</th>        <td>    1.0105</td> <td>    0.172</td> <td>    5.888</td> <td> 0.000</td> <td>    0.674</td> <td>    1.347</td>\n",
       "</tr>\n",
       "<tr>\n",
       "  <th>Cumpl_Individual</th> <td>   -0.0305</td> <td>    0.001</td> <td>  -27.218</td> <td> 0.000</td> <td>   -0.033</td> <td>   -0.028</td>\n",
       "</tr>\n",
       "<tr>\n",
       "  <th>Antiguedad_Meses</th> <td>   -0.0278</td> <td>    0.002</td> <td>  -11.627</td> <td> 0.000</td> <td>   -0.033</td> <td>   -0.023</td>\n",
       "</tr>\n",
       "<tr>\n",
       "  <th>Edad_Anos</th>        <td>   -0.0217</td> <td>    0.006</td> <td>   -3.739</td> <td> 0.000</td> <td>   -0.033</td> <td>   -0.010</td>\n",
       "</tr>\n",
       "</table>"
      ],
      "text/plain": [
       "<class 'statsmodels.iolib.summary.Summary'>\n",
       "\"\"\"\n",
       "                           Logit Regression Results                           \n",
       "==============================================================================\n",
       "Dep. Variable:              Retiro_3m   No. Observations:                 9678\n",
       "Model:                          Logit   Df Residuals:                     9674\n",
       "Method:                           MLE   Df Model:                            3\n",
       "Date:                Tue, 24 Aug 2021   Pseudo R-squ.:                  0.2060\n",
       "Time:                        17:17:57   Log-Likelihood:                -2895.5\n",
       "converged:                       True   LL-Null:                       -3646.9\n",
       "Covariance Type:            nonrobust   LLR p-value:                     0.000\n",
       "====================================================================================\n",
       "                       coef    std err          z      P>|z|      [0.025      0.975]\n",
       "------------------------------------------------------------------------------------\n",
       "Intercept            1.0105      0.172      5.888      0.000       0.674       1.347\n",
       "Cumpl_Individual    -0.0305      0.001    -27.218      0.000      -0.033      -0.028\n",
       "Antiguedad_Meses    -0.0278      0.002    -11.627      0.000      -0.033      -0.023\n",
       "Edad_Anos           -0.0217      0.006     -3.739      0.000      -0.033      -0.010\n",
       "====================================================================================\n",
       "\"\"\""
      ]
     },
     "execution_count": 13,
     "metadata": {},
     "output_type": "execute_result"
    }
   ],
   "source": [
    "logit_model_whole_df = smf.logit(formula='Retiro_3m ~ Cumpl_Individual + Antiguedad_Meses + Edad_Anos',data=datos_rf).fit()\n",
    "logit_model_whole_df.summary()"
   ]
  },
  {
   "cell_type": "code",
   "execution_count": 14,
   "metadata": {},
   "outputs": [
    {
     "data": {
      "text/plain": [
       "5798.946081213758"
      ]
     },
     "execution_count": 14,
     "metadata": {},
     "output_type": "execute_result"
    }
   ],
   "source": [
    "logit_model_whole_df.aic"
   ]
  },
  {
   "cell_type": "markdown",
   "metadata": {},
   "source": [
    "As it turns out, this model performs badly compared with the filtered one in terms of AIC criteria. To determine another useful criteria of comparison we retrieve the predicted values of both models (filtered and whole dataset) to assess their performance using the ROC's area under the curve:"
   ]
  },
  {
   "cell_type": "code",
   "execution_count": 15,
   "metadata": {},
   "outputs": [],
   "source": [
    "#filtered df:\n",
    "f_logit_predict = logit_model_dum.predict()\n",
    "f_roc_logit     = roc_curve(datos_rf_filter['Retiro_3m'],f_logit_predict)\n",
    "f_auc_logit     = auc(f_roc_logit[0],f_roc_logit[1])\n",
    "\n",
    "#whole df:\n",
    "w_logit_predict = logit_model_whole_df.predict()\n",
    "w_roc_logit_all = roc_curve(datos_rf['Retiro_3m'],w_logit_predict)\n",
    "w_auc_logit_all = auc(w_roc_logit_all[0],w_roc_logit_all[1])"
   ]
  },
  {
   "cell_type": "code",
   "execution_count": 16,
   "metadata": {},
   "outputs": [
    {
     "data": {
      "image/png": "[encoded data removed]",
      "text/plain": [
       "<Figure size 1080x360 with 1 Axes>"
      ]
     },
     "metadata": {},
     "output_type": "display_data"
    }
   ],
   "source": [
    "plt.figure(figsize=(15,5))\n",
    "line_width = 2\n",
    "plt.plot(f_roc_logit[0], f_roc_logit[1], color='orange', lw=line_width,\n",
    "         label=f\"ROC from logit of filtered dataset (AUC = {f_auc_logit:0.3f})\")\n",
    "# plt.plot(w_roc_logit_all[0], w_roc_logit_all[1], color='red', lw=line_width,\n",
    "#          label=f\"ROC from logit of whole dataset (AUC = {w_auc_logit_all:0.3f})\")\n",
    "\n",
    "plt.plot([0, 1], [0, 1], color='navy', lw=line_width, linestyle='--', label='Random guess')\n",
    "plt.xlim([0.0, 1.0])\n",
    "plt.ylim([0.0, 1.05])\n",
    "plt.xlabel('False Positive Rate')\n",
    "plt.ylabel('True Positive Rate')\n",
    "plt.title('Classification of Employees Between Active/Dismissed')\n",
    "plt.legend(loc='lower right');"
   ]
  },
  {
   "cell_type": "code",
   "execution_count": 17,
   "metadata": {},
   "outputs": [],
   "source": [
    "#https://realpython.com/logistic-regression-python/#beyond-logistic-regression-in-python"
   ]
  },
  {
   "cell_type": "code",
   "execution_count": 18,
   "metadata": {},
   "outputs": [
    {
     "data": {
      "text/plain": [
       "Index(['IdFuncionario', 'Cargo_Generico', 'Vr_Comision', 'Meta_Recaudo',\n",
       "       'Recaudo_Total', 'Cumpl_Individual', 'Cosecha_Liquidacion_x',\n",
       "       'Cosecha_Ingreso_Operacion', 'Fecha_Ingreso_Operacion', 'Fecha_retiro',\n",
       "       'LineaNegocio', 'Canal', 'Segmento', 'Dias_Asistencia',\n",
       "       'Dias_habiles_Mes', 'Ausentismo', 'TiempoConectado', 'TiempoProductivo',\n",
       "       'TiempoUtil', 'EstadoCivil', 'RH', 'Genero', 'Hijos', 'CantidadHijos',\n",
       "       'Localidad', 'Estrato', 'TipoVivienda', 'NivelAcademico', 'Estado',\n",
       "       'ExperienciaLab', 'TiempoExperiencia', 'TiempoExperiencia_s',\n",
       "       'Vr_Aspiracion', 'Perfil', 'TiempoTrayecto', 'MedioTransporte',\n",
       "       'PresentacionPersonal', 'Puntualidad', 'ExpresionVerbal', 'Apto',\n",
       "       'Apertura', 'Dialogo', 'Negociaciones', 'Cierre', 'Result_JuegoR',\n",
       "       'ClnNomCalf', 'ClnAsptCalf', 'ClnMejorarCalf', 'Result_Escucha',\n",
       "       'Result_Pond_Entrevista', 'Result_Pond_JuegoR', 'Result_Pond_Escucha',\n",
       "       'Result_total_Assess', 'Fortaliza1', 'Fortaliza2', 'Fortaliza3',\n",
       "       'Reconedacion1', 'Reconedacion2', 'Reconedacion3',\n",
       "       'Calificacion_Favorable', 'FuenteDatos', 'FechaNacimiento', 'UCN',\n",
       "       'UCP', 'Temporada', 'min_Fe_Ingreso', 'Fecha_Liq', 'Antiguedad_Meses',\n",
       "       'Fe_Retiro_Real', 'Retirado', 'max_Fe_Retiro', 'Retiro_3m', 'Retiro_6m',\n",
       "       'TiempoTrayecto_N', 'filter', 'Edad_Meses', 'Edad_Anos', 'dummy_goal'],\n",
       "      dtype='object')"
      ]
     },
     "execution_count": 18,
     "metadata": {},
     "output_type": "execute_result"
    }
   ],
   "source": [
    "datos_rf_filter.columns"
   ]
  },
  {
   "cell_type": "code",
   "execution_count": 19,
   "metadata": {},
   "outputs": [
    {
     "name": "stderr",
     "output_type": "stream",
     "text": [
      "<ipython-input-19-bcff299bf37d>:1: SettingWithCopyWarning: \n",
      "A value is trying to be set on a copy of a slice from a DataFrame.\n",
      "Try using .loc[row_indexer,col_indexer] = value instead\n",
      "\n",
      "See the caveats in the documentation: https://pandas.pydata.org/pandas-docs/stable/user_guide/indexing.html#returning-a-view-versus-a-copy\n",
      "  datos_rf_filter['label_ret'] = np.where(datos_rf_filter['Retirado']==0,'Active','Dismissed')\n"
     ]
    }
   ],
   "source": [
    "datos_rf_filter['label_ret'] = np.where(datos_rf_filter['Retirado']==0,'Active','Dismissed')"
   ]
  },
  {
   "cell_type": "code",
   "execution_count": 20,
   "metadata": {},
   "outputs": [
    {
     "data": {
      "text/plain": [
       "Text(0, 0.5, 'Employee Tenure')"
      ]
     },
     "execution_count": 20,
     "metadata": {},
     "output_type": "execute_result"
    },
    {
     "data": {
      "image/png": "[encoded data removed]",
      "text/plain": [
       "<Figure size 576x396 with 1 Axes>"
      ]
     },
     "metadata": {},
     "output_type": "display_data"
    }
   ],
   "source": [
    "sns.violinplot(x = 'label_ret', y = 'Antiguedad_Meses', data = datos_rf_filter[datos_rf_filter['Antiguedad_Meses']>=0])\n",
    "plt.xlabel(\"\")\n",
    "plt.ylabel(\"Employee Tenure\", size=14)"
   ]
  }
 ],
 "metadata": {
  "kernelspec": {
   "display_name": "Python 3",
   "language": "python",
   "name": "python3"
  },
  "language_info": {
   "codemirror_mode": {
    "name": "ipython",
    "version": 3
   },
   "file_extension": ".py",
   "mimetype": "text/x-python",
   "name": "python",
   "nbconvert_exporter": "python",
   "pygments_lexer": "ipython3",
   "version": "3.8.5"
  },
  "varInspector": {
   "cols": {
    "lenName": 16,
    "lenType": 16,
    "lenVar": 40
   },
   "kernels_config": {
    "python": {
     "delete_cmd_postfix": "",
     "delete_cmd_prefix": "del ",
     "library": "var_list.py",
     "varRefreshCmd": "print(var_dic_list())"
    },
    "r": {
     "delete_cmd_postfix": ") ",
     "delete_cmd_prefix": "rm(",
     "library": "var_list.r",
     "varRefreshCmd": "cat(var_dic_list()) "
    }
   },
   "types_to_exclude": [
    "module",
    "function",
    "builtin_function_or_method",
    "instance",
    "_Feature"
   ],
   "window_display": false
  }
 },
 "nbformat": 4,
 "nbformat_minor": 5
}
